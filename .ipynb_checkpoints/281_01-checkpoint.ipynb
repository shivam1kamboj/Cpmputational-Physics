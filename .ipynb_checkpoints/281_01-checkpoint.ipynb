{
 "cells": [
  {
   "cell_type": "code",
   "execution_count": 1,
   "id": "3870894a",
   "metadata": {},
   "outputs": [],
   "source": [
    "import numpy as np\n",
    "import random as rd\n",
    "import matplotlib.pyplot as plt"
   ]
  },
  {
   "cell_type": "code",
   "execution_count": 2,
   "id": "c76ec780",
   "metadata": {
    "scrolled": false
   },
   "outputs": [],
   "source": [
    "mylist_0 = []\n",
    "for i in range(100):\n",
    "    i=np.random.randint(0,100)\n",
    "    mylist_0.append(i)\n",
    "#     print(mylist_0)"
   ]
  },
  {
   "cell_type": "code",
   "execution_count": 3,
   "id": "9db0c5ab",
   "metadata": {},
   "outputs": [
    {
     "name": "stdout",
     "output_type": "stream",
     "text": [
      "2\n",
      "4\n",
      "15\n",
      "71\n"
     ]
    }
   ],
   "source": [
    "Maxx = mylist_0[3]\n",
    "indexx=[]\n",
    "for ii in range(2, 100):\n",
    "    if(mylist_0[ii] > Maxx):\n",
    "        Maxx = mylist_0[ii]\n",
    "        indexx=(ii)\n",
    "        print(indexx)"
   ]
  },
  {
   "cell_type": "code",
   "execution_count": 4,
   "id": "141fe23a",
   "metadata": {},
   "outputs": [
    {
     "name": "stdout",
     "output_type": "stream",
     "text": [
      "100\n",
      "(100,)\n"
     ]
    }
   ],
   "source": [
    "print(np.size(mylist_0))\n",
    "print(np.shape(mylist_0))\n"
   ]
  },
  {
   "cell_type": "code",
   "execution_count": 5,
   "id": "89643fd4",
   "metadata": {},
   "outputs": [
    {
     "name": "stdout",
     "output_type": "stream",
     "text": [
      "[7, 10, 4, 8, 2, 1, 3, 5, 1, 4, 5, 7, 7, 7, 6, 7, 6, 5, 2, 5, 9, 8, 4, 4, 1, 9, 5, 2, 3, 3, 1, 4, 8, 9, 9, 7, 3, 2, 8, 9, 2, 8, 9, 1, 1, 8, 9, 2, 5, 8, 4, 1, 9, 3, 9, 3, 9, 1, 10, 10, 9, 3, 4, 5, 7, 2, 4, 5, 3, 8, 3, 3, 9, 4, 2, 6, 1, 5, 7, 4, 10, 4, 6, 4, 2, 5, 8, 6, 5, 4, 7, 7, 8, 3, 1, 1, 6, 7, 6, 4]\n"
     ]
    }
   ],
   "source": [
    "mylist_1 = []\n",
    "for i in range(100):\n",
    "    i=rd.randint(1,10)\n",
    "    mylist_1.append(i)\n",
    "print(mylist_1)"
   ]
  },
  {
   "cell_type": "code",
   "execution_count": 6,
   "id": "e0adbb71",
   "metadata": {},
   "outputs": [
    {
     "name": "stdout",
     "output_type": "stream",
     "text": [
      "100\n",
      "(100,)\n"
     ]
    }
   ],
   "source": [
    "print(np.size(mylist_1))\n",
    "print(np.shape(mylist_1))"
   ]
  },
  {
   "cell_type": "code",
   "execution_count": 7,
   "id": "eb790557",
   "metadata": {},
   "outputs": [
    {
     "name": "stdout",
     "output_type": "stream",
     "text": [
      "[67, 10, 97, 56, 86, 86, 73, 20, 26, 25, 80, 39, 49, 31, 2, 99, 91, 44, 1, 46, 65, 47, 70, 66, 68, 18, 67, 10, 71, 13, 93, 76, 86, 79, 68, 48, 68, 92, 32, 42, 43, 16, 80, 33, 67, 8, 46, 70, 53, 71, 53, 60, 21, 26, 95, 35, 65, 94, 59, 65, 30, 85, 72, 1, 98, 64, 68, 69, 92, 22, 20, 30, 68, 13, 70, 39, 1, 19, 83, 53, 55, 47, 39, 62, 96, 8, 5, 54, 16, 64, 51, 47, 77, 76, 17, 68, 30, 72, 36, 98]\n"
     ]
    }
   ],
   "source": [
    "mylist = []\n",
    "for i in range(100):\n",
    "    i=np.random.randint(0,100)\n",
    "    mylist.append(i)\n",
    "print(mylist)"
   ]
  },
  {
   "cell_type": "code",
   "execution_count": 15,
   "id": "1dcf3557",
   "metadata": {},
   "outputs": [
    {
     "name": "stdout",
     "output_type": "stream",
     "text": [
      "2\n",
      "15\n"
     ]
    }
   ],
   "source": [
    "Max = mylist[3]\n",
    "for ii in range(2, 100):\n",
    "    if(mylist[ii] > Max):\n",
    "        Max = mylist[ii]\n",
    "        index=(ii)\n",
    "        print(index)"
   ]
  },
  {
   "cell_type": "code",
   "execution_count": 9,
   "id": "62a1b5ab",
   "metadata": {},
   "outputs": [
    {
     "name": "stdout",
     "output_type": "stream",
     "text": [
      "100\n",
      "(100,)\n"
     ]
    }
   ],
   "source": [
    "print(np.size(mylist))\n",
    "print(np.shape(mylist))\n"
   ]
  },
  {
   "cell_type": "code",
   "execution_count": 10,
   "id": "ee9ff425",
   "metadata": {},
   "outputs": [
    {
     "name": "stdout",
     "output_type": "stream",
     "text": [
      "100\n",
      "(100,)\n"
     ]
    },
    {
     "data": {
      "text/plain": [
       "array([ 0,  1,  2,  3,  4,  5,  6,  7,  8,  9, 10, 11, 12, 13, 14, 15, 16,\n",
       "       17, 18, 19, 20, 21, 22, 23, 24, 25, 26, 27, 28, 29, 30, 31, 32, 33,\n",
       "       34, 35, 36, 37, 38, 39, 40, 41, 42, 43, 44, 45, 46, 47, 48, 49, 50,\n",
       "       51, 52, 53, 54, 55, 56, 57, 58, 59, 60, 61, 62, 63, 64, 65, 66, 67,\n",
       "       68, 69, 70, 71, 72, 73, 74, 75, 76, 77, 78, 79, 80, 81, 82, 83, 84,\n",
       "       85, 86, 87, 88, 89, 90, 91, 92, 93, 94, 95, 96, 97, 98, 99])"
      ]
     },
     "execution_count": 10,
     "metadata": {},
     "output_type": "execute_result"
    }
   ],
   "source": [
    "k=np.array(list(range(100)))\n",
    "print(np.size(k))\n",
    "print(np.shape(k))\n",
    "k"
   ]
  },
  {
   "cell_type": "code",
   "execution_count": 11,
   "id": "2c890298",
   "metadata": {},
   "outputs": [
    {
     "name": "stdout",
     "output_type": "stream",
     "text": [
      "93\n",
      "94\n",
      "95\n",
      "96\n",
      "97\n",
      "98\n",
      "99\n"
     ]
    }
   ],
   "source": [
    "Max = k[92]\n",
    "for ii in range(2, 100):\n",
    "    if(k[ii] > Max):\n",
    "        Max = k[ii]\n",
    "        index=ii\n",
    "        print(index)"
   ]
  },
  {
   "cell_type": "code",
   "execution_count": 12,
   "id": "ec55ea24",
   "metadata": {},
   "outputs": [
    {
     "ename": "TypeError",
     "evalue": "'>' not supported between instances of 'int' and 'builtin_function_or_method'",
     "output_type": "error",
     "traceback": [
      "\u001b[0;31m---------------------------------------------------------------------------\u001b[0m",
      "\u001b[0;31mTypeError\u001b[0m                                 Traceback (most recent call last)",
      "\u001b[0;32m/var/folders/17/4b5kng3d39d6_71tlmnc18nm0000gn/T/ipykernel_18380/4192785297.py\u001b[0m in \u001b[0;36m<module>\u001b[0;34m\u001b[0m\n\u001b[1;32m      1\u001b[0m \u001b[0;32mfor\u001b[0m \u001b[0mii\u001b[0m \u001b[0;32min\u001b[0m \u001b[0mrange\u001b[0m\u001b[0;34m(\u001b[0m\u001b[0;36m100\u001b[0m\u001b[0;34m)\u001b[0m\u001b[0;34m:\u001b[0m\u001b[0;34m\u001b[0m\u001b[0;34m\u001b[0m\u001b[0m\n\u001b[0;32m----> 2\u001b[0;31m     \u001b[0;32mif\u001b[0m\u001b[0;34m(\u001b[0m\u001b[0mk\u001b[0m\u001b[0;34m[\u001b[0m\u001b[0mii\u001b[0m\u001b[0;34m]\u001b[0m \u001b[0;34m>\u001b[0m \u001b[0mmax\u001b[0m\u001b[0;34m)\u001b[0m\u001b[0;34m:\u001b[0m\u001b[0;34m\u001b[0m\u001b[0;34m\u001b[0m\u001b[0m\n\u001b[0m\u001b[1;32m      3\u001b[0m         \u001b[0mmax\u001b[0m \u001b[0;34m=\u001b[0m \u001b[0mk\u001b[0m\u001b[0;34m[\u001b[0m\u001b[0mii\u001b[0m\u001b[0;34m]\u001b[0m\u001b[0;34m\u001b[0m\u001b[0;34m\u001b[0m\u001b[0m\n\u001b[1;32m      4\u001b[0m         \u001b[0mprint\u001b[0m\u001b[0;34m(\u001b[0m\u001b[0mmax\u001b[0m\u001b[0;34m)\u001b[0m\u001b[0;34m\u001b[0m\u001b[0;34m\u001b[0m\u001b[0m\n",
      "\u001b[0;31mTypeError\u001b[0m: '>' not supported between instances of 'int' and 'builtin_function_or_method'"
     ]
    }
   ],
   "source": [
    "for ii in range(100):\n",
    "    if(k[ii] > max):\n",
    "        max = k[ii]\n",
    "        print(max)"
   ]
  },
  {
   "cell_type": "code",
   "execution_count": 13,
   "id": "6ac96a4a",
   "metadata": {},
   "outputs": [
    {
     "ename": "TypeError",
     "evalue": "'>' not supported between instances of 'int' and 'builtin_function_or_method'",
     "output_type": "error",
     "traceback": [
      "\u001b[0;31m---------------------------------------------------------------------------\u001b[0m",
      "\u001b[0;31mTypeError\u001b[0m                                 Traceback (most recent call last)",
      "\u001b[0;32m/var/folders/17/4b5kng3d39d6_71tlmnc18nm0000gn/T/ipykernel_18380/67458184.py\u001b[0m in \u001b[0;36m<module>\u001b[0;34m\u001b[0m\n\u001b[1;32m      1\u001b[0m \u001b[0;32mfor\u001b[0m \u001b[0mii\u001b[0m \u001b[0;32min\u001b[0m \u001b[0mrange\u001b[0m\u001b[0;34m(\u001b[0m\u001b[0;36m100\u001b[0m\u001b[0;34m)\u001b[0m\u001b[0;34m:\u001b[0m\u001b[0;34m\u001b[0m\u001b[0;34m\u001b[0m\u001b[0m\n\u001b[0;32m----> 2\u001b[0;31m     \u001b[0;32mif\u001b[0m\u001b[0;34m(\u001b[0m\u001b[0mk\u001b[0m\u001b[0;34m[\u001b[0m\u001b[0mii\u001b[0m\u001b[0;34m]\u001b[0m \u001b[0;34m>\u001b[0m \u001b[0mmax\u001b[0m\u001b[0;34m)\u001b[0m\u001b[0;34m:\u001b[0m\u001b[0;34m\u001b[0m\u001b[0;34m\u001b[0m\u001b[0m\n\u001b[0m\u001b[1;32m      3\u001b[0m         \u001b[0mmax\u001b[0m \u001b[0;34m=\u001b[0m \u001b[0mk\u001b[0m\u001b[0;34m[\u001b[0m\u001b[0mii\u001b[0m\u001b[0;34m]\u001b[0m\u001b[0;34m\u001b[0m\u001b[0;34m\u001b[0m\u001b[0m\n\u001b[1;32m      4\u001b[0m         \u001b[0mindex\u001b[0m\u001b[0;34m=\u001b[0m\u001b[0mii\u001b[0m\u001b[0;34m\u001b[0m\u001b[0;34m\u001b[0m\u001b[0m\n\u001b[1;32m      5\u001b[0m         \u001b[0mprint\u001b[0m\u001b[0;34m(\u001b[0m\u001b[0mindex\u001b[0m\u001b[0;34m)\u001b[0m\u001b[0;34m\u001b[0m\u001b[0;34m\u001b[0m\u001b[0m\n",
      "\u001b[0;31mTypeError\u001b[0m: '>' not supported between instances of 'int' and 'builtin_function_or_method'"
     ]
    }
   ],
   "source": [
    "for ii in range(100):\n",
    "    if(k[ii] > max):\n",
    "        max = k[ii]\n",
    "        index=ii\n",
    "        print(index)"
   ]
  },
  {
   "cell_type": "code",
   "execution_count": 14,
   "id": "0ceaa050",
   "metadata": {},
   "outputs": [
    {
     "name": "stdout",
     "output_type": "stream",
     "text": [
      "91\n",
      "92\n",
      "93\n",
      "94\n",
      "95\n",
      "96\n",
      "97\n",
      "98\n",
      "99\n"
     ]
    }
   ],
   "source": [
    "Max = k[90]\n",
    "for ii in range(2, 100):\n",
    "    if(k[ii] > Max):\n",
    "        Max = k[ii]\n",
    "        index = ii\n",
    "        print(index)"
   ]
  },
  {
   "cell_type": "code",
   "execution_count": 40,
   "id": "ae542f0e",
   "metadata": {
    "scrolled": false
   },
   "outputs": [
    {
     "name": "stdout",
     "output_type": "stream",
     "text": [
      "(5, 20, 3)\n",
      "300\n",
      "[[[58 38 43]\n",
      "  [ 4 32 74]\n",
      "  [47 80 47]\n",
      "  [59 75 56]\n",
      "  [37 38 35]\n",
      "  [35 41 20]\n",
      "  [ 1 62 14]\n",
      "  [46 82 83]\n",
      "  [43 85 85]\n",
      "  [69 95 13]\n",
      "  [12  1 85]\n",
      "  [45 67 61]\n",
      "  [90 30  4]\n",
      "  [72 10 51]\n",
      "  [46 51 43]\n",
      "  [27 23 12]\n",
      "  [51 41  8]\n",
      "  [47 78 70]\n",
      "  [ 8 63 36]\n",
      "  [86 84 33]]\n",
      "\n",
      " [[61  5 49]\n",
      "  [29 62 65]\n",
      "  [13 52 75]\n",
      "  [40 96 28]\n",
      "  [82 64 31]\n",
      "  [80 12 97]\n",
      "  [39 38  6]\n",
      "  [34 25 18]\n",
      "  [31 75 70]\n",
      "  [20 34 76]\n",
      "  [50  5 90]\n",
      "  [13 19 48]\n",
      "  [14 15 94]\n",
      "  [60 56 76]\n",
      "  [ 6 77 58]\n",
      "  [26 57 98]\n",
      "  [61 96 39]\n",
      "  [72 44 98]\n",
      "  [85 63 50]\n",
      "  [44 95 70]]\n",
      "\n",
      " [[10 81 44]\n",
      "  [52 22 73]\n",
      "  [31 88 14]\n",
      "  [62 41 37]\n",
      "  [13 39 24]\n",
      "  [79 95 85]\n",
      "  [12 94 30]\n",
      "  [33 80 62]\n",
      "  [25 12 54]\n",
      "  [53  1 14]\n",
      "  [74 53 10]\n",
      "  [44  7 17]\n",
      "  [52 57 41]\n",
      "  [92 95 55]\n",
      "  [84 52 59]\n",
      "  [35 11 89]\n",
      "  [57 81 26]\n",
      "  [82 65 89]\n",
      "  [76 26 74]\n",
      "  [84 76 66]]\n",
      "\n",
      " [[16 92 78]\n",
      "  [71 65 67]\n",
      "  [92 35 61]\n",
      "  [32 22 19]\n",
      "  [43 16 77]\n",
      "  [ 6 28 87]\n",
      "  [22 72 66]\n",
      "  [17 43 20]\n",
      "  [75 29 73]\n",
      "  [65 49 11]\n",
      "  [70 24 73]\n",
      "  [20 78 69]\n",
      "  [ 2 83 73]\n",
      "  [ 4 63 44]\n",
      "  [91  2 46]\n",
      "  [49 94 24]\n",
      "  [11 11 41]\n",
      "  [39 58 80]\n",
      "  [49 59 98]\n",
      "  [63  8  9]]\n",
      "\n",
      " [[88 78 46]\n",
      "  [59 41 34]\n",
      "  [55 68 14]\n",
      "  [51  3 99]\n",
      "  [73 33 20]\n",
      "  [ 2 32 99]\n",
      "  [ 7 55 30]\n",
      "  [20 13 68]\n",
      "  [37 62 50]\n",
      "  [49 64 12]\n",
      "  [36 94 79]\n",
      "  [25  6 92]\n",
      "  [98  3 23]\n",
      "  [72 66 85]\n",
      "  [ 2 51 36]\n",
      "  [94 78 32]\n",
      "  [17 23 26]\n",
      "  [91 17 49]\n",
      "  [49 73  8]\n",
      "  [19  7 61]]]\n"
     ]
    }
   ],
   "source": [
    "p=np.array(np.random.randint(1,100,(5,20,3)))\n",
    "print(np.shape(p))\n",
    "print(np.size(p))\n",
    "print(p)"
   ]
  },
  {
   "cell_type": "code",
   "execution_count": 74,
   "id": "ef08a575",
   "metadata": {},
   "outputs": [
    {
     "name": "stdout",
     "output_type": "stream",
     "text": [
      "(5, 20)\n",
      "100\n",
      "[[21 85 13 68 18 67 53 91 46 51 39 99 50 25 52 96  6 36 97 31]\n",
      " [98  8 21 52 55 49 18 42  7 29 66 28 94 51  8 70 72 75  5 93]\n",
      " [36 58 73 13 89 52 21 11 27 86 70 71 84 52 54 26 66 44 19 47]\n",
      " [37 84 72 21 46 68  7  6 48 47 63  3 96 74 42 79 17 22 29 86]\n",
      " [97 17 15 43 30 57  8 40 58 23 81 45 88 63 89 62 58 24 56 33]]\n"
     ]
    }
   ],
   "source": [
    "q=np.array(np.random.randint(1,100,(5,20)))\n",
    "print(np.shape(q))\n",
    "print(np.size(q))\n",
    "print(q)"
   ]
  },
  {
   "cell_type": "code",
   "execution_count": 78,
   "id": "d12a3a6f",
   "metadata": {},
   "outputs": [
    {
     "name": "stdout",
     "output_type": "stream",
     "text": [
      "(2, 2)\n"
     ]
    }
   ],
   "source": [
    "Max = 7\n",
    "for i in range(2, 5):\n",
    "    if(q[i,i] > Max):\n",
    "        Max = q[i,i]\n",
    "        index = i,i\n",
    "        print(index)"
   ]
  },
  {
   "cell_type": "code",
   "execution_count": null,
   "id": "42e94507",
   "metadata": {},
   "outputs": [],
   "source": []
  }
 ],
 "metadata": {
  "kernelspec": {
   "display_name": "Python 3 (ipykernel)",
   "language": "python",
   "name": "python3"
  },
  "language_info": {
   "codemirror_mode": {
    "name": "ipython",
    "version": 3
   },
   "file_extension": ".py",
   "mimetype": "text/x-python",
   "name": "python",
   "nbconvert_exporter": "python",
   "pygments_lexer": "ipython3",
   "version": "3.7.6"
  }
 },
 "nbformat": 4,
 "nbformat_minor": 5
}
