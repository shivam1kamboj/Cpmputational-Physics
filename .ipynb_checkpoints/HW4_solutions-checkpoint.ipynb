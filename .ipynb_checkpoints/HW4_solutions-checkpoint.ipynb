{
 "cells": [
  {
   "cell_type": "markdown",
   "metadata": {},
   "source": [
    "# PHYS 181/281, Fall 2022, Prof. David Strubbe, UC Merced\n",
    "# HW #4 Solutions"
   ]
  },
  {
   "cell_type": "code",
   "execution_count": 11,
   "metadata": {},
   "outputs": [],
   "source": [
    "from numpy import exp, linspace, array, zeros as zeroes, empty, matmul\n",
    "from pylab import plot, show, xlabel, ylabel, xlim\n",
    "from numpy.linalg import solve\n",
    "from banded import banded"
   ]
  },
  {
   "cell_type": "markdown",
   "metadata": {},
   "source": [
    "# 1: Newman 6.7"
   ]
  },
  {
   "cell_type": "markdown",
   "metadata": {},
   "source": [
    "# 1a)\n",
    "\n",
    "\\begin{align}\n",
    "%V_1 = V_+ + I_{A,0} R \\\\\n",
    "%V_2 = V_+ + I_{B,1} R \\\\\n",
    "%V_3 = V_1 + I_{B,2} R \\\\\n",
    "%0 = -I_{A,0} + I_{C,1} + I_{B,2} \\\\\n",
    "%0 = -I_{B,1} - I_{C,1} + I_{A,2} \\\\\n",
    "%0 = -I_{B,2} - I_{A,2} + I_{C,3} \\\\\n",
    "\\end{align}\n",
    "\n",
    "$A \\vec{v} = \\vec{w}$, where $A$ is an $N \\times N$ matrix and $\\vec{v}, \\vec{w}$ are vectors of size $N$, with elements\n",
    "\\begin{align}\n",
    "a_{i,i-2} = -1 \\\\\n",
    "a_{i,i-1} = -1 \\\\\n",
    "a_{i,i} = 4 \\\\\n",
    "a_{i,i-2} = 1 \\\\\n",
    "a_{i,i-1} = 1 \\\\\n",
    "w_{i} = 0\n",
    "\\end{align}\n",
    "for each of the elements that exists (i.e. when $i-1 < 1$ ignore it), except the special cases\n",
    "\\begin{align}\n",
    "a_{1,1} = 3 \\\\\n",
    "a_{N,N} = 3 \\\\\n",
    "w_{1} = V_+\n",
    "\\end{align}"
   ]
  },
  {
   "cell_type": "markdown",
   "metadata": {},
   "source": [
    "# 1b)"
   ]
  },
  {
   "cell_type": "code",
   "execution_count": 15,
   "metadata": {},
   "outputs": [
    {
     "name": "stdout",
     "output_type": "stream",
     "text": [
      "[[ 3 -1 -1  0  0  0]\n",
      " [-1  4 -1 -1  0  0]\n",
      " [-1 -1  4 -1 -1  0]\n",
      " [ 0 -1 -1  4 -1 -1]\n",
      " [ 0  0 -1 -1  4 -1]\n",
      " [ 0  0  0 -1 -1  3]]\n",
      "[5 0 0 0 0 0]\n"
     ]
    }
   ],
   "source": [
    "AA = array([[3,-1,-1,0,0,0],\n",
    "            [-1,4,-1,-1,0,0],\n",
    "            [-1,-1,4,-1,-1,0],\n",
    "            [0,-1,-1,4,-1,-1],\n",
    "            [0,0,-1,-1,4,-1],\n",
    "            [0,0,0,-1,-1,3]])\n",
    "ww = array([5,0,0,0,0,0])\n",
    "print(AA)\n",
    "print(ww)"
   ]
  },
  {
   "cell_type": "code",
   "execution_count": 16,
   "metadata": {},
   "outputs": [
    {
     "name": "stdout",
     "output_type": "stream",
     "text": [
      "[2.5188537  1.2066365  1.34992459 0.95776772 0.71644042 0.55806938]\n"
     ]
    }
   ],
   "source": [
    "vv = solve(AA, ww)\n",
    "print(vv)"
   ]
  },
  {
   "cell_type": "code",
   "execution_count": 17,
   "metadata": {},
   "outputs": [
    {
     "data": {
      "text/plain": [
       "8.881784197001252e-16"
      ]
     },
     "execution_count": 17,
     "metadata": {},
     "output_type": "execute_result"
    }
   ],
   "source": [
    "max(abs(matmul(AA, vv) - ww))"
   ]
  },
  {
   "cell_type": "markdown",
   "metadata": {},
   "source": [
    "# 1c)"
   ]
  },
  {
   "cell_type": "code",
   "execution_count": 21,
   "metadata": {},
   "outputs": [],
   "source": [
    "def create_matrix(NN):\n",
    "    AA = zeroes([NN, NN])\n",
    "    AA[0, 0:3] = [3, -1, -1]\n",
    "    AA[1, 0:4] = [-1, 4, -1, -1]\n",
    "    for ii in range(2,NN-2):\n",
    "        AA[ii,ii-2:ii+3] = [-1, -1, 4, -1, -1]\n",
    "    AA[NN-2, NN-4:NN] = [-1, -1, 4, -1]\n",
    "    AA[NN-1, NN-3:NN] = [-1, -1, 3]\n",
    "    return AA\n",
    "\n",
    "def create_vector(NN):\n",
    "    ww = zeroes([NN])\n",
    "    ww[0] = 5\n",
    "    return ww"
   ]
  },
  {
   "cell_type": "code",
   "execution_count": 22,
   "metadata": {},
   "outputs": [
    {
     "name": "stdout",
     "output_type": "stream",
     "text": [
      "[2.5188537  1.2066365  1.34992459 0.95776772 0.71644042 0.55806938]\n"
     ]
    },
    {
     "data": {
      "text/plain": [
       "array([ 0.00000000e+00,  8.88178420e-16, -8.88178420e-16,  0.00000000e+00,\n",
       "        6.66133815e-16, -1.11022302e-16])"
      ]
     },
     "execution_count": 22,
     "metadata": {},
     "output_type": "execute_result"
    }
   ],
   "source": [
    "AA = create_matrix(6)\n",
    "ww = create_vector(6)\n",
    "vv = solve(AA, ww)\n",
    "print(vv)\n",
    "matmul(AA, vv) - ww"
   ]
  },
  {
   "cell_type": "code",
   "execution_count": 24,
   "metadata": {},
   "outputs": [
    {
     "name": "stdout",
     "output_type": "stream",
     "text": [
      "[[ 3. -1. -1.  0.  0.  0.  0.]\n",
      " [-1.  4. -1. -1.  0.  0.  0.]\n",
      " [-1. -1.  4. -1. -1.  0.  0.]\n",
      " [ 0. -1. -1.  4. -1. -1.  0.]\n",
      " [ 0.  0. -1. -1.  4. -1. -1.]\n",
      " [ 0.  0.  0. -1. -1.  4. -1.]\n",
      " [ 0.  0.  0.  0. -1. -1.  3.]]\n",
      "[5. 0. 0. 0. 0. 0. 0.]\n",
      "[5. 0. 0. 0. 0. 0. 0.]\n"
     ]
    },
    {
     "data": {
      "text/plain": [
       "array([ 8.88178420e-16,  0.00000000e+00,  0.00000000e+00,  8.88178420e-16,\n",
       "        4.44089210e-16, -2.22044605e-16, -1.11022302e-16])"
      ]
     },
     "execution_count": 24,
     "metadata": {},
     "output_type": "execute_result"
    }
   ],
   "source": [
    "AA = create_matrix(7)\n",
    "ww = create_vector(7)\n",
    "print(AA)\n",
    "print(ww)\n",
    "vv = solve(AA, ww)\n",
    "print(ww)\n",
    "matmul(AA, vv) - ww"
   ]
  },
  {
   "cell_type": "code",
   "execution_count": 26,
   "metadata": {},
   "outputs": [
    {
     "name": "stdout",
     "output_type": "stream",
     "text": [
      "17.6 s ± 387 ms per loop (mean ± std. dev. of 7 runs, 1 loop each)\n"
     ]
    }
   ],
   "source": [
    "AA = create_matrix(10000)\n",
    "ww = create_vector(10000)\n",
    "%timeit vv = solve(AA, ww)"
   ]
  },
  {
   "cell_type": "markdown",
   "metadata": {},
   "source": [
    "Note that, annoyingly, if you use %timeit the result of the assignment is not available after that line, so just repeat it to get the answer."
   ]
  },
  {
   "cell_type": "code",
   "execution_count": 28,
   "metadata": {},
   "outputs": [
    {
     "name": "stdout",
     "output_type": "stream",
     "text": [
      "[3.08967008e+00 1.90921219e+00 2.35979805e+00 ... 8.81720112e-04\n",
      " 6.17861676e-04 4.99860596e-04]\n",
      "2.6645352591003757e-15\n"
     ]
    }
   ],
   "source": [
    "vv = solve(AA, ww)\n",
    "print(vv)\n",
    "print(max(abs(matmul(AA, vv) - ww)))"
   ]
  },
  {
   "cell_type": "markdown",
   "metadata": {},
   "source": [
    "# 1d)"
   ]
  },
  {
   "cell_type": "code",
   "execution_count": 29,
   "metadata": {},
   "outputs": [],
   "source": [
    "def create_banded_matrix(NN):\n",
    "    Abanded = empty([5, NN], float)\n",
    "    Abanded[0, :] = -1\n",
    "    Abanded[1, :] = -1\n",
    "    Abanded[2, 0] = 3\n",
    "    Abanded[2, 1:NN-1] = 4\n",
    "    Abanded[2, NN-1] = 3\n",
    "    Abanded[3, :] = -1\n",
    "    Abanded[4, :] = -1\n",
    "    return Abanded"
   ]
  },
  {
   "cell_type": "code",
   "execution_count": 31,
   "metadata": {},
   "outputs": [
    {
     "name": "stdout",
     "output_type": "stream",
     "text": [
      "[2.5188537  1.2066365  1.34992459 0.95776772 0.71644042 0.55806938]\n",
      "1.7763568394002505e-15\n"
     ]
    }
   ],
   "source": [
    "NN = 6\n",
    "Abanded = create_banded_matrix(NN)\n",
    "AA = create_matrix(NN)\n",
    "vv = create_vector(NN)\n",
    "ww = banded (Abanded, vv, 2, 2)\n",
    "print(ww)\n",
    "print(max(abs(matmul(AA, ww) - vv)))"
   ]
  },
  {
   "cell_type": "code",
   "execution_count": 32,
   "metadata": {},
   "outputs": [
    {
     "name": "stdout",
     "output_type": "stream",
     "text": [
      "77.1 ms ± 763 µs per loop (mean ± std. dev. of 7 runs, 10 loops each)\n",
      "[3.08967008e+00 1.90921219e+00 2.35979805e+00 ... 8.81720112e-04\n",
      " 6.17861676e-04 4.99860596e-04]\n",
      "2.6645352591003757e-15\n"
     ]
    }
   ],
   "source": [
    "NN = 10000\n",
    "Abanded = create_banded_matrix(NN)\n",
    "AA = create_matrix(NN)\n",
    "vv = create_vector(NN)\n",
    "%timeit ww = banded (Abanded, vv, 2, 2)\n",
    "ww = banded (Abanded, vv, 2, 2)\n",
    "print(ww)\n",
    "print(max(abs(matmul(AA, ww) - vv)))"
   ]
  },
  {
   "cell_type": "code",
   "execution_count": 33,
   "metadata": {},
   "outputs": [
    {
     "data": {
      "image/png": "[encoded data removed]",
      "text/plain": [
       "<Figure size 432x288 with 1 Axes>"
      ]
     },
     "metadata": {
      "needs_background": "light"
     },
     "output_type": "display_data"
    },
    {
     "data": {
      "image/png": "[encoded data removed]",
      "text/plain": [
       "<Figure size 432x288 with 1 Axes>"
      ]
     },
     "metadata": {
      "needs_background": "light"
     },
     "output_type": "display_data"
    }
   ],
   "source": [
    "xlabel(\"i\")\n",
    "ylabel(\"Voltage (V)\")\n",
    "plot(range(NN), ww)\n",
    "show()\n",
    "\n",
    "xlabel(\"i\")\n",
    "ylabel(\"Voltage (V)\")\n",
    "xlim(0,10)\n",
    "plot(range(NN), ww)\n",
    "show()"
   ]
  },
  {
   "cell_type": "markdown",
   "metadata": {},
   "source": [
    "The ordinary solve took 17 s, whereas the banded solve took 77 ms, i.e. a factor of 221. The banded algorithm is much faster because it knows that nearly all of the ordinary's solve's operations involve zeroes, and so it just skips them, saving a lot of time."
   ]
  },
  {
   "cell_type": "markdown",
   "metadata": {},
   "source": [
    "# 2: Newman 6.10"
   ]
  },
  {
   "cell_type": "markdown",
   "metadata": {},
   "source": [
    "# 2a)"
   ]
  },
  {
   "cell_type": "markdown",
   "metadata": {},
   "source": [
    "Let $f(x) = 1 - e^{-cx}$. We can find the derivative analytically, as $f'(x) = c e^{-cx}$, and use this in the error estimate formula Eq (6.83), with results from two consecutive iterations $x, x'$:\n",
    "\\begin{align}\n",
    "\\epsilon' \\approx \\frac{x - x'}{1 - 1/f'(x)} = \\frac{x-x'}{1 - 1/(c e^{-cx})} = \\frac{x-x'}{1 - e^{cx}/c} = c \\frac{x-x'}{c - e^{cx}}\n",
    "\\end{align}"
   ]
  },
  {
   "cell_type": "code",
   "execution_count": null,
   "metadata": {},
   "outputs": [],
   "source": [
    "def f(x, c):\n",
    "    return 1 - exp(-c*x)\n",
    "\n",
    "def err_relax(x, xp, c):\n",
    "    return c*(x-xp)/(c-exp(c*x))\n",
    "\n",
    "def relaxation(c, eps, guess, verbose):\n",
    "    error = eps + 1 # start above eps to be sure the loop starts\n",
    "    xprev = guess\n",
    "    # a maximum number of iterations helps to avoid the possibility of an infinite loop\n",
    "    max_iter = 10000\n",
    "    if(verbose):\n",
    "        print(0, guess)\n",
    "    ii = 1\n",
    "    while(abs(error) > eps and ii < max_iter):\n",
    "        x = f(xprev, c)\n",
    "        error = err_relax(xprev, x, c)\n",
    "        if(verbose):\n",
    "            print(ii, x, error)\n",
    "        xprev = x\n",
    "        ii += 1\n",
    "    return x, ii"
   ]
  },
  {
   "cell_type": "code",
   "execution_count": null,
   "metadata": {},
   "outputs": [],
   "source": [
    "relaxation(2, 1e-6, 1, True)"
   ]
  },
  {
   "cell_type": "code",
   "execution_count": null,
   "metadata": {
    "scrolled": true
   },
   "outputs": [],
   "source": [
    "c=2\n",
    "x=0.7968126311118457\n",
    "x - (1-exp(-c*x))"
   ]
  },
  {
   "cell_type": "code",
   "execution_count": null,
   "metadata": {},
   "outputs": [],
   "source": [
    "relaxation(0, 1e-6, 1, True)"
   ]
  },
  {
   "cell_type": "markdown",
   "metadata": {},
   "source": [
    "# 2b)"
   ]
  },
  {
   "cell_type": "code",
   "execution_count": 9,
   "metadata": {},
   "outputs": [
    {
     "ename": "NameError",
     "evalue": "name 'relaxation' is not defined",
     "output_type": "error",
     "traceback": [
      "\u001b[0;31m---------------------------------------------------------------------------\u001b[0m",
      "\u001b[0;31mNameError\u001b[0m                                 Traceback (most recent call last)",
      "Cell \u001b[0;32mIn [9], line 16\u001b[0m\n\u001b[1;32m     14\u001b[0m \u001b[38;5;28;01mfor\u001b[39;00m c \u001b[38;5;129;01min\u001b[39;00m linspace(\u001b[38;5;241m0.0\u001b[39m, \u001b[38;5;241m3\u001b[39m, \u001b[38;5;241m300\u001b[39m):\n\u001b[1;32m     15\u001b[0m     cpoints\u001b[38;5;241m.\u001b[39mappend(c)\n\u001b[0;32m---> 16\u001b[0m     y, ii \u001b[38;5;241m=\u001b[39m \u001b[43mrelaxation\u001b[49m(c, precision, \u001b[38;5;241m1\u001b[39m, \u001b[38;5;28;01mFalse\u001b[39;00m)\n\u001b[1;32m     17\u001b[0m     \u001b[38;5;28mprint\u001b[39m(c, y, ii)\n\u001b[1;32m     18\u001b[0m     ypoints\u001b[38;5;241m.\u001b[39mappend(y)\n",
      "\u001b[0;31mNameError\u001b[0m: name 'relaxation' is not defined"
     ]
    }
   ],
   "source": [
    "#print(relaxation(0.1, 1e-6, 1, False))\n",
    "#print(relaxation(0.5, 1e-6, 1, False))\n",
    "#print(relaxation(0.8, 1e-6, 1, False))\n",
    "#print(relaxation(1, 1e-6, 1, False))\n",
    "#print(relaxation(2, 1e-6, 1, False))\n",
    "#print(relaxation(2.5, 1e-6, 1, False))\n",
    "\n",
    "cpoints = [0]\n",
    "ypoints = [0]\n",
    "ipoints = [0]\n",
    "\n",
    "precision = 1e-6\n",
    "\n",
    "for c in linspace(0.0, 3, 300):\n",
    "    cpoints.append(c)\n",
    "    y, ii = relaxation(c, precision, 1, False)\n",
    "    print(c, y, ii)\n",
    "    ypoints.append(y)\n",
    "    ipoints.append(ii)"
   ]
  },
  {
   "cell_type": "code",
   "execution_count": null,
   "metadata": {},
   "outputs": [],
   "source": [
    "plot(cpoints, ypoints)\n",
    "xlabel(\"c\")\n",
    "ylabel(\"x\")\n",
    "show()\n",
    "\n",
    "plot(cpoints, ipoints)\n",
    "xlabel(\"c\")\n",
    "ylabel(\"Iterations\")\n",
    "show()"
   ]
  },
  {
   "cell_type": "markdown",
   "metadata": {},
   "source": [
    "# 2c)\n",
    "\n",
    "The equation for $c=0$ is $x=1-e^0=0$, which directly tells us the solution. $f'(x) = 0$ for all $x$. The error formula is just $\\epsilon' = 0$. It looks like error estimates are incorrect: how can the error be always zero regardless of what guess we used? But actually, the relaxation method converges to the correct answer after one step in all cases, since the second step will be $x = 0$ regardless of initial guess. So the error estimate is correct.\n",
    "\n",
    "The relaxation method is unable to converge at exactly $c=1.0$, and therefore hits the maximum number of iterations specified. This is because the convergence factor $f'(x^*) = e^{cx^*}/c = e^x = 1$ for the solution $x \\approx 0$. When the factor is 1, the relaxation method cannot make any progress, because the error stays the same size and does not get smaller."
   ]
  },
  {
   "cell_type": "markdown",
   "metadata": {},
   "source": [
    "# Question 3: (grad only) Newman 6.9"
   ]
  },
  {
   "cell_type": "markdown",
   "metadata": {},
   "source": [
    "# 3a)"
   ]
  },
  {
   "cell_type": "markdown",
   "metadata": {},
   "source": [
    "\\begin{align}\n",
    "\\psi \\left( x \\right) = \\sum_{n=1}^{\\infty} \\psi_n \\sin \\frac{\\pi n x}{L} \\\\\n",
    "\\hat{H} \\psi = E \\psi \\\\\n",
    "\\hat{H} \\sum_{n=1}^{\\infty} \\psi_n \\sin \\frac{\\pi n x}{L} = E \\sum_{n=1}^{\\infty} \\psi_n \\sin \\frac{\\pi n x}{L} \\\\\n",
    "\\int_0^L \\sin \\frac{\\pi m x}{L} \\hat{H} \\sum_{n=1}^{\\infty} \\psi_n \\sin \\frac{\\pi n x}{L} dx = \\int_0^L \\sin \\frac{\\pi m x}{L} E \\sum_{n=1}^{\\infty} \\psi_n \\sin \\frac{\\pi n x}{L} dx \\\\\n",
    "\\sum_{n=1}^{\\infty} \\psi_n \\int_0^L \\sin \\frac{\\pi m x}{L} \\hat{H} \\sin \\frac{\\pi n x}{L} dx = E \\sum_{n=1}^{\\infty} \\psi_n \\int_0^L \\sin \\frac{\\pi m x}{L} \\sin \\frac{\\pi n x}{L} dx \\\\\n",
    "\\sum_{n=1}^{\\infty} \\psi_n \\int_0^L \\sin \\frac{\\pi m x}{L} \\hat{H} \\sin \\frac{\\pi n x}{L} dx = E \\sum_{n=1}^{\\infty} \\psi_n \\frac{L}{2} \\delta_{mn} \\\\\n",
    "\\sum_{n=1}^{\\infty} \\psi_n \\int_0^L \\sin \\frac{\\pi m x}{L} \\hat{H} \\sin \\frac{\\pi n x}{L} dx = \\frac{L}{2} E \\psi_m \\\\\n",
    "H_{mn} = \\frac{2}{L} \\int_0^L \\sin \\frac{\\pi m x}{L} \\hat{H} \\sin \\frac{\\pi n x}{L} dx \\\\\n",
    "H_{mn} = \\frac{2}{L} \\int_0^L \\sin \\frac{\\pi m x}{L} \\left[ -\\frac{\\hbar^2}{2M} \\frac{d^2}{dx^2} + V \\left( x \\right) \\right] \\sin \\frac{\\pi n x}{L} dx \\\\\n",
    "\\sum_{n=1}^{\\infty} \\psi_n \\frac{L}{2} H_{mn} = \\frac{L}{2} E \\psi_m \\\\\n",
    "{\\bf H} \\vec{\\psi} = E \\vec{\\psi}\n",
    "\\end{align}"
   ]
  },
  {
   "cell_type": "markdown",
   "metadata": {},
   "source": [
    "# 3b)"
   ]
  },
  {
   "cell_type": "markdown",
   "metadata": {},
   "source": [
    "\\begin{align}\n",
    "V \\left( x \\right) = \\frac{ax}{L} \\\\\n",
    "H_{mn} = \\frac{2}{L} \\int_0^L \\sin \\frac{\\pi m x}{L} \\left[ -\\frac{\\hbar^2}{2M} \\frac{d^2}{dx^2} + V \\left( x \\right) \\right] \\sin \\frac{\\pi n x}{L} dx \\\\\n",
    "= \\frac{2}{L} \\left[ \\int_0^L \\sin \\frac{\\pi m x}{L} \\frac{\\hbar^2}{2M} \\frac{d^2}{dx^2} \\sin \\frac{\\pi n x}{L} dx + \\int_0^L \\sin \\frac{\\pi m x}{L} V \\left( x \\right) \\sin \\frac{\\pi n x}{L} dx \\right] \\\\\n",
    "= \\frac{2}{L} \\left[ \\frac{\\hbar^2}{2M} \\left( \\frac{\\pi n}{L} \\right)^2 \\int_0^L \\sin \\frac{\\pi m x}{L} \\sin \\frac{\\pi n x}{L} dx + \\frac{a}{L} \\int_0^L \\sin \\frac{\\pi m x}{L} x \\sin \\frac{\\pi n x}{L} dx \\right] \\\\\n",
    "= \\frac{2}{L} \\left[ \\frac{\\hbar^2}{2M} \\left( \\frac{\\pi n}{L} \\right)^2 \\frac{L}{2} \\delta_{mn} + \\frac{a}{L} \\left( \\frac{L^2}{4} \\delta_{mn} - \\left( \\frac{2L}{\\pi} \\right)^2 \\frac{mn}{\\left( m^2 - n^2 \\right)^2} D_{mn} \\right) \\right] \\\\\n",
    "= \\left( \\frac{\\hbar^2 \\pi^2 n^2}{2M L^2} + \\frac{a}{2} \\right) \\delta_{mn} - \\frac{8a}{\\pi^2} \\frac{mn}{\\left( m^2 - n^2 \\right)^2} D_{mn}\n",
    "\\end{align}\n",
    "where $D_{mn} = 1$ if $m, n$ are one even and one odd, else $D_{mn} = 0$.\n",
    "All numbers in this expression are real, so the result is real. The $\\delta_{mn}$ term is diagonal and automatically symmetric. $D_{mn}$ is symmetric and so is $mn$ and $(m^2 - n^2)^2$. Therefore $H_{mn}$ is a real symmetric matrix."
   ]
  },
  {
   "cell_type": "code",
   "execution_count": 55,
   "metadata": {},
   "outputs": [],
   "source": [
    "from numpy import pi\n",
    "from scipy.constants import e as eV, hbar, m_e\n",
    "L = 5e-10 # 5 Angstroms\n",
    "a = 10*eV # Joules\n",
    "\n",
    "# note that the cases for \\delta_{mn} and D_{mn} are mutually exclusive\n",
    "def H_matrix_element(m, n):\n",
    "    if(m == n):\n",
    "        return (hbar**2 * pi**2 * n**2)/(2 * m_e * L**2) + a/2\n",
    "    elif((m%2) != (n%2)):\n",
    "        return -(8 * a * m * n)/(pi**2 * (m**2 - n**2)**2)\n",
    "    else:\n",
    "        return 0"
   ]
  },
  {
   "cell_type": "markdown",
   "metadata": {},
   "source": [
    "# 3c)"
   ]
  },
  {
   "cell_type": "code",
   "execution_count": 56,
   "metadata": {},
   "outputs": [],
   "source": [
    "from numpy import empty\n",
    "\n",
    "def create_H_matrix(size):\n",
    "    H = empty([size, size], float)\n",
    "    for m in range(1,size+1):\n",
    "        for n in range(1,size+1):\n",
    "            H[m-1,n-1] = H_matrix_element(m, n)\n",
    "    return H"
   ]
  },
  {
   "cell_type": "code",
   "execution_count": 57,
   "metadata": {},
   "outputs": [
    {
     "name": "stdout",
     "output_type": "stream",
     "text": [
      "H matrix elements, in eV\n",
      "[[ 6.50412065e+00 -1.80126549e+00  0.00000000e+00 -1.44101239e-01\n",
      "   0.00000000e+00 -3.97013618e-02  0.00000000e+00 -1.63380090e-02\n",
      "   0.00000000e+00 -8.27027313e-03]\n",
      " [-1.80126549e+00  1.10164826e+01 -1.94536673e+00  0.00000000e+00\n",
      "  -1.83802601e-01  0.00000000e+00 -5.60393707e-02  0.00000000e+00\n",
      "  -2.46082821e-02  0.00000000e+00]\n",
      " [ 0.00000000e+00 -1.94536673e+00  1.85370859e+01 -1.98506809e+00\n",
      "   0.00000000e+00 -2.00140610e-01  0.00000000e+00 -6.43096438e-02\n",
      "   0.00000000e+00 -2.93649125e-02]\n",
      " [-1.44101239e-01  0.00000000e+00 -1.98506809e+00  2.90659304e+01\n",
      "  -2.00140610e+00  0.00000000e+00 -2.08410883e-01  0.00000000e+00\n",
      "  -6.90662743e-02  0.00000000e+00]\n",
      " [ 0.00000000e+00 -1.83802601e-01  0.00000000e+00 -2.00140610e+00\n",
      "   4.26030163e+01 -2.00967637e+00  0.00000000e+00 -2.13167513e-01\n",
      "   0.00000000e+00 -7.20506195e-02]\n",
      " [-3.97013618e-02  0.00000000e+00 -2.00140610e-01  0.00000000e+00\n",
      "  -2.00967637e+00  5.91483434e+01 -2.01443300e+00  0.00000000e+00\n",
      "  -2.16151858e-01  0.00000000e+00]\n",
      " [ 0.00000000e+00 -5.60393707e-02  0.00000000e+00 -2.08410883e-01\n",
      "   0.00000000e+00 -2.01443300e+00  7.87019119e+01 -2.01741735e+00\n",
      "   0.00000000e+00 -2.18146339e-01]\n",
      " [-1.63380090e-02  0.00000000e+00 -6.43096438e-02  0.00000000e+00\n",
      "  -2.13167513e-01  0.00000000e+00 -2.01741735e+00  1.01263722e+02\n",
      "  -2.01941183e+00  0.00000000e+00]\n",
      " [ 0.00000000e+00 -2.46082821e-02  0.00000000e+00 -6.90662743e-02\n",
      "   0.00000000e+00 -2.16151858e-01  0.00000000e+00 -2.01941183e+00\n",
      "   1.26833773e+02 -2.02081031e+00]\n",
      " [-8.27027313e-03  0.00000000e+00 -2.93649125e-02  0.00000000e+00\n",
      "  -7.20506195e-02  0.00000000e+00 -2.18146339e-01  0.00000000e+00\n",
      "  -2.02081031e+00  1.55412065e+02]]\n",
      "energies, in eV\n",
      "[  5.8363769   11.18109291  18.66289158  29.14419776  42.65507485\n",
      "  59.18525782  78.72936019 101.28548383 126.85138575 155.55532885]\n"
     ]
    }
   ],
   "source": [
    "from numpy.linalg import eigh\n",
    "\n",
    "H = create_H_matrix(10)\n",
    "print(\"H matrix elements, in eV\")\n",
    "print(H/eV)\n",
    "energies, eigenvectors = eigh(H)\n",
    "print(\"energies, in eV\")\n",
    "print(energies/eV)"
   ]
  },
  {
   "cell_type": "markdown",
   "metadata": {},
   "source": [
    "Lowest energy agrees with 5.84 eV quoted by book."
   ]
  },
  {
   "cell_type": "markdown",
   "metadata": {},
   "source": [
    "# 3d)"
   ]
  },
  {
   "cell_type": "code",
   "execution_count": 58,
   "metadata": {},
   "outputs": [
    {
     "name": "stdout",
     "output_type": "stream",
     "text": [
      "energies, in eV\n",
      "[  5.8363765   11.18109158  18.66288971  29.14418896  42.65506573\n",
      "  59.18520524  78.72930836 101.2848529  126.85055342 155.42570639]\n"
     ]
    }
   ],
   "source": [
    "H = create_H_matrix(100)\n",
    "energies, eigenvectors = eigh(H)\n",
    "print(\"energies, in eV\")\n",
    "print(energies[0:10]/eV)"
   ]
  },
  {
   "cell_type": "markdown",
   "metadata": {},
   "source": [
    "The results are close to the $10 \\times 10$ case, with discrepancies varying from $10^{-7}$ for the first, increasing up to 0.1 for the 10th. The $10 \\times 10$ approximation is adequate for the lowest few states, but the contribution of higher values of $n$ for higher states increases so it is not so good anymore by the 10th state."
   ]
  }
 ],
 "metadata": {
  "kernelspec": {
   "display_name": "Python 3 (ipykernel)",
   "language": "python",
   "name": "python3"
  },
  "language_info": {
   "codemirror_mode": {
    "name": "ipython",
    "version": 3
   },
   "file_extension": ".py",
   "mimetype": "text/x-python",
   "name": "python",
   "nbconvert_exporter": "python",
   "pygments_lexer": "ipython3",
   "version": "3.9.12"
  }
 },
 "nbformat": 4,
 "nbformat_minor": 4
}
