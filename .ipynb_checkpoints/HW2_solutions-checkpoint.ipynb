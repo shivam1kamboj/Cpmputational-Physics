{
 "cells": [
  {
   "cell_type": "markdown",
   "metadata": {},
   "source": [
    "# PHYS 181/281, Fall 2022, Prof. David Strubbe, UC Merced\n",
    "# HW #2 Solutions"
   ]
  },
  {
   "cell_type": "code",
   "execution_count": 2,
   "metadata": {},
   "outputs": [],
   "source": [
    "from math import sin, sqrt\n",
    "from pylab import plot, show, xlabel, ylabel, xlim, ylim, figure, legend\n",
    "from numpy import pi, empty, exp, expm1\n",
    "\n",
    "# note: copy or link the file gaussxw.py to be in the same directory as this notebook\n",
    "from gaussxw import gaussxw"
   ]
  },
  {
   "cell_type": "markdown",
   "metadata": {},
   "source": [
    "## Question 1"
   ]
  },
  {
   "cell_type": "markdown",
   "metadata": {},
   "source": [
    "According to Eq. 5.24, the error to leading order for Simpson's rule is\n",
    "\\begin{align}\n",
    "\\epsilon = \\frac{1}{90} h^4 \\left[ f'''\\left( a \\right) - f'''\\left( b \\right) \\right] = c h^4\n",
    "\\end{align}\n",
    "for some constant $c$ dependent on $f(x)$, $a$, and $b$.\n",
    "Let $I$ be the true value of the integral, $I_1$ be an estimate with slice width $2h$, and $I_2$ be an estimate with slice width $h$.\n",
    "\\begin{align}\n",
    "I = I_1 + \\epsilon_1 = I_1 + c (2h)^4 = I_1 + 16 c h^4 \\\\\n",
    "I = I_2 + \\epsilon_2 = I_2 + c h^4 \\\\\n",
    "I_1 + 16 c h^4 = I_2 + c h^4 \\\\\n",
    "I_2 - I_1 = 15 ch^4 \\\\\n",
    "\\epsilon_2 = ch^4 = \\frac{1}{15} \\left(I_2 - I_1 \\right) \\blacksquare\n",
    "\\end{align}"
   ]
  },
  {
   "cell_type": "markdown",
   "metadata": {},
   "source": [
    "## Question 2"
   ]
  },
  {
   "cell_type": "code",
   "execution_count": 23,
   "metadata": {},
   "outputs": [
    {
     "name": "stdout",
     "output_type": "stream",
     "text": [
      "Iteration   Slices      Integral          Estimate\n",
      "        0        1  0.1479794845  4.9326494849e-02\n",
      "        1        2  0.3252319078  5.9084141087e-02\n",
      "        2        4  0.5122828507  6.2350314306e-02\n",
      "        3        8  0.4029974485  -3.6428467415e-02\n",
      "        4       16  0.4301033693  9.0353069388e-03\n",
      "        5       32  0.4484146658  6.1037654976e-03\n",
      "        6       64  0.4539129312  1.8327551426e-03\n",
      "        7      128  0.4553485044  4.7852438581e-04\n",
      "        8      256  0.4557112665  1.2092069348e-04\n",
      "        9      512  0.4558021997  3.0311066141e-05\n",
      "       10     1024  0.4558249481  7.5828269187e-06\n",
      "       11     2048  0.4558306362  1.8960230755e-06\n",
      "       12     4096  0.4558320583  4.7402554147e-07\n",
      "       13     8192  0.4558324138  1.1850762099e-07\n",
      "       14    16384  0.4558325027  2.9626982256e-08\n",
      "       15    32768  0.4558325249  7.4067506943e-09\n",
      "       16    65536  0.4558325305  1.8516879881e-09\n",
      "       17   131072  0.4558325318  4.6292218207e-10\n"
     ]
    },
    {
     "data": {
      "image/png": "[encoded data removed]",
      "text/plain": [
       "<Figure size 432x288 with 1 Axes>"
      ]
     },
     "metadata": {
      "needs_background": "light"
     },
     "output_type": "display_data"
    }
   ],
   "source": [
    "def integrand(xx):\n",
    "    return (sin(sqrt(100*xx)))**2\n",
    "\n",
    "def trapezoidal(NN):\n",
    "    sum = 0.0\n",
    "    # xx = ii/NN to span the range 0 to 1\n",
    "    # h = 1/NN\n",
    "    # ii from 1 to NN-1 -- at first I mistakenly set this to range(1, NN-1) which missed the last point.\n",
    "    for ii in range(1, NN):\n",
    "        sum += integrand(ii/NN)\n",
    "    sum += 0.5*integrand(0)\n",
    "    sum += 0.5*integrand(1)\n",
    "    sum *= 1.0/NN\n",
    "    return sum\n",
    "\n",
    "# start from trapezoidal result for number of points NN/2\n",
    "def trapezoidal_from_prev(NN, trap_prev):\n",
    "    sum = 0.0\n",
    "    for ii in range(1, NN, 2):\n",
    "        sum += integrand(ii/NN)\n",
    "    sum *= 1.0/NN\n",
    "    sum += trap_prev/2\n",
    "    return sum\n",
    "    \n",
    "print(\"Iteration   Slices      Integral          Estimate\")\n",
    "\n",
    "xpoints = []\n",
    "ypoints = []\n",
    "last = 0\n",
    "integral = 0\n",
    "for MM in range(0,18):\n",
    "    NN = 2**MM\n",
    "    \n",
    "    # I confirmed results are identical to simple implementation that doesn't reuse previous steps\n",
    "    # integral_0 = trapezoidal(NN)\n",
    "    if(NN == 1):\n",
    "        integral = trapezoidal(NN)\n",
    "    else:\n",
    "        integral = trapezoidal_from_prev(NN, integral)\n",
    "    error = (integral-last)/3\n",
    "    last = integral\n",
    "    print(\"{: >9} {: >8}  {:.10f}  {:.10e}\".format(MM, NN, integral, error))\n",
    "    xpoints.append(MM)\n",
    "    ypoints.append(integral)\n",
    "          \n",
    "# you weren't asked to plot results, but I thought I'd add that to the solution\n",
    "plot(xpoints, ypoints, '.')\n",
    "xlim(2,23)\n",
    "ylim(0.38,0.46)\n",
    "xlabel(\"log points/log 2\")\n",
    "ylabel(\"Integral\")\n",
    "show()"
   ]
  },
  {
   "cell_type": "markdown",
   "metadata": {},
   "source": [
    "The error estimate drops below $10^{-6}$ for $2^{12}=4096$ slices. We can see that this estimate is indeed accurate by looking at the results for yet more slices, in which the first six digits do not change anymore."
   ]
  },
  {
   "cell_type": "markdown",
   "metadata": {},
   "source": [
    "# Question 3"
   ]
  },
  {
   "cell_type": "code",
   "execution_count": 17,
   "metadata": {},
   "outputs": [
    {
     "name": "stdout",
     "output_type": "stream",
     "text": [
      "1 0.1479794845\n",
      "2 0.3252319078  0.384316049\n",
      "E:  5.9084e-02\n",
      "3 0.5122828507  0.574633165  0.587320973\n",
      "E:  6.2350e-02  1.2688e-02\n",
      "4 0.4029974485  0.366568981  0.352698035  0.348973862\n",
      "E:  -3.6428e-02  -1.3871e-02  -3.7242e-03\n",
      "5 0.4301033693  0.439138676  0.443976656  0.445425523  0.445803765\n",
      "E:  9.0353e-03  4.8380e-03  1.4489e-03  3.7824e-04\n",
      "6 0.4484146658  0.454518431  0.455543748  0.455727353  0.455767752  0.455777492\n",
      "E:  6.1038e-03  1.0253e-03  1.8360e-04  4.0399e-05  9.7400e-06\n",
      "7 0.4539129312  0.455745686  0.455827503  0.455832007  0.455832418  0.455832481  0.455832494\n",
      "E:  1.8328e-03  8.1817e-05  4.5040e-06  4.1041e-07  6.3212e-08  1.3428e-08\n",
      "8 0.4553485044  0.455827029  0.455832452  0.455832530  0.455832532  0.455832532  0.455832532  0.455832532\n",
      "E:  4.7852e-04  5.4228e-06  7.8543e-08  2.0499e-09  1.1179e-10  1.2517e-11  2.3098e-12\n",
      "9 0.4557112665  0.455832187  0.455832531  0.455832532  0.455832532  0.455832532  0.455832532  0.455832532  0.455832532\n",
      "E:  1.2092e-04  3.4389e-07  1.2612e-09  8.5173e-12  1.2762e-13  4.6137e-15  3.8948e-16  6.2126e-17\n"
     ]
    }
   ],
   "source": [
    "max = 10\n",
    "Rom = empty([max,max], float)\n",
    "err = empty([max,max-1], float)\n",
    "\n",
    "for ii in range(1,max):\n",
    "    NN = 2**(ii-1)\n",
    "    Rom[ii,1]=trapezoidal(NN)\n",
    "    print(ii, \"{:.10f}\".format(Rom[ii, 1]), end='')\n",
    "    for mm in range(1,ii):\n",
    "        err[ii,mm] = (Rom[ii,mm] - Rom[ii-1,mm])/(4**mm - 1)\n",
    "        Rom[ii,mm+1] = Rom[ii,mm] + err[ii,mm]\n",
    "        print(\"  {:.9f}\".format(Rom[ii,mm+1]), end='')\n",
    "    print(\"\")\n",
    "    if(ii > 1):\n",
    "        print(\"E:\", end='')\n",
    "        for mm in range(1,ii):\n",
    "            print(\"  {:.4e}\".format(err[ii,mm]), end='')\n",
    "        print(\"\")"
   ]
  },
  {
   "cell_type": "markdown",
   "metadata": {},
   "source": [
    "We see that the converged result is the same as for the trapezoidal rule. The error estimate is below $10^{-6}$ for $R_{7,6}$, so we can be confident that $R_{7,7} = 0.455832494$ is accurate to better than $10^{-6}$. Only $2^{7-1} = 64$ slices were needed to obtain this accuracy, 1/64 of the number of slices needed for the trapezoidal rule. Comparing to the results for more slices, the error estimate actually seems to be a bit too small, since the 8th digit (9) is not yet the correct one (3)."
   ]
  },
  {
   "cell_type": "markdown",
   "metadata": {},
   "source": [
    "## Question 4 (graduate only)"
   ]
  },
  {
   "cell_type": "markdown",
   "metadata": {},
   "source": [
    "### 4a)"
   ]
  },
  {
   "cell_type": "code",
   "execution_count": 9,
   "metadata": {},
   "outputs": [
    {
     "name": "stdout",
     "output_type": "stream",
     "text": [
      "integral =  2494.2713451783943\n",
      "Dulong-Petit =  2494.2804834000003\n"
     ]
    }
   ],
   "source": [
    "volume = 1e-3\n",
    "# 1000 cubic centimeters = 10^3 * 10^-6 m^3 = 10^-3 m^3 \n",
    "density = 6.022e28\n",
    "# m^{-3}, for solid aluminum\n",
    "k_B = 1.380649e-23\n",
    "# J K-1, https://physics.nist.gov/cgi-bin/cuu/Value?k\n",
    "prefactor = 9*volume*density*k_B\n",
    "theta = 428\n",
    "# K, Debye temperature\n",
    "NN = 50\n",
    "# points for Gaussian quadrature\n",
    "\n",
    "def debye_integrand(xx):\n",
    "#    return xx**4 * exp(xx)/(exp(xx) - 1)**2\n",
    "    return xx**4 * exp(xx)/expm1(xx)**2\n",
    "# to be honest, seems to make no difference which of these is used in this problem\n",
    "\n",
    "# get sample points and weights in standard [0,1] interval\n",
    "x,w = gaussxw(NN)\n",
    "# it is more efficient to do this once than to repeatedly call gaussxwab for each temperature\n",
    "\n",
    "def cv(T):\n",
    "    # map to interval a=0 to b=theta/T\n",
    "    # xx = 0.5*(b-a)*x + 0.5(b+a)\n",
    "    xx = 0.5 * (theta/T) * (x + 1)\n",
    "    # ww = 0.5*(b-a)*w\n",
    "    ww = 0.5 * (theta/T) * w\n",
    "    \n",
    "    integral = 0.0\n",
    "    for kk in range(NN):\n",
    "        integral += ww[kk] * debye_integrand(xx[kk])\n",
    "    return prefactor * (T/theta)**3 * integral\n",
    "\n",
    "print(\"integral = \", cv(50000))\n",
    "print(\"Dulong-Petit = \", prefactor/3)"
   ]
  },
  {
   "cell_type": "markdown",
   "metadata": {},
   "source": [
    "### 4b)"
   ]
  },
  {
   "cell_type": "code",
   "execution_count": 10,
   "metadata": {},
   "outputs": [
    {
     "data": {
      "image/png": "[encoded data removed]",
      "text/plain": [
       "<Figure size 864x576 with 1 Axes>"
      ]
     },
     "metadata": {
      "needs_background": "light"
     },
     "output_type": "display_data"
    }
   ],
   "source": [
    "figure(num=1, figsize=(12, 8))\n",
    "\n",
    "xpoints = []\n",
    "ypoints = []\n",
    "\n",
    "for TT in range(5,500,5):\n",
    "    xpoints.append(TT)\n",
    "    ypoints.append(cv(TT))\n",
    "    \n",
    "plot(xpoints, ypoints,\"+\", label=\"Debye model\")\n",
    "\n",
    "# high-temperature limit, Dulong-Petit\n",
    "DPx = (5,500)\n",
    "DPy = (prefactor/3, prefactor/3)\n",
    "plot(DPx, DPy, label=\"Dulong-Petit\")\n",
    "\n",
    "# low-temperature limit, Debye T^3 law\n",
    "xT3 = []\n",
    "yT3 = []\n",
    "for TT in range(5,102,1):\n",
    "    xT3.append(TT)\n",
    "    yT3.append((12*pi**4/5)*density*volume*k_B*(TT/theta)**3)\n",
    "plot(xT3, yT3, label=\"Debye T^3 Law\")\n",
    "\n",
    "xlabel(\"Temperature (K)\")\n",
    "ylabel(\"Specific heat (J/K)\")\n",
    "legend()\n",
    "show()"
   ]
  },
  {
   "cell_type": "markdown",
   "metadata": {},
   "source": [
    "We find good agreement with the low-temperature limit for temperatures below 50 K or so, and the approach to the high-temperature limit is good too. The evaluation at 50,000 K above gave agreement to within 0.01 J/K ($\\sim 10^{-6}$ relative discrepancy)."
   ]
  }
 ],
 "metadata": {
  "kernelspec": {
   "display_name": "Python 3",
   "language": "python",
   "name": "python3"
  },
  "language_info": {
   "codemirror_mode": {
    "name": "ipython",
    "version": 3
   },
   "file_extension": ".py",
   "mimetype": "text/x-python",
   "name": "python",
   "nbconvert_exporter": "python",
   "pygments_lexer": "ipython3",
   "version": "3.8.1"
  }
 },
 "nbformat": 4,
 "nbformat_minor": 4
}
