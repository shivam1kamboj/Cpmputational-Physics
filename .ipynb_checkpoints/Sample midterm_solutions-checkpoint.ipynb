{
 "cells": [
  {
   "cell_type": "markdown",
   "metadata": {},
   "source": [
    "## PHYS 192/292: Numerical Mathematical Methods for Physics\n",
    "# Midterm Solutions, 13 October 2020, Prof. Strubbe"
   ]
  },
  {
   "cell_type": "markdown",
   "metadata": {},
   "source": [
    "# Question 0."
   ]
  },
  {
   "cell_type": "markdown",
   "metadata": {},
   "source": [
    "By completing this assignment/exam, I acknowledge and confirm that I will not give or receive any unauthorized assistance on this assignment/examination. I will conduct myself within the guidelines of the university academic integrity guidelines."
   ]
  },
  {
   "cell_type": "markdown",
   "metadata": {},
   "source": [
    "# Question A1"
   ]
  },
  {
   "cell_type": "markdown",
   "metadata": {},
   "source": [
    "From Eq 5.42,\n",
    "\\begin{align}\n",
    "R_{i,2} = I_i + \\frac{1}{3} \\left( I_i - I_{i-1} \\right) = \\frac{4}{3} I_i - \\frac{1}{3} I_{i-1}\n",
    "\\end{align}\n",
    "From Eq 5.31, the trapezoidal result is\n",
    "\\begin{align}\n",
    "I_i = h_i \\left[ \\frac{1}{2} f(a) + \\frac{1}{2} f(b) + \\sum_{k=1}^{N_i - 1} f \\left( a + k h_i \\right) \\right]\n",
    "\\end{align}\n",
    "Therefore,\n",
    "\\begin{align}\n",
    "R_{i,2} = \\frac{4}{3} h_i \\left[ \\frac{1}{2} f(a) + \\frac{1}{2} f(b) + \\sum_{k=1}^{N_i - 1} f \\left( a + k h_i \\right) \\right] - \\frac{1}{3} h_{i-1} \\left[ \\frac{1}{2} f(a) + \\frac{1}{2} f(b) + \\sum_{k=1}^{N_{i-1} - 1} f \\left( a + k h_{i-1} \\right) \\right] \\\\\n",
    "= \\frac{4}{3} h_i \\left[ \\frac{1}{2} f(a) + \\frac{1}{2} f(b) + \\sum_{k=1}^{N_i - 1} f \\left( a + k h_i \\right) \\right] - \\frac{2}{3} h_i \\left[ \\frac{1}{2} f(a) + \\frac{1}{2} f(b) + \\sum_{k=1}^{N_i/2 - 1} f \\left( a + k 2h_i \\right) \\right] \\\\\n",
    "= h_i \\left[ \\frac{1}{3} f(a) + \\frac{1}{3} f(b) + \\frac{4}{3} \\sum_{k=1}^{N_i - 1} f \\left( a + k h_i \\right) - \\frac{2}{3} \\sum_{k=1}^{N_i/2 - 1} f \\left( a + k 2h_i \\right) \\right] \\\\\n",
    "= h_i \\left[ \\frac{1}{3} f(a) + \\frac{1}{3} f(b) + \\frac{4}{3} \\sum_{k=1, {\\rm even}}^{N_i - 1} f \\left( a + k h_i \\right) + \\frac{4}{3} \\sum_{k=1, {\\rm odd}}^{N_i - 1} f \\left( a + k h_i \\right) - \\frac{2}{3} \\sum_{k=1, {\\rm even}}^{N_i - 1} f \\left( a + k h_i \\right) \\right] \\\\\n",
    "= h_i \\left[ \\frac{1}{3} f(a) + \\frac{1}{3} f(b) + \\frac{2}{3} \\sum_{k=1, {\\rm even}}^{N_i - 1} f \\left( a + k h_i \\right) + \\frac{4}{3} \\sum_{k=1, {\\rm odd}}^{N_i - 1} f \\left( a + k h_i \\right) \\right]\n",
    "\\end{align}\n",
    "This matches Eq 5.9 for Simpson's Rule. One could also have worked from Eq. 5.34."
   ]
  },
  {
   "cell_type": "markdown",
   "metadata": {},
   "source": [
    "# Question A2\n",
    "\n",
    "Each iteration reduces the interval width by a factor of $z = (1 + \\sqrt{5})/2$ (like how binary search reduces the interval by a factor of 2). After $N$ iterations, the interval width is $1/z^N$.\n",
    "\\begin{align}\n",
    "\\frac{1}{z^N} = 10^{-4} \\\\\n",
    "-N \\log z = -4 \\log 10 \\\\\n",
    "N = \\frac{4 \\log 10}{\\log z}\n",
    "\\end{align}"
   ]
  },
  {
   "cell_type": "code",
   "execution_count": 2,
   "metadata": {},
   "outputs": [
    {
     "name": "stdout",
     "output_type": "stream",
     "text": [
      "19.139887867126664\n"
     ]
    }
   ],
   "source": [
    "from numpy import log, sqrt\n",
    "z = (1+sqrt(5))/2\n",
    "print(4*log(10)/log(z))"
   ]
  },
  {
   "cell_type": "markdown",
   "metadata": {},
   "source": [
    "Therefore, we would need 20 iterations (since 19 iterations would not quite get to the required precision)."
   ]
  },
  {
   "cell_type": "markdown",
   "metadata": {},
   "source": [
    "# Question A3\n",
    "\n",
    "## a)\n",
    "### Golden ratio search\n",
    "Advantages: This method is guaranteed to converge if there is a maximum in the initial interval, because it just keeps zeroing in the maximum with each step as the interval is shrunk. It also does not require any knowledge of the derivatives, because it uses only the function values.\n",
    "\n",
    "Disadvantage: By not using any derivative information, it doesn't converge as fast as it could if it used the slopes. You need to start by selecting an appropriate interval that contains the maximum.\n",
    "\n",
    "### Gauss-Newton method\n",
    "Advantages: Uses first and second derivatives to make rapidly converging iterations to the maximum (for a smooth function). Needs only a starting guess, not an interval.\n",
    "\n",
    "Disadvantages: You need to know what the first and second derivatives of the function are. It doesn't necessarily converge. It performs poorly if the function is not smooth.\n",
    "\n",
    "### Gradient descent method\n",
    "Advantages: Uses first derivative only to make rapidly converging iterations to the maximum (for a smooth function). Needs only a starting guess, not an interval.\n",
    "\n",
    "Disadvantages: You need to know what the first derivative of the function is. It doesn't necessarily converge. It performs poorly if the function is not smooth. You need a reasonable guess at the parameter $\\gamma$ based on the second derivative.\n",
    "\n",
    "## b)\n",
    "The gradient descent method can be used even if you don't know the first derivative, by approximating derivatives numerically as in the secant method. See Eq. 6.121."
   ]
  },
  {
   "cell_type": "markdown",
   "metadata": {},
   "source": [
    "# Question C4"
   ]
  },
  {
   "cell_type": "markdown",
   "metadata": {},
   "source": [
    "Need to make a substitution. Try $z = x/(1+x)$ as in Eq 5.67.\n",
    "\n",
    "Then\n",
    "\\begin{align}\n",
    "I = \\int_0^\\infty \\frac{x^3 e^{-x}}{1 - e^{-x}} dx = \\int_{0}^1 \\frac{1}{\\left(1-z\\right)^2} \\left(\\frac{z}{1-z}\\right)^3 \\frac{e^{z/(1-z)}}{1-e^{-z/(1-z)}} dz\n",
    "\\end{align}"
   ]
  },
  {
   "cell_type": "code",
   "execution_count": 4,
   "metadata": {},
   "outputs": [
    {
     "name": "stdout",
     "output_type": "stream",
     "text": [
      "6.49393940226683\n"
     ]
    }
   ],
   "source": [
    "from math import sin, sqrt, exp, expm1\n",
    "from pylab import plot, show, xlabel, ylabel, xlim, ylim\n",
    "from gaussxw import gaussxwab\n",
    "\n",
    "def ff(xx):\n",
    "    return xx**3*exp(-xx)/(1-exp(-xx))\n",
    "\n",
    "def integrand(zz):\n",
    "    return ff(zz/(1-zz))/(1-zz)**2\n",
    "\n",
    "def gaussian_int(N):\n",
    "    x, w = gaussxwab(N, 0, 1)\n",
    "    int_sum = 0\n",
    "    for ii in range(0,N):\n",
    "        int_sum += w[ii] * integrand(x[ii])\n",
    "    return int_sum\n",
    "\n",
    "print(gaussian_int(100))"
   ]
  },
  {
   "cell_type": "markdown",
   "metadata": {},
   "source": [
    "For reference, it turns out this result is very well converged:"
   ]
  },
  {
   "cell_type": "code",
   "execution_count": 5,
   "metadata": {
    "scrolled": true
   },
   "outputs": [
    {
     "name": "stdout",
     "output_type": "stream",
     "text": [
      "6.851613620436659\n",
      "6.572142992176125\n",
      "6.493947736403491\n",
      "6.493939400514871\n",
      "6.49393940226683\n",
      "6.493939402266831\n"
     ]
    }
   ],
   "source": [
    "print(gaussian_int(5))\n",
    "print(gaussian_int(10))\n",
    "print(gaussian_int(30))\n",
    "print(gaussian_int(50))\n",
    "print(gaussian_int(100))\n",
    "print(gaussian_int(200))"
   ]
  },
  {
   "cell_type": "markdown",
   "metadata": {},
   "source": [
    "There are also various other possible substitutions to evaluate this integral. One particularly simple example for this case is $y=e^{-x}$, in which case the resulting integral can actually be done analytically:\n",
    "\n",
    "\\begin{align}\n",
    "I=\\int_0^1\\frac{(\\ln y)^3}{y-1}dy =\\frac{\\pi^4}{15}\n",
    "\\end{align}"
   ]
  },
  {
   "cell_type": "code",
   "execution_count": 6,
   "metadata": {},
   "outputs": [
    {
     "data": {
      "text/plain": [
       "6.493939402266828"
      ]
     },
     "execution_count": 6,
     "metadata": {},
     "output_type": "execute_result"
    }
   ],
   "source": [
    "from numpy import pi\n",
    "pi**4/15"
   ]
  },
  {
   "cell_type": "markdown",
   "metadata": {},
   "source": [
    "# Question C5"
   ]
  },
  {
   "cell_type": "code",
   "execution_count": 12,
   "metadata": {},
   "outputs": [
    {
     "data": {
      "image/png": "[encoded data removed]",
      "text/plain": [
       "<Figure size 432x288 with 1 Axes>"
      ]
     },
     "metadata": {
      "needs_background": "light"
     },
     "output_type": "display_data"
    }
   ],
   "source": [
    "from numpy import empty, linspace\n",
    "from numpy.fft import rfft, irfft\n",
    "\n",
    "N = 1000\n",
    "square = empty([N], float)\n",
    "square[0:N//2] = 1\n",
    "square[N//2:N] = -1\n",
    "\n",
    "x = linspace(0,1,N)\n",
    "#print(x)\n",
    "plot(x, square)\n",
    "\n",
    "c = rfft(square)\n",
    "#print(c)\n",
    "\n",
    "c[10+1:N] = 0.0\n",
    "xp = irfft(c)\n",
    "\n",
    "plot(x, xp)\n",
    "show()"
   ]
  },
  {
   "cell_type": "markdown",
   "metadata": {},
   "source": [
    "We see that the square wave has been smoothed by removing the higher Fourier components -- the vertical transition at $x=0$, $x=0.5$, $x=1$ is now simply a steep slope. However, there are also oscillations introduced in the part that is supposed to be flat. The overshooting right near the vertical transitions actually has a special name: the \"Gibbs phenomenon,\" named after the same Gibbs we know from thermodynamics."
   ]
  },
  {
   "cell_type": "markdown",
   "metadata": {},
   "source": [
    "For real data, we should use the rfft and irfft routines. However, many of you used the more general complex ones, which give somewhat peculiar results. I plotted that here for comparison. Definitely one needs to check the imaginary part not just the real part of the final result to have a complete picture of what is happening."
   ]
  },
  {
   "cell_type": "code",
   "execution_count": 35,
   "metadata": {},
   "outputs": [
    {
     "name": "stdout",
     "output_type": "stream",
     "text": [
      "1000\n"
     ]
    },
    {
     "data": {
      "image/png": "[encoded data removed]",
      "text/plain": [
       "<Figure size 432x288 with 1 Axes>"
      ]
     },
     "metadata": {
      "needs_background": "light"
     },
     "output_type": "display_data"
    }
   ],
   "source": [
    "from numpy.fft import fft, ifft\n",
    "from numpy import real, imag\n",
    "from pylab import legend\n",
    "\n",
    "c = fft(square)\n",
    "print(len(c))\n",
    "#print(c)\n",
    "\n",
    "c[10+1:N] = 0.0\n",
    "xp = ifft(c)\n",
    "\n",
    "plot(x, real(xp), label=\"real\")\n",
    "plot(x, imag(xp), label=\"imag\")\n",
    "legend()\n",
    "show()"
   ]
  },
  {
   "cell_type": "code",
   "execution_count": null,
   "metadata": {},
   "outputs": [],
   "source": []
  }
 ],
 "metadata": {
  "kernelspec": {
   "display_name": "Python 3 (ipykernel)",
   "language": "python",
   "name": "python3"
  },
  "language_info": {
   "codemirror_mode": {
    "name": "ipython",
    "version": 3
   },
   "file_extension": ".py",
   "mimetype": "text/x-python",
   "name": "python",
   "nbconvert_exporter": "python",
   "pygments_lexer": "ipython3",
   "version": "3.9.12"
  }
 },
 "nbformat": 4,
 "nbformat_minor": 4
}
