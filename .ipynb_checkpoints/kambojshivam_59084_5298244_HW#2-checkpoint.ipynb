{
 "cells": [
  {
   "cell_type": "code",
   "execution_count": 1,
   "metadata": {},
   "outputs": [],
   "source": [
    "import numpy as np\n",
    "import random as rd\n",
    "import matplotlib.pyplot as plt"
   ]
  },
  {
   "cell_type": "code",
   "execution_count": 2,
   "metadata": {},
   "outputs": [],
   "source": [
    "plt.rcParams.update({'font.size': 20})"
   ]
  },
  {
   "cell_type": "markdown",
   "metadata": {},
   "source": [
    "# Overall: 31.5/40"
   ]
  },
  {
   "cell_type": "markdown",
   "metadata": {},
   "source": [
    "# Grade: 10/10\n",
    "\n",
    "# Problem #1: Newman 5.5: Error on Simpson’s rule"
   ]
  },
  {
   "cell_type": "markdown",
   "metadata": {},
   "source": [
    "According to textbook, Newman, equation 5.24, Simpson's rule introduce an error of $O(h^4)$. Therefore error in Simpson's rule will be $Ch^4$.\n",
    "Now let's say our first approximated integral according to Simpson's rule with $N_1$ number of steps is, $I_1$ and the error is $Ch_1^4$. Therefore the actual value of integral can be written as:\n",
    "\\\n",
    "\\\n",
    "    $$I=I_1+Ch_1^4$$                 $\\hspace{230mm}(1)$                                            \n",
    "\n",
    "Now, double the number of steps, therefore $N_2=2N_1$, which implies stepsize $h_2=\\frac{1}{2}h_1$. Let's say our second approximated integral according to simpson rule is $I_2$ with error $Ch_2^4$. Again the actual value of integral can be written as:\n",
    "\\\n",
    "\\\n",
    "$$I=I_2+Ch_2^4$$                    $\\hspace{230mm}(2)$  \n",
    "\\\n",
    "From equation $(1)$ and $(2)$\n",
    "$$Ch_1^4-Ch_2^4=I_2-I_1$$\n",
    "Using $h_2=\\frac{1}{2}h_1$;\n",
    "$$C(2h_2)^4-Ch_2^4=I_2-I_1$$\n",
    "\\\n",
    "$$15Ch_2^4=I_2-I_1$$\n",
    "Therefore, error $\\epsilon_2$ on the second estimate of the integral to be:\n",
    "$$\\boxed{\\epsilon_2=Ch^4=\\frac{1}{15}(I_2-I_1)}$$"
   ]
  },
  {
   "cell_type": "markdown",
   "metadata": {},
   "source": [
    "# Problem #2: Newman 5.7: Adaptive integration\n",
    "\n",
    "# Comment: please only submit what you want me to grade. It is unnecessary and just makes more effort for me if you include things you know didn't work as well."
   ]
  },
  {
   "cell_type": "markdown",
   "metadata": {},
   "source": [
    "Defining function: $$f(x)=\\sin^2{\\sqrt{100x}}$$"
   ]
  },
  {
   "cell_type": "code",
   "execution_count": 3,
   "metadata": {},
   "outputs": [],
   "source": [
    "a=0\n",
    "b=1\n",
    "def f(x):\n",
    "    return (np.sin(np.sqrt(100*x)))**2"
   ]
  },
  {
   "cell_type": "code",
   "execution_count": 4,
   "metadata": {},
   "outputs": [],
   "source": [
    "###Using following recursive formula for summation\n",
    "###----------------------------------------------\n",
    "# def S(n):\n",
    "#     if n==1:\n",
    "#         return n\n",
    "#     else:\n",
    "#         return n+S(n-1)\n",
    "###-----------------------------------------------\n",
    "###-----------------------------------------------\n",
    "\n",
    "# N=2000\n",
    "# h=(b-a)/N\n",
    "# def Sum_1(n):\n",
    "#     if n==1:\n",
    "#         return f(a+n*h)\n",
    "#     else:\n",
    "#         return f(a+n*h)+Sum_1(n-1)\n"
   ]
  },
  {
   "cell_type": "markdown",
   "metadata": {},
   "source": [
    "Defining trapezoidal integration:\n",
    "     $$I=h\\left(\\frac{1}{2}f(a)+\\frac{1}{2}f(b)+\\sum_1^n f(a+kh)\\right)$$"
   ]
  },
  {
   "cell_type": "markdown",
   "metadata": {},
   "source": [
    "# Comment: incorrectly double-counts the end-points of the interval"
   ]
  },
  {
   "cell_type": "code",
   "execution_count": 5,
   "metadata": {},
   "outputs": [],
   "source": [
    "def Trapezoidal_integration(N):\n",
    "    h=(b-a)/N\n",
    "    x=np.arange(0,N,h)\n",
    "    return h*(0.5*f(a)+0.5*f(b)+np.sum(f(x)[0:N+1]))\n",
    "   "
   ]
  },
  {
   "cell_type": "code",
   "execution_count": 6,
   "metadata": {},
   "outputs": [],
   "source": [
    "# x=np.arange(0,4,1/4)\n",
    "# print(np.sum(f(x)[0:5]))\n",
    "# Sum_2(4)"
   ]
  },
  {
   "cell_type": "code",
   "execution_count": 7,
   "metadata": {},
   "outputs": [],
   "source": [
    "# 1/4,2/4,3/4,4/4"
   ]
  },
  {
   "cell_type": "code",
   "execution_count": 8,
   "metadata": {},
   "outputs": [],
   "source": [
    "# print(Sum_1(4))\n",
    "# f(4*(1/4))+f((1/4)*3)+f(2*(1/4))+f(1*(1/4))"
   ]
  },
  {
   "cell_type": "code",
   "execution_count": 9,
   "metadata": {},
   "outputs": [
    {
     "name": "stdout",
     "output_type": "stream",
     "text": [
      "0.14797948454665205\n",
      "0.4732113923531267\n",
      "0.5294505615372165\n",
      "0.5862725929966575\n",
      "0.5182124602227061\n",
      "0.4714931777177552\n",
      "0.4490387070023214\n",
      "0.43999231961491125\n",
      "0.43741935532781184\n",
      "0.43778241398155227\n",
      "0.43937109247478995\n",
      "0.4413747418524998\n",
      "0.44341828018804264\n",
      "0.4453373948054573\n",
      "0.447069578545184\n",
      "0.44860080486307846\n",
      "0.44993920886319055\n",
      "0.45110207357547466\n",
      "0.4521094623241103\n"
     ]
    }
   ],
   "source": [
    "for i in range(1,20):   ##Trapezoidal integral values starting one slice till 20 slices\n",
    "    print(Trapezoidal_integration(i))"
   ]
  },
  {
   "cell_type": "markdown",
   "metadata": {},
   "source": [
    "Trapezoidal integration: According to the textbook, calculating the first approximation $I_1$ to the integral using number of steps $N=2000$ (my best approximation) with the standard trapezoidal rule formula given by Eq. (5.3)\n",
    "    "
   ]
  },
  {
   "cell_type": "code",
   "execution_count": 10,
   "metadata": {},
   "outputs": [
    {
     "data": {
      "text/plain": [
       "0.45597852358195207"
      ]
     },
     "execution_count": 10,
     "metadata": {},
     "output_type": "execute_result"
    }
   ],
   "source": [
    "I_1=Trapezoidal_integration(2000)\n",
    "I_1"
   ]
  },
  {
   "cell_type": "markdown",
   "metadata": {},
   "source": [
    "# From here please skip to cell 18 because I spent most of my time in error estimation which in the end worked, not accurately but significantly improved. Also cell 20 and 21 for problem 2 were added after I finished problem 3. That should be taken as my final answer. My appologies for making it lengthy"
   ]
  },
  {
   "cell_type": "markdown",
   "metadata": {},
   "source": [
    "So, $I_1=0.455979$ (rounded to 6 decimal digits).\\\n",
    "\\\n",
    "Now calculating sum using equation 5.34 with double the number of steps. Let's first define the sum and test for few number of steps. I used n=4 for testing my summation:\\\n",
    "$$h_i\\sum_{k\\hspace{1mm} odd,i=1}^{N_{i-1}}f(a+kh_i)$$\n"
   ]
  },
  {
   "cell_type": "code",
   "execution_count": 11,
   "metadata": {},
   "outputs": [],
   "source": [
    "# def Sum(n):     ##Note: In the code n_odd is k, only odd values\n",
    "###-----------------------------------------------\n",
    "###-----------------------------------------------\n",
    "#     n_odd=2*n-1\n",
    "#     h_i=(b-a)/n_odd\n",
    "#     s=f(a+n_odd*h_i)\n",
    "#     if n_odd==1:\n",
    "#         return s\n",
    "#     else:\n",
    "#         return s+Sum(n-1)"
   ]
  },
  {
   "cell_type": "code",
   "execution_count": 12,
   "metadata": {},
   "outputs": [],
   "source": [
    "# # Test for n=4; i.e first 4 odd numbers starting from 1\n",
    "###-----------------------------------------------\n",
    "###-----------------------------------------------\n",
    "# print(Sum(4))\n",
    "# f((1/7)*7)+f((1/5)*5)+f(3*(1/3))+f(1)"
   ]
  },
  {
   "cell_type": "markdown",
   "metadata": {},
   "source": [
    "Now using equation 5.34:\\\n",
    "$$I_i=\\frac{1}{2}I_{i-1}+h_i\\sum_{k\\hspace{1mm} odd,i=1}^{N_{i-1}}f(a+kh_i)$$\n",
    "From following Newman textbook, $I_{i-1}$ is my previosly evaluated integral while $I_i$ is current integral "
   ]
  },
  {
   "cell_type": "code",
   "execution_count": 13,
   "metadata": {},
   "outputs": [],
   "source": [
    "def adaptive_trapezoidal(N):\n",
    "    h_i=(b-a)/(2*N)\n",
    "    x=np.arange(0,2*N,h_i)\n",
    "    I_0=Trapezoidal_integration(N)\n",
    "    I_2=0.5*I_0+h_i*np.sum(f(x)[0:(2*N)+1:2])\n",
    "    err=(I_0-I_2)/3\n",
    "    return I_0,I_2,err"
   ]
  },
  {
   "cell_type": "code",
   "execution_count": 14,
   "metadata": {},
   "outputs": [],
   "source": [
    "# adaptive_trapezoidal(4000)"
   ]
  },
  {
   "cell_type": "code",
   "execution_count": 15,
   "metadata": {},
   "outputs": [],
   "source": [
    "# adaptive_trapezoidal(6000)    # THIS IS MY BEST ESTIMATE, I WILL LOOK AT THE SOLUTION AFTER TO BETTER UNDERSTAND IT"
   ]
  },
  {
   "cell_type": "markdown",
   "metadata": {},
   "source": [
    "The code below didn't work, I spent around 2 hours in that but finally I quit as it was frustrating why it's keep running even when I manually inserted value of $epsilon>4.1105412374083565e-06$ and I know that error is less than this value of epsilon. \\\n",
    "\\\n",
    "The below function works well for error 1e-06 but I don't think Integral is correct as it is already more than 0.45 "
   ]
  },
  {
   "cell_type": "code",
   "execution_count": 16,
   "metadata": {},
   "outputs": [],
   "source": [
    "def adaptive_trapezoidal_err(N,epsilon):\n",
    "    h_i=(b-a)/N\n",
    "    x=np.arange(0,N,h_i)\n",
    "    I_0=Trapezoidal_integration(N)\n",
    "    err=1\n",
    "    n=N\n",
    "    I_2=1\n",
    "    while abs(err)>epsilon:\n",
    "        I_2=0.5*I_0+h_i*np.sum(f(x)[0:n+1:2])\n",
    "        err=(I_0-I_2)/3\n",
    "        print(err)\n",
    "        print(I_2)\n",
    "        n+=100\n",
    "        print(n)\n",
    "    return I_0,I_2,err,n\n"
   ]
  },
  {
   "cell_type": "code",
   "execution_count": 17,
   "metadata": {},
   "outputs": [
    {
     "name": "stdout",
     "output_type": "stream",
     "text": [
      "9.940594604314807e-07\n",
      "0.45597554140357077\n",
      "2100\n"
     ]
    },
    {
     "data": {
      "text/plain": [
       "(0.45597852358195207, 0.45597554140357077, 9.940594604314807e-07, 2100)"
      ]
     },
     "execution_count": 17,
     "metadata": {},
     "output_type": "execute_result"
    }
   ],
   "source": [
    "adaptive_trapezoidal_err(2000,10e-6)  #Looks like precision achieved but accuracy is lost. I might be using wrong code\n",
    "                                      #Should define variables inside while loop again"
   ]
  },
  {
   "cell_type": "markdown",
   "metadata": {},
   "source": [
    "$\\textbf{Trying once more}$: I posted my query in the discord channel and took help from Taylor, I was advised to change my definition of n. Also, Taylor advised using numpy sum instead of recurssion for fast calculation that's why all my previously defined sum are commented out.\\\n",
    "So for Problem no.2 the credit goes to taylor for all the suggestion and improvement in codes. $\\textbf{I still didn't get correct answer but I think it's better. I might be wrong}$"
   ]
  },
  {
   "cell_type": "code",
   "execution_count": 18,
   "metadata": {},
   "outputs": [],
   "source": [
    "def adaptive_trapezoidal_err_second(N,epsilon):\n",
    "    h_i=(b-a)/N\n",
    "    x=np.arange(0,N,h_i)\n",
    "    I_0=Trapezoidal_integration(N)\n",
    "    err=1\n",
    "    n=1\n",
    "    while abs(err)>epsilon:\n",
    "        I_1=I_0\n",
    "        n*=2\n",
    "        h_i=(b-a)/n\n",
    "        x=np.arange(0,n,h_i)\n",
    "        I_2=0.5*I_0+h_i*np.sum(f(x)[0:n+1:2])\n",
    "        err=(I_2-I_1)/3\n",
    "        print('error=',err)\n",
    "        print('Adaptive integral value=',I_2)\n",
    "        print('number of iterations=',n)        \n",
    "    return I_0,I_2,err,n\n"
   ]
  },
  {
   "cell_type": "code",
   "execution_count": 19,
   "metadata": {},
   "outputs": [
    {
     "name": "stdout",
     "output_type": "stream",
     "text": [
      "error= -0.026669925748107986\n",
      "Adaptive integral value= 0.3759687463376281\n",
      "number of iterations= 2\n",
      "error= -0.009459478917025236\n",
      "Adaptive integral value= 0.42760008683087636\n",
      "number of iterations= 4\n",
      "error= 0.015549866379673724\n",
      "Adaptive integral value= 0.5026281227209732\n",
      "number of iterations= 8\n",
      "error= -0.005747273255895395\n",
      "Adaptive integral value= 0.4387367038142659\n",
      "number of iterations= 16\n",
      "error= -0.002771072750506568\n",
      "Adaptive integral value= 0.44766530533043236\n",
      "number of iterations= 32\n",
      "error= -0.0004899164837332178\n",
      "Adaptive integral value= 0.4545087741307524\n",
      "number of iterations= 64\n",
      "error= 4.109784657755725e-05\n",
      "Adaptive integral value= 0.45610181712168474\n",
      "number of iterations= 128\n",
      "error= 8.767841897847999e-05\n",
      "Adaptive integral value= 0.4562415588388875\n",
      "number of iterations= 256\n",
      "error= 5.17979554665593e-05\n",
      "Adaptive integral value= 0.45613391744835174\n",
      "number of iterations= 512\n",
      "error= 1.8783083411207564e-05\n",
      "Adaptive integral value= 0.4560348728321857\n",
      "number of iterations= 1024\n",
      "error= -1.510705692375769e-06\n",
      "Adaptive integral value= 0.45597399146487494\n",
      "number of iterations= 2048\n"
     ]
    },
    {
     "data": {
      "text/plain": [
       "(0.45597852358195207, 0.45597399146487494, -1.510705692375769e-06, 2048)"
      ]
     },
     "execution_count": 19,
     "metadata": {},
     "output_type": "execute_result"
    }
   ],
   "source": [
    "adaptive_trapezoidal_err_second(2000,10e-06) "
   ]
  },
  {
   "cell_type": "markdown",
   "metadata": {},
   "source": [
    "# Third try, after finishing problem 3, I got some ideas so please see my final adaptive trapezoidal function"
   ]
  },
  {
   "cell_type": "code",
   "execution_count": 20,
   "metadata": {},
   "outputs": [],
   "source": [
    "def adaptive_trapezoidal_err_third(epsilon):\n",
    "    err=1\n",
    "    n=1\n",
    "    while abs(err)>epsilon:\n",
    "        I_1=Trapezoidal_integration(n)\n",
    "        n*=2\n",
    "        h_i=(b-a)/n\n",
    "        x=np.arange(0,n,h_i)\n",
    "        I_2=0.5*I_1+h_i*np.sum(f(x)[0:n+1:2])                       \n",
    "        err=(I_2-I_1)/3\n",
    "        print('Adaptive integral value=',I_2)\n",
    "        print('error=',err)\n",
    "        print('number of iterations=',n)\n",
    "###------------------------------------------###Again the same problem my loop is not terminating \n",
    "###------------------------------------------###So I have to break it, otherwise it was going forever\n",
    "        if n>8000:                      \n",
    "            break\n",
    "    return I_1,I_2,err,n"
   ]
  },
  {
   "cell_type": "code",
   "execution_count": 21,
   "metadata": {},
   "outputs": [
    {
     "name": "stdout",
     "output_type": "stream",
     "text": [
      "Adaptive integral value= 0.22196922681997808\n",
      "error= 0.02466324742444201\n",
      "number of iterations= 2\n",
      "Adaptive integral value= 0.4362165212164637\n",
      "error= -0.012331623712220999\n",
      "number of iterations= 4\n",
      "Adaptive integral value= 0.567775157428326\n",
      "error= -0.0061658118561104995\n",
      "number of iterations= 8\n",
      "Adaptive integral value= 0.4307436018307455\n",
      "error= -0.0030829059280552498\n",
      "number of iterations= 16\n",
      "Adaptive integral value= 0.4439764459709956\n",
      "error= -0.0015414529640276158\n",
      "number of iterations= 32\n",
      "Adaptive integral value= 0.45535120412559427\n",
      "error= -0.0007707264820138171\n",
      "number of iterations= 64\n",
      "Adaptive integral value= 0.4573812003844381\n",
      "error= -0.00038536324100690855\n",
      "number of iterations= 128\n",
      "Adaptive integral value= 0.45708263895733325\n",
      "error= -0.00019268162050345428\n",
      "number of iterations= 256\n",
      "Adaptive integral value= 0.45657833374550666\n",
      "error= -9.634081025172714e-05\n",
      "number of iterations= 512\n",
      "Adaptive integral value= 0.4562357332977969\n",
      "error= -4.817040512585432e-05\n",
      "number of iterations= 1024\n",
      "Adaptive integral value= 0.4560417149554865\n",
      "error= -2.408520256293641e-05\n",
      "number of iterations= 2048\n",
      "Adaptive integral value= 0.4559390196131794\n",
      "error= -1.2042601281458953e-05\n",
      "number of iterations= 4096\n",
      "Adaptive integral value= 0.4558862499840374\n",
      "error= -6.0213006407202245e-06\n",
      "number of iterations= 8192\n"
     ]
    },
    {
     "data": {
      "text/plain": [
       "(0.45590431388595953, 0.4558862499840374, -6.0213006407202245e-06, 8192)"
      ]
     },
     "execution_count": 21,
     "metadata": {},
     "output_type": "execute_result"
    }
   ],
   "source": [
    "adaptive_trapezoidal_err_third(1e-6)"
   ]
  },
  {
   "cell_type": "markdown",
   "metadata": {},
   "source": [
    "# Grade 6/10\n",
    "# Comment: -1 trapezoidal rule wrong; -1 incorrect use of end-points in adaptive update; -1 final result is a bit off; -1 no comment on fact that numericanl precision requested is not achieved"
   ]
  },
  {
   "cell_type": "markdown",
   "metadata": {},
   "source": [
    "# Problem #3: Newman 5.7: Adaptive and Romberg integration\n",
    "\n",
    "# Grade 6.5/10\n",
    "# Comment: err=1/(4**(m+1)-1)*(R_21[m]-R_11[m]) is not the correct formula; the numerous repeated values in your table should have been a warning sign; you have not printed a triangular table, just a list of numbers of unclear interpretation"
   ]
  },
  {
   "cell_type": "markdown",
   "metadata": {},
   "source": [
    "Using the code in cell 16, acccording to textbook use I_1 and I_2 as first two estimates from previously calculated integral using trapezoidal method. Then from equation 5.51:\n",
    "$$R_{i,m+1}=R_{i,m}+\\frac{1}{4^m-1}(R_{i,m}-R_{i-1,m})$$\n",
    "where error is given by eq 5.49: $$error=\\frac{1}{4^m-1}(R_{i,m}-R_{i-1,m})$$\n",
    "Therefore eq 5.51 simply is:\n",
    "$$R_{i,m+1}=R_{i,m}+error$$"
   ]
  },
  {
   "cell_type": "code",
   "execution_count": 22,
   "metadata": {},
   "outputs": [],
   "source": [
    "def Romberg_err(epsilon):\n",
    "    err=1\n",
    "    n=1\n",
    "    Romberg_index=1\n",
    "    R_11=[]\n",
    "    R_21=[]\n",
    "    R_22=[]\n",
    "    while abs(err)>epsilon:\n",
    "        I_1=Trapezoidal_integration(n)\n",
    "        R_11.append(I_1)\n",
    "        n*=2\n",
    "        h_i=(b-a)/n\n",
    "        x=np.arange(0,n,h_i)\n",
    "        I_2=0.5*I_1+h_i*np.sum(f(x)[0:n+1:2])        #this will be my R_21; first iterated value\n",
    "###--------------------------------------------     \n",
    "###--------------------------------------------  \n",
    "###I got error \"division by zero\" using 4**m, so I changed it to 4**(m+1)\n",
    "        R_21.append(I_2)                            #Saving R_21 \n",
    "        for m in range(Romberg_index):\n",
    "            err=1/(4**(m+1)-1)*(R_21[m]-R_11[m]) ###----------------error.  eq(5.49), Newman\n",
    "            R_2=R_21[m]+err                      ###----------------eq(5.51), Newman\n",
    "            R_22.append(R_2)\n",
    "        Romberg_index+=1\n",
    "        print('Romberg table=',R_22)\n",
    "        print('error=',err)\n",
    "        print('number of iterations=',n)\n",
    "        \n",
    "    return R_21,R_22,err,n"
   ]
  },
  {
   "cell_type": "code",
   "execution_count": 23,
   "metadata": {},
   "outputs": [
    {
     "name": "stdout",
     "output_type": "stream",
     "text": [
      "Romberg table= [0.24663247424442009]\n",
      "error= 0.02466324742444201\n",
      "number of iterations= 2\n",
      "Romberg table= [0.24663247424442009, 0.24663247424442009, 0.4337501964740195]\n",
      "error= -0.0024663247424442\n",
      "number of iterations= 4\n",
      "Romberg table= [0.24663247424442009, 0.24663247424442009, 0.4337501964740195, 0.24663247424442009, 0.4337501964740195, 0.5674815473399397]\n",
      "error= -0.0002936100883862143\n",
      "number of iterations= 8\n",
      "Romberg table= [0.24663247424442009, 0.24663247424442009, 0.4337501964740195, 0.24663247424442009, 0.4337501964740195, 0.5674815473399397, 0.24663247424442009, 0.4337501964740195, 0.5674815473399397, 0.43070733234923897]\n",
      "error= -3.6269481506532354e-05\n",
      "number of iterations= 16\n",
      "Romberg table= [0.24663247424442009, 0.24663247424442009, 0.4337501964740195, 0.24663247424442009, 0.4337501964740195, 0.5674815473399397, 0.24663247424442009, 0.4337501964740195, 0.5674815473399397, 0.43070733234923897, 0.24663247424442009, 0.4337501964740195, 0.5674815473399397, 0.43070733234923897, 0.4439719255810718]\n",
      "error= -4.52038992383465e-06\n",
      "number of iterations= 32\n",
      "Romberg table= [0.24663247424442009, 0.24663247424442009, 0.4337501964740195, 0.24663247424442009, 0.4337501964740195, 0.5674815473399397, 0.24663247424442009, 0.4337501964740195, 0.5674815473399397, 0.43070733234923897, 0.24663247424442009, 0.4337501964740195, 0.5674815473399397, 0.43070733234923897, 0.4439719255810718, 0.24663247424442009, 0.4337501964740195, 0.5674815473399397, 0.43070733234923897, 0.4439719255810718, 0.4553506394908089]\n",
      "error= -5.646347853581078e-07\n",
      "number of iterations= 64\n"
     ]
    },
    {
     "data": {
      "text/plain": [
       "([0.22196922681997808,\n",
       "  0.4362165212164637,\n",
       "  0.567775157428326,\n",
       "  0.4307436018307455,\n",
       "  0.4439764459709956,\n",
       "  0.45535120412559427],\n",
       " [0.24663247424442009,\n",
       "  0.24663247424442009,\n",
       "  0.4337501964740195,\n",
       "  0.24663247424442009,\n",
       "  0.4337501964740195,\n",
       "  0.5674815473399397,\n",
       "  0.24663247424442009,\n",
       "  0.4337501964740195,\n",
       "  0.5674815473399397,\n",
       "  0.43070733234923897,\n",
       "  0.24663247424442009,\n",
       "  0.4337501964740195,\n",
       "  0.5674815473399397,\n",
       "  0.43070733234923897,\n",
       "  0.4439719255810718,\n",
       "  0.24663247424442009,\n",
       "  0.4337501964740195,\n",
       "  0.5674815473399397,\n",
       "  0.43070733234923897,\n",
       "  0.4439719255810718,\n",
       "  0.4553506394908089],\n",
       " -5.646347853581078e-07,\n",
       " 64)"
      ]
     },
     "execution_count": 23,
     "metadata": {},
     "output_type": "execute_result"
    }
   ],
   "source": [
    "Romberg_err(1e-6)"
   ]
  },
  {
   "cell_type": "markdown",
   "metadata": {},
   "source": [
    "In this problem I simply followed page 160 and page 161 of Newman, I think as asked in the question my code is printing Romberg table and Integral is converging fast. Again it might not be the best estimation."
   ]
  },
  {
   "cell_type": "markdown",
   "metadata": {},
   "source": [
    "# Problem #4: Newman 5.9: Heat capacity of a solid"
   ]
  },
  {
   "cell_type": "markdown",
   "metadata": {},
   "source": [
    "# Grade 9/10\n",
    "# Comments: your formula for the low-temperature limit is wrong (^4 instead of ^2) -- you did not comment that it didn't match. Use units on your plots. More efficient to call gaussxw just once."
   ]
  },
  {
   "cell_type": "code",
   "execution_count": 24,
   "metadata": {},
   "outputs": [
    {
     "name": "stdout",
     "output_type": "stream",
     "text": [
      "281_01.ipynb                            Practice.ipynb\r\n",
      "Fermi_Ratio.ipynb                       \u001b[34m__pycache__\u001b[m\u001b[m/\r\n",
      "HW #1.ipynb                             \u001b[34mexercises2\u001b[m\u001b[m/\r\n",
      "HW#2.ipynb                              \u001b[34mexercises3\u001b[m\u001b[m/\r\n",
      "HW1_solutions.ipynb                     gaussxw.py\r\n",
      "\u001b[34mHWs\u001b[m\u001b[m/                                    kambojshivam_59084_5266063_HW #1.ipynb\r\n",
      "\u001b[34mLectures\u001b[m\u001b[m/\r\n"
     ]
    }
   ],
   "source": [
    "ls"
   ]
  },
  {
   "cell_type": "code",
   "execution_count": 25,
   "metadata": {},
   "outputs": [],
   "source": [
    "# %load gaussxw.py\n",
    "######################################################################\n",
    "#\n",
    "# Functions to calculate integration points and weights for Gaussian\n",
    "# quadrature\n",
    "#\n",
    "# x,w = gaussxw(N) returns integration points x and integration\n",
    "#           weights w such that sum_i w[i]*f(x[i]) is the Nth-order\n",
    "#           Gaussian approximation to the integral int_{-1}^1 f(x) dx\n",
    "# x,w = gaussxwab(N,a,b) returns integration points and weights\n",
    "#           mapped to the interval [a,b], so that sum_i w[i]*f(x[i])\n",
    "#           is the Nth-order Gaussian approximation to the integral\n",
    "#           int_a^b f(x) dx\n",
    "#\n",
    "# This code finds the zeros of the nth Legendre polynomial using\n",
    "# Newton's method, starting from the approximation given in Abramowitz\n",
    "# and Stegun 22.16.6.  The Legendre polynomial itself is evaluated\n",
    "# using the recurrence relation given in Abramowitz and Stegun\n",
    "# 22.7.10.  The function has been checked against other sources for\n",
    "# values of N up to 1000.  It is compatible with version 2 and version\n",
    "# 3 of Python.\n",
    "#\n",
    "# Written by Mark Newman <mejn@umich.edu>, June 4, 2011\n",
    "# You may use, share, or modify this file freely\n",
    "#\n",
    "######################################################################\n",
    "\n",
    "from numpy import ones,copy,cos,tan,pi,linspace\n",
    "\n",
    "def gaussxw(N):\n",
    "\n",
    "    # Initial approximation to roots of the Legendre polynomial\n",
    "    a = linspace(3,4*N-1,N)/(4*N+2)\n",
    "    x = cos(pi*a+1/(8*N*N*tan(a)))\n",
    "\n",
    "    # Find roots using Newton's method\n",
    "    epsilon = 1e-15\n",
    "    delta = 1.0\n",
    "    while delta>epsilon:\n",
    "        p0 = ones(N,float)\n",
    "        p1 = copy(x)\n",
    "        for k in range(1,N):\n",
    "            p0,p1 = p1,((2*k+1)*x*p1-k*p0)/(k+1)\n",
    "        dp = (N+1)*(p0-x*p1)/(1-x*x)\n",
    "        dx = p1/dp\n",
    "        x -= dx\n",
    "        delta = max(abs(dx))\n",
    "\n",
    "    # Calculate the weights\n",
    "    w = 2*(N+1)*(N+1)/(N*N*(1-x*x)*dp*dp)\n",
    "\n",
    "    return x,w\n",
    "\n",
    "def gaussxwab(N,a,b):\n",
    "    x,w = gaussxw(N)\n",
    "    return 0.5*(b-a)*x+0.5*(b+a),0.5*(b-a)*w\n"
   ]
  },
  {
   "cell_type": "markdown",
   "metadata": {},
   "source": [
    "Defining the function:$$C_V=9V\\rho k_B\\left(\\frac{T}{\\theta_D}\\right)^3\\int_0^{\\theta_D/T}\\frac{x^4e^x}{(e^x-1)^2}dx$$"
   ]
  },
  {
   "cell_type": "markdown",
   "metadata": {},
   "source": [
    "$\\textbf{Part(a)}$"
   ]
  },
  {
   "cell_type": "code",
   "execution_count": 26,
   "metadata": {},
   "outputs": [],
   "source": [
    "######defining integrand I(x)\n",
    "###-----------------------------####\n",
    "###-----------------------------####\n",
    "def I(x):\n",
    "    return (x**4*np.exp(x))/(np.expm1(x)**2)\n"
   ]
  },
  {
   "cell_type": "code",
   "execution_count": 27,
   "metadata": {},
   "outputs": [],
   "source": [
    "N=50\n",
    "V=1000e-6   # --------------in cubic meters\n",
    "ro=6.022e28 #  --------------in per cubic meters\n",
    "theta_D=428 #  --------------K\n",
    "k_B = 1.380649e-23 #--------in S.I units\n",
    "a=0\n",
    "def CV(T):\n",
    "    b=theta_D/T\n",
    "    x,w=gaussxwab(N,a,b)\n",
    "    integral=np.sum(w*I(x))\n",
    "    return (9*ro*V*k_B*(T/theta_D)**3)*integral\n",
    "    "
   ]
  },
  {
   "cell_type": "code",
   "execution_count": 28,
   "metadata": {},
   "outputs": [
    {
     "data": {
      "text/plain": [
       "(2004.8881212151355, 0.3098942173252329, 2405.2364588488863)"
      ]
     },
     "execution_count": 28,
     "metadata": {},
     "output_type": "execute_result"
    }
   ],
   "source": [
    "CV(200),CV(5),CV(500)"
   ]
  },
  {
   "cell_type": "markdown",
   "metadata": {},
   "source": [
    "$$C_V(min)=\\frac{12\\pi^2}{5}\\rho V k_B\\left(\\frac{T}{\\theta_D}\\right)^3$$\n",
    "$$C_V(max)=\\rho V k_B$$"
   ]
  },
  {
   "cell_type": "markdown",
   "metadata": {},
   "source": [
    "$\\textbf{Part(b)}$"
   ]
  },
  {
   "cell_type": "code",
   "execution_count": 29,
   "metadata": {},
   "outputs": [],
   "source": [
    "def CV_min(T):\n",
    "    if T<210.0:\n",
    "        return 0.2*(12*np.pi**2)*ro*V*k_B*((T/theta_D)**3)\n",
    "    else:\n",
    "        return None"
   ]
  },
  {
   "cell_type": "code",
   "execution_count": 30,
   "metadata": {},
   "outputs": [
    {
     "data": {
      "text/plain": [
       "(0.03139884890330882, 2009.5263298117645)"
      ]
     },
     "execution_count": 30,
     "metadata": {},
     "output_type": "execute_result"
    }
   ],
   "source": [
    "CV_min(5),CV_min(200)"
   ]
  },
  {
   "cell_type": "code",
   "execution_count": 31,
   "metadata": {},
   "outputs": [],
   "source": [
    "def CV_max(T):\n",
    "    if T>=200.0:\n",
    "        return 3*ro*V*k_B\n",
    "    else:\n",
    "        return None"
   ]
  },
  {
   "cell_type": "code",
   "execution_count": 32,
   "metadata": {},
   "outputs": [
    {
     "data": {
      "text/plain": [
       "(2494.2804834000003, 2494.2804834000003)"
      ]
     },
     "execution_count": 32,
     "metadata": {},
     "output_type": "execute_result"
    }
   ],
   "source": [
    "CV_max(500),CV_max(200)"
   ]
  },
  {
   "cell_type": "code",
   "execution_count": 33,
   "metadata": {},
   "outputs": [],
   "source": [
    "# print('C_v at T =5K calculated from the function CV(5);',CV(5))\n",
    "# print('low-temperature limit C_v;',CV_min_max(5))\n",
    "# print('C_v at T=500K calculated from the function CV(500);',CV(500))\n",
    "# print('high-temperature limit C_v;',CV_min_max(500))"
   ]
  },
  {
   "cell_type": "code",
   "execution_count": 34,
   "metadata": {
    "scrolled": false
   },
   "outputs": [
    {
     "data": {
      "image/png": "[encoded data removed]",
      "text/plain": [
       "<Figure size 720x720 with 1 Axes>"
      ]
     },
     "metadata": {
      "needs_background": "light"
     },
     "output_type": "display_data"
    }
   ],
   "source": [
    "fig = plt.figure(figsize=(10,10))\n",
    "x_axis = []\n",
    "y_axis = []\n",
    "y_CV_min= []\n",
    "y_CV_max= []\n",
    "for i in np.arange(2,501,1):\n",
    "    x_axis.append(i)\n",
    "    y_axis.append(CV(i))\n",
    "    y_CV_min.append(CV_min(i))\n",
    "    y_CV_max.append(CV_max(i))\n",
    "# print(y_CV_mm)\n",
    "plt.plot(x_axis,y_axis,label='Heat Capacity C_v')\n",
    "plt.plot(x_axis, y_CV_min,'--',label='low-temperature limit C_v')\n",
    "plt.plot(x_axis, y_CV_max,'--',label='high-temperature limit C_v')\n",
    "plt.xlabel(\" Temperature (T)\",fontsize=15)\n",
    "plt.ylabel(\" $C_V(T)$ \",fontsize=15)\n",
    "plt.legend(loc='best',fontsize=15)\n",
    "plt.title('Heat Capacity $C_V$ of Solid Aluminium based on Debye’s theory of solids')\n",
    "plt.show()"
   ]
  },
  {
   "cell_type": "markdown",
   "metadata": {},
   "source": [
    "$\\textbf{End of Homework 2}$"
   ]
  }
 ],
 "metadata": {
  "kernelspec": {
   "display_name": "Python 3 (ipykernel)",
   "language": "python",
   "name": "python3"
  },
  "language_info": {
   "codemirror_mode": {
    "name": "ipython",
    "version": 3
   },
   "file_extension": ".py",
   "mimetype": "text/x-python",
   "name": "python",
   "nbconvert_exporter": "python",
   "pygments_lexer": "ipython3",
   "version": "3.9.12"
  }
 },
 "nbformat": 4,
 "nbformat_minor": 4
}
