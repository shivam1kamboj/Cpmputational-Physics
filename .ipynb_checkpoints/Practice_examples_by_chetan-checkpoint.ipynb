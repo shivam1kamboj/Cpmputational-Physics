{
 "cells": [
  {
   "cell_type": "code",
   "execution_count": 1,
   "id": "fbe24ac7",
   "metadata": {},
   "outputs": [],
   "source": [
    "import numpy as np\n",
    "import matplotlib.pyplot as plt"
   ]
  },
  {
   "cell_type": "code",
   "execution_count": 2,
   "id": "2c1af9cb",
   "metadata": {},
   "outputs": [],
   "source": [
    "given_array = [3, 6, 7, 11]\n",
    "number_hours = 8\n",
    "given_array = np.array(given_array)\n",
    "\n",
    "#You can only touch one pill in one hour\n",
    "#You can continue with the same pile after eating k number of banana\n",
    "#Optimize k to eat maximum number of bananas in 8 hours\n",
    "#k is number of bananas eated per hour"
   ]
  },
  {
   "cell_type": "code",
   "execution_count": 3,
   "id": "00f478a6",
   "metadata": {},
   "outputs": [],
   "source": [
    "Total_bananas = np.sum(given_array)\n",
    "Number_of_hours = Total_bananas/number_hours"
   ]
  },
  {
   "cell_type": "code",
   "execution_count": 4,
   "id": "fd7dd36c",
   "metadata": {},
   "outputs": [
    {
     "data": {
      "text/plain": [
       "(27, 3.375)"
      ]
     },
     "execution_count": 4,
     "metadata": {},
     "output_type": "execute_result"
    }
   ],
   "source": [
    "Total_bananas, Number_of_hours"
   ]
  },
  {
   "cell_type": "code",
   "execution_count": 5,
   "id": "f0714ae2",
   "metadata": {},
   "outputs": [],
   "source": [
    "given_array_2 = np.array([30, 11, 23, 4, 20])\n",
    "number_hours_2 = 5"
   ]
  },
  {
   "cell_type": "code",
   "execution_count": 6,
   "id": "016cbf4e",
   "metadata": {},
   "outputs": [],
   "source": [
    "Number_of_hours_2 = np.sum(given_array_2)/number_hours_2"
   ]
  },
  {
   "cell_type": "code",
   "execution_count": 7,
   "id": "b8bd779a",
   "metadata": {},
   "outputs": [
    {
     "data": {
      "text/plain": [
       "17.6"
      ]
     },
     "execution_count": 7,
     "metadata": {},
     "output_type": "execute_result"
    }
   ],
   "source": [
    "Number_of_hours_2"
   ]
  },
  {
   "cell_type": "code",
   "execution_count": 28,
   "id": "c9c02626",
   "metadata": {},
   "outputs": [
    {
     "name": "stdout",
     "output_type": "stream",
     "text": [
      "4 11\n",
      "4 11\n",
      "4 11\n",
      "4 11\n",
      "4 11\n"
     ]
    }
   ],
   "source": [
    "##Binary search method\n",
    "epsilon=np.count_nonzero(given_array)\n",
    "x_1=given_array[0]\n",
    "x_2=given_array[-1]\n",
    "iterations=0\n",
    "k1 = np.sum(np.ceil(given_array/x_1))\n",
    "k2 = np.sum(np.ceil(given_array/x_2))\n",
    "\n",
    "while iterations < 5:\n",
    "\n",
    "\n",
    "    \n",
    "    if (k1>= epsilon and k1<= number_hours): \n",
    "        \n",
    "        x_1 = x_1\n",
    "        \n",
    "    else: \n",
    "        \n",
    "        x_1 +=1\n",
    "    \n",
    "    if (k2>= epsilon and k2<= number_hours): \n",
    "        \n",
    "        x_2 = x_2\n",
    "        \n",
    "    else:\n",
    "        \n",
    "        x_2 = epsilon\n",
    "        \n",
    "    k1 = np.sum(np.ceil(given_array/x_1))\n",
    "    k2 = np.sum(np.ceil(given_array/x_2))\n",
    "    \n",
    "#         x_2 = number_hours\n",
    "        \n",
    "#         k1 = np.sum(np.ceil(given_array/x_1))\n",
    "#         k2 = np.sum(np.ceil(given_array/x_2))\n",
    "        \n",
    "#     else:\n",
    "        \n",
    "#         x_1 = number_hours\n",
    "#         x_2 = x_2 \n",
    "        \n",
    "#         k1 = np.sum(np.ceil(given_array/x_1))\n",
    "#         k2 = np.sum(np.ceil(given_array/x_2))\n",
    "    \n",
    "    iterations+=1\n",
    "    \n",
    "#     print(x_1, x_2)\n",
    "    print(x_1, x_2)\n",
    "\n",
    "# x_1, x_2, k1, k2"
   ]
  },
  {
   "cell_type": "code",
   "execution_count": 25,
   "id": "2ecbb673",
   "metadata": {},
   "outputs": [
    {
     "data": {
      "text/plain": [
       "(10.0, 4.0, 3, 11)"
      ]
     },
     "execution_count": 25,
     "metadata": {},
     "output_type": "execute_result"
    }
   ],
   "source": [
    "k1, k2, x_1, x_2"
   ]
  },
  {
   "cell_type": "code",
   "execution_count": 29,
   "id": "a262a8d5",
   "metadata": {},
   "outputs": [
    {
     "data": {
      "image/png": "[encoded data removed]",
      "text/plain": [
       "<Figure size 640x480 with 1 Axes>"
      ]
     },
     "metadata": {},
     "output_type": "display_data"
    }
   ],
   "source": [
    "plt.scatter(np.arange(len(given_array)), np.ceil(given_array/x_1))\n",
    "plt.scatter(np.arange(len(given_array)), np.ceil(given_array/x_2));"
   ]
  },
  {
   "cell_type": "code",
   "execution_count": 20,
   "id": "7e0cf363",
   "metadata": {},
   "outputs": [
    {
     "data": {
      "text/plain": [
       "False"
      ]
     },
     "execution_count": 20,
     "metadata": {},
     "output_type": "execute_result"
    }
   ],
   "source": [
    "k1 <=number_hours and k1>=epsilon"
   ]
  },
  {
   "cell_type": "code",
   "execution_count": 22,
   "id": "13f12e4e",
   "metadata": {},
   "outputs": [
    {
     "data": {
      "text/plain": [
       "True"
      ]
     },
     "execution_count": 22,
     "metadata": {},
     "output_type": "execute_result"
    }
   ],
   "source": [
    "(k2>= epsilon and k2<= number_hours)"
   ]
  },
  {
   "cell_type": "code",
   "execution_count": 30,
   "id": "7f4102b3",
   "metadata": {},
   "outputs": [],
   "source": [
    "sol = []\n",
    "\n",
    "for i, values in enumerate(np.arange(3,11,1)):\n",
    "    \n",
    "    sol.append(np.sum(np.ceil(given_array/values)))\n",
    "    "
   ]
  },
  {
   "cell_type": "code",
   "execution_count": 31,
   "id": "323fee0e",
   "metadata": {},
   "outputs": [
    {
     "data": {
      "text/plain": [
       "[10.0, 8.0, 8.0, 6.0, 5.0, 5.0, 5.0, 5.0]"
      ]
     },
     "execution_count": 31,
     "metadata": {},
     "output_type": "execute_result"
    }
   ],
   "source": [
    "np.where(sol)[0]"
   ]
  },
  {
   "cell_type": "code",
   "execution_count": null,
   "id": "ee250a83",
   "metadata": {},
   "outputs": [],
   "source": [
    "np.where(abs(P_all[i]) == Max_value_G)[0]"
   ]
  }
 ],
 "metadata": {
  "kernelspec": {
   "display_name": "Python 3 (ipykernel)",
   "language": "python",
   "name": "python3"
  },
  "language_info": {
   "codemirror_mode": {
    "name": "ipython",
    "version": 3
   },
   "file_extension": ".py",
   "mimetype": "text/x-python",
   "name": "python",
   "nbconvert_exporter": "python",
   "pygments_lexer": "ipython3",
   "version": "3.9.18"
  }
 },
 "nbformat": 4,
 "nbformat_minor": 5
}
