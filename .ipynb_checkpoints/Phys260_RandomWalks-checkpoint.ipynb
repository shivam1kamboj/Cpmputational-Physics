{
 "cells": [
  {
   "cell_type": "markdown",
   "metadata": {},
   "source": [
    "## 2D Random walks: Generating, Visualizing and Analyzing trajectories\n",
    "Our first task is to create a random walk of 1000 steps, each given by: $x_{n+1} = x_n \\pm 1$ and $y_{n+1} = y_n \\pm 1$, that is the walker moves along each of 4 possible diagonals at each step. Each trajectory will be a list of 1000 x values and 1000 y values. "
   ]
  },
  {
   "cell_type": "code",
   "execution_count": 1,
   "metadata": {},
   "outputs": [],
   "source": [
    "import numpy as np\n",
    "import matplotlib.pyplot as plt\n",
    "from numpy.random import random as rand\n",
    "from scipy import stats"
   ]
  },
  {
   "cell_type": "markdown",
   "metadata": {},
   "source": [
    "demonstrate random number ideas"
   ]
  },
  {
   "cell_type": "code",
   "execution_count": 2,
   "metadata": {},
   "outputs": [],
   "source": [
    "np.random?"
   ]
  },
  {
   "cell_type": "markdown",
   "metadata": {},
   "source": [
    " In the following cell, check a few numpy methods to generate arrays of random numbers of specified length"
   ]
  },
  {
   "cell_type": "code",
   "execution_count": null,
   "metadata": {},
   "outputs": [],
   "source": [
    "#np.random.randn(5)\n",
    "#np.random.randint(2, size=10)\n",
    "np.random.choice((-1,1),10)"
   ]
  },
  {
   "cell_type": "code",
   "execution_count": 4,
   "metadata": {},
   "outputs": [
    {
     "data": {
      "text/plain": [
       "array([1, 1, 1, 1, 0, 0, 0, 1, 0, 1])"
      ]
     },
     "execution_count": 4,
     "metadata": {},
     "output_type": "execute_result"
    }
   ],
   "source": [
    "np.random.randint(2, size=10)"
   ]
  },
  {
   "cell_type": "code",
   "execution_count": null,
   "metadata": {},
   "outputs": [],
   "source": [
    "#Set number of steps for each random walk. \n",
    "#Arrays that you create in the rest of the code will be this long and you can change this by \n",
    "#changing this value from any cell.\n",
    "num_steps = 1000"
   ]
  },
  {
   "cell_type": "code",
   "execution_count": null,
   "metadata": {},
   "outputs": [],
   "source": [
    "# Generate the random walk data.\n",
    "x_steps = 2*(rand(num_steps) < 0.5) - 1# generate random steps +/- 1\n",
    "y_steps = 2*(rand(num_steps) < 0.5) - 1\n",
    "x_coordinate = np.cumsum(x_steps)# sum steps to get position. show that you can do this in Object-oriented way\n",
    "y_coordinate = np.cumsum(y_steps)"
   ]
  },
  {
   "cell_type": "markdown",
   "metadata": {},
   "source": [
    "If unfamiliar with np.cumsum, try \n",
    "a = np.arange(0,10,1)\n",
    "print(a.cumsum())"
   ]
  },
  {
   "cell_type": "code",
   "execution_count": null,
   "metadata": {},
   "outputs": [],
   "source": []
  },
  {
   "cell_type": "code",
   "execution_count": null,
   "metadata": {},
   "outputs": [],
   "source": [
    "plt.plot(x_coordinate, y_coordinate)\n",
    "#Notice the distortion. How do you correct simply?\n",
    "#plt.axis('equal')"
   ]
  },
  {
   "cell_type": "markdown",
   "metadata": {},
   "source": [
    "### the 2D random walk: another algorithm\n",
    "Before exploring the ABP model, we look at an alternative way to generate 2D random walks. Here's the pseudcode for that: \n",
    "1. Choose a random direction at every step ($\\theta$ is a random angle value chosen to be between $0$ & $2 \\pi$. )\n",
    "2. Take a step of fixed size in that direction.\n",
    "3. Append the current positions at each time to arrays of x and y coordinates.\n",
    "\n",
    "This is a continuous analog of the discrete walk we did in second lab, where the walker always took\n",
    "a step along one of 4 diagonal directions on the lattice.  Note that this code can also be vectorized i.e. done in one shot instead of using a for loop."
   ]
  },
  {
   "cell_type": "code",
   "execution_count": 16,
   "metadata": {},
   "outputs": [],
   "source": [
    "#Continuous random walk. Here, we explore another possible kind of random walk. At every step, generate a random angle between [0, 2  𝜋 ] and move the walker in that direction by a unit step (of length=1)\n",
    "#Implement the above in this cell\n",
    "from scipy import stats\n",
    "\n",
    "xvec=np.zeros(0); yvec=np.zeros(0)\n",
    "x=0.0; y = 0.0;\n",
    "xvec = np.append(xvec,x); yvec = np.append(yvec,y)\n",
    "num_steps = 100;\n",
    "step_size = 1;\n",
    "for i in range(num_steps):\n",
    "        theta = stats.uniform.rvs()*2.0*np.pi  #uniformly distributed random angles\n",
    "        x += step_size*np.cos(theta) # update coordinate positions\n",
    "        y += step_size*np.sin(theta)\n",
    "        xvec = np.append(xvec,x); yvec = np.append(yvec,y)   # store successive positions in arrays\n",
    "plt.plot(xvec,yvec,'b-')"
   ]
  },
  {
   "cell_type": "markdown",
   "metadata": {},
   "source": [
    "### Third strategy: Euler-Maruyama integration for 2D random walk\n",
    "Generate independent sequences for x and y coordinates\n",
    "\\begin{align}\n",
    "x_{i+1} &=  x_{i} + \\sqrt{2 D_T dt} w_{x, i}  \\\\\n",
    "y_{i+1} &=  y_{i} + \\sqrt{2 D_T dt} w_{y,i}\n",
    "\\end{align}"
   ]
  },
  {
   "cell_type": "code",
   "execution_count": 15,
   "metadata": {},
   "outputs": [],
   "source": [
    "num_steps = 10000;\n",
    "D =1.0; dt =0.01\n",
    "\n",
    "dx = np.sqrt(2*D*dt)*np.random.randn(num_steps)\n",
    "dy = np.sqrt(2*D*dt)*np.random.randn(num_steps)\n",
    "x_coordinate = np.cumsum(dx)# sum steps to get position. show that you can do this in Object-oriented way\n",
    "y_coordinate = np.cumsum(dy)\n",
    "\n",
    "plt.plot(x_coordinate,y_coordinate,'b-')\n"
   ]
  },
  {
   "cell_type": "markdown",
   "metadata": {},
   "source": [
    "### Break programs down into functions to make them easier to understand.\n",
    "Human beings can only keep a few items in working memory at a time.\n",
    "Understand larger/more complicated ideas by understanding and combining pieces.\n",
    "\n",
    "**Best Practice: Write programs for people, not computers**\n",
    "Functions serve the same purpose in programs.\n",
    "Encapsulate complexity so that we can treat it as a single “thing”.\n",
    "**Best Practice:Also enables re-use. Write one time, use many times."
   ]
  },
  {
   "cell_type": "code",
   "execution_count": 5,
   "metadata": {},
   "outputs": [],
   "source": [
    "# make multiple trajectories: write a function that takes number of steps as input and returns the array of x and y positions\n",
    "#One straightforward way to make 100 walks is to take the code we already wrote and embed it inside of a for loop. \n",
    "#def get_trajectory(num):\n",
    "#    x_steps = 2*(rand(num) < 0.5) - 1# generate random steps +/- 1\n",
    "#    y_steps = 2*(rand(num) < 0.5) - 1\n",
    "#    x_coordinate = x_steps.cumsum()# sum steps to get position\n",
    " #   y_coordinate = y_steps.cumsum()\n",
    "    # could do in one shot as  return (2*(rng(num_steps) > 0.5) - 1 ).cumsum()\n",
    " #   return x_coordinate, y_coordinate"
   ]
  },
  {
   "cell_type": "code",
   "execution_count": 13,
   "metadata": {},
   "outputs": [],
   "source": [
    "# make multiple trajectories: write a function that takes number of steps as input and returns the array of x and y positions\n",
    "#One straightforward way to make 100 walks is to take the code we already wrote and embed it inside of a for loop. \n",
    "def get_trajectory(num_steps):\n",
    "    D =1.0; dt =0.01\n",
    "    dx = np.sqrt(2*D*dt)*np.random.randn(num_steps)\n",
    "    dy = np.sqrt(2*D*dt)*np.random.randn(num_steps)\n",
    "    x_coordinate = np.cumsum(dx)# sum steps to get position. show that you can do this in Object-oriented way\n",
    "    y_coordinate = np.cumsum(dy)\n",
    "    return x_coordinate, y_coordinate"
   ]
  },
  {
   "cell_type": "code",
   "execution_count": 18,
   "metadata": {},
   "outputs": [
    {
     "data": {
      "text/plain": [
       "<Figure size 432x288 with 0 Axes>"
      ]
     },
     "metadata": {},
     "output_type": "display_data"
    }
   ],
   "source": [
    "# Now make four such trajectories, and look at all four side by side.\n",
    "# USe the subplot function\n",
    "plt.figure()\n",
    "nplots = 4\n",
    "for i in range(nplots):\n",
    "    x_coordinate, y_coordinate = get_trajectory(num_steps)\n",
    "    plt.subplot(2, 2, i+1); plt.plot(x_coordinate, y_coordinate)\n",
    "    plt.axis('equal')"
   ]
  },
  {
   "cell_type": "code",
   "execution_count": 20,
   "metadata": {},
   "outputs": [],
   "source": [
    "num_walks = 1000\n",
    "x_final = np.zeros(num_walks)\n",
    "y_final = np.zeros(num_walks)\n",
    "displacement = np.zeros(num_walks)\n",
    "for i in range(num_walks):\n",
    "    x_coordinate, y_coordinate = get_trajectory(num_steps)\n",
    "    x_final[i] = x_coordinate[-1]\n",
    "    y_final[i] = y_coordinate[-1]\n",
    "    displacement[i] = np.sqrt(x_coordinate[-1]**2 + y_coordinate[-1]**2)"
   ]
  },
  {
   "cell_type": "markdown",
   "metadata": {},
   "source": [
    "### Ways of visualizing the final points\n",
    "1. Make a scatter plot of the many end points. Once you have this working, do this for more number of walks e.g. 1000.\n",
    "2. Use plt.hist to make a histogram of the displacement values.\n",
    "3. Make a histogram of the quantity displacement**2.\n",
    "4. Your answer to 3. may inspire a guess as to the mathematical form of the histogram. Try\n",
    "semilog and log-log axes to inspire and test your guess."
   ]
  },
  {
   "cell_type": "markdown",
   "metadata": {},
   "source": [
    "#plt.plot(x_final, y_final, 'bo')\n",
    "#plt.scatter(x_final, y_final)\n",
    "#plt.axis('equal')"
   ]
  },
  {
   "cell_type": "code",
   "execution_count": null,
   "metadata": {},
   "outputs": [],
   "source": [
    "plt.hist(displacement, bins=100);"
   ]
  },
  {
   "cell_type": "code",
   "execution_count": null,
   "metadata": {},
   "outputs": [],
   "source": [
    "plt.hist(displacement**2, bins = 100, range = ((0,2*10**4)));"
   ]
  },
  {
   "cell_type": "code",
   "execution_count": null,
   "metadata": {},
   "outputs": [],
   "source": [
    "plt.hist(displacement**2, bins = 100,log=True);"
   ]
  },
  {
   "cell_type": "markdown",
   "metadata": {},
   "source": [
    "### MSD: Moments of the Probability distribution\n",
    "\n",
    "The usual MSD (Mean Square displacement) is a time-average and can be done even for a single trajectory The mathematical formula for MSD at time t is given by:\n",
    "MSD(t) $=\\langle (x(t+\\tau) - x(\\tau))^2 +  (y(t+\\tau) - y(\\tau))^2 \\rangle$,\n",
    "\n",
    "so that we consider each possible interval t in the average.\n",
    "Discretized into steps, MSD(n) $= \\frac{1}{N-n} \\Sigma_{m=0}^{N-n-1} ((x(m+n) - x(m))^2 +  (y(m+n) - y(m))^2)$\n",
    "\n",
    "Use the get_trajectory function to get a sample trajectory with a large number of steps (e.g.,$10^5$) and implement the above formula. This can be done most easily by [slicing numpy arrays](https://www.w3schools.com/python/numpy_array_slicing.asp). If unfamiliar with this, practice slicing arbitrary arrays first using the linked tutorial."
   ]
  },
  {
   "cell_type": "code",
   "execution_count": null,
   "metadata": {},
   "outputs": [],
   "source": [
    "#slicing array\n",
    "a = np.linspace(0,9,10)\n",
    "print(a[2:])\n",
    "print(a[:7])\n",
    "print(a[2:7])"
   ]
  },
  {
   "cell_type": "code",
   "execution_count": 26,
   "metadata": {},
   "outputs": [],
   "source": [
    "# obtain the trajectory\n",
    "num_steps = 10**5\n",
    "x_coordinate, y_coordinate = get_trajectory(num_steps)\n",
    "\n",
    "# there will be redundant data if we calculate MSD for every possible value of t. \n",
    "#Let's calculate MSD at some intervals of t.\n",
    "\n",
    "interval=10\n",
    "\n",
    "#define array which will contain MSD values\n",
    "msd = np.zeros(int(num_steps/interval))\n",
    "\n",
    "# define for loop running from 0 to n with specified interval\n",
    "\n",
    "for n in range(0, num_steps, interval):\n",
    "    i = int(n/interval)\n",
    "    # The following is the key step! consider every possible interval of size n, and average over square of displacement\n",
    "    msd[i] =  np.mean((x_coordinate[n:] - x_coordinate[:num_steps-n])**2 + (y_coordinate[n:] - y_coordinate[:num_steps-n])**2)\n",
    "    \n",
    "# plot msd vs number of steps (corresponds to time)\n",
    "totalstep_values = np.arange(0,num_steps,interval)\n",
    "plt.loglog(totalstep_values, msd, 'ro')\n",
    "plt.ylabel(\"MSD\")\n",
    "plt.xlabel(\"interval\")"
   ]
  },
  {
   "cell_type": "markdown",
   "metadata": {},
   "source": [
    "### Comparing usual to anomalous random walks\n",
    "Can the motion of organisms e.g. bacteria or foraging animals be modeled as a simple random walk? Usually, no.\n",
    "The latter is often described by a \"Levy flight\" model where the step size of the random walk is drawn from a heavy-tailed probability distribution.  Here we will generate such a 2D Levy flight trajectory. Instead of walking along diagonals like they previously did, the walker can choose to walk in any direction specified by a randomly chosen angle (which can vary continuously) and the step size is variable, occasionally becoming a jump or flight! "
   ]
  },
  {
   "cell_type": "code",
   "execution_count": null,
   "metadata": {},
   "outputs": [],
   "source": [
    "# example comparing 2Dimensional random walks with normal and Cauchy distribution steps\n",
    "\n",
    "from scipy import stats # has lots of distribution functions in it\n",
    "    \n",
    "# fill some vectors with random walks using Gaussian and using Cauchy distributions\n",
    "# for sizes of steps\n",
    "# 2d random walls, returns 4 vectors x,y for each random walk\n",
    "# angles for each step are chosen from uniform distribution\n",
    "# but distances moved in each step are chosen from normal or Cauchy distributions\n",
    "# nsteps is the number of steps taken for both random walks\n",
    "def fillvecs(nsteps):\n",
    "    xCvec=np.zeros(0); yCvec=np.zeros(0)  # vectors of positions for Cauchy steps\n",
    "    xC=0.0; yC=0.0;  # initial conditions Cauchy walk\n",
    "    xCvec = np.append(xCvec,xC); yCvec = np.append(yCvec,yC)\n",
    "    xNvec=np.zeros(0); yNvec=np.zeros(0)  # vectors of positions for normal steps\n",
    "    xN=0.0; yN=0.0   # initial conditions Normal walk\n",
    "    xNvec = np.append(xNvec,xN); yNvec = np.append(yNvec,yN)\n",
    "    fac = 0.1  # adjust size of steps for Cauchy walk\n",
    "    for i in range(nsteps):\n",
    "        theta1 = stats.uniform.rvs()*2.0*np.pi  #uniformly distributed angles\n",
    "        theta2 = stats.uniform.rvs()*2.0*np.pi\n",
    "        rC = fac*stats.cauchy.rvs()  #cauchy distn step size\n",
    "        rN = stats.norm.rvs()   # normal distn step size\n",
    "        xC += rC*np.cos(theta1) # update coordinate positions\n",
    "        yC += rC*np.sin(theta1)\n",
    "        xCvec = np.append(xCvec,xC); yCvec = np.append(yCvec,yC)  #Cauchy\n",
    "        xN += rN*np.cos(theta2)  #update coordinate positions\n",
    "        yN += rN*np.sin(theta2)\n",
    "        xNvec = np.append(xNvec,xN); yNvec = np.append(yNvec,yN) #Normal\n",
    "    return xCvec,yCvec,xNvec,yNvec  # return the 4 vectors"
   ]
  },
  {
   "cell_type": "code",
   "execution_count": null,
   "metadata": {},
   "outputs": [],
   "source": [
    "xC,yC,xN,yN = fillvecs(500)  # get our random walk trajectories\n",
    "# and plot them\n",
    "plt.plot(xC,yC,'ro',alpha=0.5, label=\"Levy\")  \n",
    "plt.plot(xC,yC,'k-')\n",
    "plt.plot(xN,yN,'bo',alpha=0.5,label=\"Normal\")\n",
    "plt.plot(xN,yN,'k-')\n",
    "plt.legend(loc='best', frameon=False)\n",
    "plt.axis('equal');"
   ]
  },
  {
   "cell_type": "markdown",
   "metadata": {},
   "source": [
    "## Simulating  Active Brownian motion (Persistent random walk)\n",
    "In this notebook, we learn to simulate the trajectory of a single, non-interacting active Brownian particle. Unlike passive Brownian particles (e.g. pollen grains in water) that do diffusive random walks, active Brownian particles (ABPs) propel themselves with directed motion in addition to diffusing randomly.  A biological example of such self-propeled motion is a swimming bacterium. Other examples include robotic microswimmers such as colloids powered by chemical reactions.\n",
    "<img src=\"ABP.jpg\" width=\"100\" height=\"120\">\n",
    "The mathematically simplest model for the ABP is the following set of stochastic differential equations:\n",
    "\\begin{align}\n",
    "d\\theta/dt &= \\sqrt{2 D_R} W_{\\theta} \\\\\n",
    "dx/dt &= v \\cos\\theta(t) + \\sqrt{2 D_T} W_x  \\\\\n",
    "dy/dt &= v \\sin\\theta(t) + \\sqrt{2 D_T} W_y\n",
    "\\end{align}\n",
    "Here, the position of the point-like particle are described by its $(x.,y)$ coordinates in the 2D plane, and its orientation by the angle $\\theta$, which sets the direction of self-propulsion with a velocity $v$. $W_{\\theta}$, $W_x$, and $W_y$ represent independent white noise processes.  $D_{T}$ and $D_{R}$ are translational and rotational diffusion constants that dictate the rate at which the ABP diffuses in space and in orientation respectively. These equations can be discretized and solved on a computer as:\n",
    "\\begin{align}\n",
    "\\theta_{i+1} &= \\theta_{i} + \\sqrt{2 D_R dt} w_{\\theta,i} \\\\\n",
    "x_{i+1} &=  x_{i} + v\\cos \\theta(t) dt + \\sqrt{2 D_T dt} w_{x, i}  \\\\\n",
    "y_{i+1} &=  y_{i} + v\\sin(\\theta(t)) dt + \\sqrt{2 D_T dt} w_{y,i}\n",
    "\\end{align},\n",
    "where $w$s are are uncorrelated sequences of random numbers taken from a Gaussian distribution with zero mean and standard deviation 1. In the following cells, we will use a uniform distribution interchangeably with a Gaussian (normal) distribution to implement a random walk."
   ]
  },
  {
   "cell_type": "markdown",
   "metadata": {},
   "source": [
    "### First pass at 2D ABP model: single trajectory\n",
    "In the following cell, we implement and plot a 2D active brownian particle's motion by keeping track of its position (x,y) and \n",
    "angle $\\theta$. Unlike a simple random walk, we now do a ballistic step (proportional to $dt$) in position space and a simple random walk in the space of $\\theta$-values. Play with the model parameters to see how they change the trajectories qualitatively.   "
   ]
  },
  {
   "cell_type": "code",
   "execution_count": 27,
   "metadata": {},
   "outputs": [],
   "source": [
    "#  ABP model\n",
    "\n",
    "#ABP model parameters: ballistic velocity, time step, rotational diffusion constant, translational diffusion constant\n",
    "vel =2.0; dt = 0.01; Drot = 10.; Dtrans = 0.0;\n",
    "\n",
    "# initialize arrays that store x,y and theta values, as well as initial particle position and angle\n",
    "xvec=np.zeros(0); yvec=np.zeros(0); thetavec = np.zeros(0)\n",
    "x=0.0; y = 0.0; theta = 0.0\n",
    "\n",
    "\n",
    "num_steps = 100;\n",
    "\n",
    "for i in range(num_steps):\n",
    "        # calculate diffusive/random steps. For the x- and y-,we generate \n",
    "        #a random number between -1 & 1 to ensure that the walker can step in both directions(up/down and left/right).\n",
    "        dx = np.sqrt(2*Dtrans*dt)*2*(rand(1)-0.5); \n",
    "        dy= np.sqrt(2*Dtrans*dt)*2*(rand(1)-0.5); \n",
    "        dtheta = np.sqrt(2*Drot*dt)*(2*np.pi)*2*(rand(1)-0.5);\n",
    "        # update coordinates (including ballistic step)\n",
    "        x += vel*dt*np.cos(theta) + dx \n",
    "        y += vel*dt*np.sin(theta) + dy\n",
    "         # store successive positions in arrays\n",
    "        xvec = np.append(xvec,x); yvec = np.append(yvec,y) \n",
    "        # update the angle and store in array\n",
    "        theta += dtheta\n",
    "        thetavec = np.append(thetavec, theta)\n",
    "        \n",
    "plt.plot(xvec,yvec, 'k-')\n",
    "plt.axis('equal');"
   ]
  },
  {
   "cell_type": "markdown",
   "metadata": {},
   "source": [
    "Now let's create a function called get_trajectory that returns the x and y coordinate values for the entire trajectory given the num_steps and ABP model parameters for rotational diffusion and ballistic velocity as input. This is similar to the previous in-class exercise we did with simple random walks."
   ]
  },
  {
   "cell_type": "code",
   "execution_count": 4,
   "metadata": {},
   "outputs": [],
   "source": [
    "def get_trajectory(num_steps, Dtheta, vel):\n",
    "    \n",
    "    #vel = 2.0; Dtheta = 0.001; \n",
    "    dt = 0.01; Dtrans = 0.1;\n",
    "    xvec=np.zeros(0); yvec=np.zeros(0); thetavec = np.zeros(0)\n",
    "    x=0.0; y = 0.0; theta = 0.0\n",
    "    #xvec = np.append(xvec,x); yvec = np.append(yvec,y); thetavec = np.append(thetavec, theta)\n",
    "    \n",
    "    for i in range(num_steps):\n",
    "        # diffusive/random steps\n",
    "        dx = np.sqrt(2*Dtrans*dt)*2*(rand(1)-0.5); \n",
    "        dy= np.sqrt(2*Dtrans*dt)*2*(rand(1)-0.5); \n",
    "        dtheta = np.sqrt(2*Dtheta*dt)*(2*np.pi)*rand(1);\n",
    "        # update coordinates (including ballistic step)\n",
    "        x += vel*dt*np.cos(theta) + dx \n",
    "        y += vel*dt*np.sin(theta) + dy\n",
    "        xvec = np.append(xvec,x); yvec = np.append(yvec,y)  # store successive positions in arrays\n",
    "        theta += dtheta\n",
    "        thetavec = np.append(thetavec, theta)\n",
    "    return xvec, yvec"
   ]
  },
  {
   "cell_type": "markdown",
   "metadata": {},
   "source": [
    "### 2D ABP model, confined system\n",
    "In the following cell, we implement and plot multiple 2D active brownian particle's motions by keeping track of their positions (x,y) and \n",
    "angles $\\theta$. Notice that unlike the previous cell, we now do a ballistic step (proportional to $dt$) and random walk in the space of $\\theta$-values. \n",
    "\n",
    "Furthermore we implement walled boundary conditions here, treating a wall as a reflecting surface. If a walker goes beyond the confining boundary of the box, it's position is altered so as to keep it in the box. Note that when this reflection of a walker by a boundary occurs, the velocity of the walker is not infuenced by the reflection."
   ]
  },
  {
   "cell_type": "code",
   "execution_count": 28,
   "metadata": {},
   "outputs": [],
   "source": [
    "#  ABP model\n",
    "\n",
    "#ABP model parameters: ballistic velocity, time step, rotational diffusion constant, translational diffusion constant\n",
    "vel =2.0; dt = 0.01; Drot = 0.1; Dtrans = 0.1; Blen = 10;\n",
    "\n",
    "#boundary size parameter\n",
    "Bbox = 10\n",
    "Bframe = Blen/10\n",
    "num_walks = 20;\n",
    "\n",
    "for j in range(num_walks):\n",
    "    \n",
    "    # initialize arrays that store x,y and theta values, as well as initial particle position and angle\n",
    "\n",
    "    xvec=np.zeros(0); yvec=np.zeros(0); thetavec = np.zeros(0)\n",
    "    x=0.0; y = 0.0; theta = (2*np.pi)*rand()\n",
    "    xvec = np.append(xvec,x); yvec = np.append(yvec,y); thetavec = np.append(thetavec, theta)\n",
    "\n",
    "    num_steps = 1000;\n",
    "\n",
    "\n",
    "\n",
    "    for i in range(num_steps):\n",
    "            # calculate diffusive/random steps. For the x- and y-,we generate \n",
    "            #a random number between -1 & 1 to ensure that the walker can step in both directions(up/down and left/right).\n",
    "            dx = np.sqrt(2*Dtrans*dt)*2*(rand(1)-0.5); \n",
    "            dy= np.sqrt(2*Dtrans*dt)*2*(rand(1)-0.5); \n",
    "            dtheta = np.sqrt(2*Drot*dt)*(2*np.pi)*(rand(1)-0.5);\n",
    "            # update coordinates (including ballistic step)\n",
    "            x += vel*dt*np.cos(theta) + dx \n",
    "            y += vel*dt*np.sin(theta) + dy\n",
    "            # implement walled boundary conditions\n",
    "            if x > Bbox/2:\n",
    "                x -= 2*(x - Bbox/2)\n",
    "            elif x < -Bbox/2:\n",
    "                x -= 2*(x + Bbox/2)\n",
    "            elif x < Bbox/2 and x > -Bbox/2:\n",
    "                x += 0\n",
    "            \n",
    "            if y > Bbox/2:\n",
    "                y -= 2*(y - Bbox/2)\n",
    "            elif y < -Bbox/2:\n",
    "                y -= 2*(y + Bbox/2)\n",
    "            elif y < Blen/2 and y > -Bbox/2:\n",
    "                y += 0\n",
    "            \n",
    "        \n",
    "            # store successive positions in arrays\n",
    "            xvec = np.append(xvec,x); yvec = np.append(yvec,y) \n",
    "            # update the angle and store in array\n",
    "            theta += dtheta\n",
    "            thetavec = np.append(thetavec, theta)\n",
    "        \n",
    "    plt.plot(xvec,yvec, '-')\n",
    "    plt.axis([-Bbox/2 - Bframe ,Bbox/2 + Bframe,-Bbox/2 - Bframe,Bbox/2 + Bframe], 'equal');"
   ]
  },
  {
   "cell_type": "markdown",
   "metadata": {},
   "source": [
    "### Exercise 1: Confined ABP trajectories\n",
    "**Reduce Drot** by a factor of 5 or 10 in the above code snippet and replot the trajectories.  What is your observation about how the trajectories change?"
   ]
  },
  {
   "cell_type": "code",
   "execution_count": null,
   "metadata": {},
   "outputs": [],
   "source": []
  },
  {
   "cell_type": "raw",
   "metadata": {},
   "source": [
    "### Single trajectory MSD exercise 2 (withour confinement)\n",
    "Obtain MSDs for different sets of parameters, e.g. choose three different values of the rotational diffusion constant, Drot = 0.01, 0.1 and 1.0. You may use the code for msd we used in a previous cell. Plot these three cases for MSD vs. time (total number of steps) in three separate cells below so you may compare them. What major changes do you notice in the MSD vs. time plot as you vary Drot? "
   ]
  },
  {
   "cell_type": "code",
   "execution_count": null,
   "metadata": {},
   "outputs": [],
   "source": []
  },
  {
   "cell_type": "code",
   "execution_count": 10,
   "metadata": {},
   "outputs": [
    {
     "data": {
      "text/plain": [
       "[<matplotlib.lines.Line2D at 0x22310a7d520>]"
      ]
     },
     "execution_count": 10,
     "metadata": {},
     "output_type": "execute_result"
    },
    {
     "data": {
      "image/png": "[encoded data removed]",
      "text/plain": [
       "<Figure size 432x288 with 1 Axes>"
      ]
     },
     "metadata": {
      "needs_background": "light"
     },
     "output_type": "display_data"
    }
   ],
   "source": [
    "# obtain the trajectory\n",
    "num_steps = 100000\n",
    "x_coordinate_1, y_coordinate_1 = get_trajectory(num_steps, 0.01, 1.)\n",
    "x_coordinate_2, y_coordinate_2 = get_trajectory(num_steps, 0.1, 1.)\n",
    "x_coordinate_3, y_coordinate_3 = get_trajectory(num_steps, 1., 1.)\n",
    "\n",
    "# define an interval over which you will take MSD data\n",
    "interval=10\n",
    "#define array which will contain MSD values\n",
    "msd_1 = np.zeros(int(num_steps/interval))\n",
    "msd_2 = np.zeros(int(num_steps/interval))\n",
    "msd_3 = np.zeros(int(num_steps/interval))\n",
    "\n",
    "\n",
    "# Calculate MSD at every step, i.e. at every 100th value of n. \n",
    "# can you do without for loop? can you parallelize for loop?\n",
    "for n in range(0,num_steps,interval):\n",
    "    i=int(n/interval)\n",
    "    msd_1[i] = np.mean((x_coordinate_1[n:] - x_coordinate_1[:num_steps-n])**2\n",
    "                     + (y_coordinate_1[n:] - y_coordinate_1[:num_steps-n])**2)\n",
    "    msd_2[i]  = np.mean((x_coordinate_2[n:] - x_coordinate_2[:num_steps-n])**2\n",
    "                     + (y_coordinate_2[n:] - y_coordinate_2[:num_steps-n])**2)\n",
    "    msd_3[i]  = np.mean((x_coordinate_3[n:] - x_coordinate_3[:num_steps-n])**2\n",
    "                     + (y_coordinate_3[n:] - y_coordinate_3[:num_steps-n])**2)\n",
    "    \n",
    "    \n",
    "# plot msd vs number of steps (corresponds to time)\n",
    "totalstep_values = np.arange(0, num_steps,interval)\n",
    "plt.loglog(totalstep_values, msd_1,'bo')\n",
    "plt.loglog(totalstep_values, msd_2/2.,'ro')\n",
    "plt.loglog(totalstep_values, msd_3/3.,'go')"
   ]
  },
  {
   "cell_type": "markdown",
   "metadata": {},
   "source": [
    "### Store all trajectories: Multidimensional arrays\n",
    "To do MSD by averaging over all times and all walkers (and in general for any other statistical metric), we need to store all the trajectories of all the walkers. This can be done efficiently in the form of 2D arrays. We choose arrays such that each row corresponds to the trajectory of one walker. The arrays are thus of size num_walks * num_steps.  See the arrays xdata and ydata below. "
   ]
  },
  {
   "cell_type": "code",
   "execution_count": 3,
   "metadata": {},
   "outputs": [],
   "source": [
    "#  ABP model\n",
    "\n",
    "#ABP model parameters: ballistic velocity, time step, rotational diffusion constant, translational diffusion constant\n",
    "vel =1.0; dt = 0.01; Drot = 0.5; Dtrans = 0.1; Blen = 10;\n",
    "\n",
    "#boundary size parameter\n",
    "Bbox = 10\n",
    "Bframe = Blen/10\n",
    "num_walks = 20;\n",
    "num_steps = 10**4;\n",
    "\n",
    "# initialize 2d arrays that store all the x and y coordinates for all walkers. each row corresponds to a walker.\n",
    "xdata = np.zeros((num_walks, num_steps));\n",
    "ydata = np.zeros((num_walks, num_steps));\n",
    "\n",
    "for j in range(num_walks):\n",
    "    \n",
    "    # initialize arrays that store x,y and theta values, as well as initial particle position and angle for a single trajectory\n",
    "\n",
    "    xvec=np.zeros(0); yvec=np.zeros(0); thetavec = np.zeros(0)\n",
    "    x=0.0; y = 0.0; theta = (2*np.pi)*rand()\n",
    "\n",
    "    for i in range(num_steps):\n",
    "            # calculate diffusive/random steps. For the x- and y-,we generate \n",
    "            #a random number between -1 & 1 to ensure that the walker can step in both directions(up/down and left/right).\n",
    "            dx = np.sqrt(2*Dtrans*dt)*2*(rand(1)-0.5); \n",
    "            dy= np.sqrt(2*Dtrans*dt)*2*(rand(1)-0.5); \n",
    "            dtheta = np.sqrt(2*Drot*dt)*(2*np.pi)*(rand(1)-0.5);\n",
    "            # update coordinates (including ballistic step)\n",
    "            x += vel*dt*np.cos(theta) + dx \n",
    "            y += vel*dt*np.sin(theta) + dy\n",
    "            # implement walled boundary conditions\n",
    "            if x > Bbox/2:\n",
    "                x -= 2*(x - Bbox/2)\n",
    "            elif x < -Bbox/2:\n",
    "                x -= 2*(x + Bbox/2)\n",
    "            elif x < Bbox/2 and x > -Bbox/2:\n",
    "                x += 0\n",
    "            \n",
    "            if y > Bbox/2:\n",
    "                y -= 2*(y - Bbox/2)\n",
    "            elif y < -Bbox/2:\n",
    "                y -= 2*(y + Bbox/2)\n",
    "            elif y < Blen/2 and y > -Bbox/2:\n",
    "                y += 0\n",
    "            \n",
    "            # This is the crucial new step! We store the trajectories in 2d arrays\n",
    "            # each row of the array stores the trajectory of one walker.\n",
    "            xdata[j][i] += x\n",
    "            ydata[j][i] += y\n",
    "            \n",
    "        \n",
    "            xvec = np.append(xvec,x); yvec = np.append(yvec,y) \n",
    "            # update the angle and store in array\n",
    "            theta += dtheta\n",
    "            thetavec = np.append(thetavec, theta)\n",
    "    # uncomment to see plots of trajectories. above num_walks>50, there are too many trajectories to clearly see    \n",
    "    #plt.plot(xvec,yvec, '-')\n",
    "    #plt.axis([-Bbox/2 - Bframe ,Bbox/2 + Bframe,-Bbox/2 - Bframe,Bbox/2 + Bframe], 'equal');"
   ]
  },
  {
   "cell_type": "markdown",
   "metadata": {},
   "source": [
    "### Probability distribution in space: Exercise 3\n",
    "You will notice from the above plots that for smaller values of Drot (<0.1), the trajectories spend a lot of time near the boundaries.  Think why?  To quantify this observation, we can create histogram of the x or y coordinates for all walkers at all times of particles doing a confined 2D ABP walk. Do this in the next cell.  \n",
    "You should use the xdata, but plt.hist(array)  requires the array to be 1D.  How to go from a 2D to 1D array? You can use two convenient numpy operations:  **reshape** and **flatten** to do so. \n",
    "Try it for a smaller dataset first but then scale up to $10^5$ steps and 100 walkers."
   ]
  },
  {
   "cell_type": "code",
   "execution_count": 4,
   "metadata": {},
   "outputs": [],
   "source": [
    "histdata = (xdata.reshape([1, num_steps*num_walks])).flatten()"
   ]
  },
  {
   "cell_type": "code",
   "execution_count": null,
   "metadata": {},
   "outputs": [],
   "source": [
    "plt.hist(histdata);"
   ]
  },
  {
   "cell_type": "code",
   "execution_count": 29,
   "metadata": {},
   "outputs": [],
   "source": [
    "# adjust number of bins to 100 or binsize"
   ]
  },
  {
   "cell_type": "markdown",
   "metadata": {},
   "source": [
    "### MSD for ABP (both time and walker averaged):Exercise 4\n",
    "Finally, the big one! We will use 2D arrays of coordinates above to calculate \n",
    "$MSD(t) =\\langle (x(t+\\tau) - x(\\tau))^2 +  (y(t+\\tau) - y(\\tau))^2 \\rangle$, \n",
    "but averaged over all walkers. In order to do so, let's define an intermediate 2D array whose rows are different walkers and columns contain the time averaged MSD. Fill in the missing code in the following cell."
   ]
  },
  {
   "cell_type": "code",
   "execution_count": 7,
   "metadata": {},
   "outputs": [
    {
     "data": {
      "text/plain": [
       "[<matplotlib.lines.Line2D at 0x2a63b5d92e0>]"
      ]
     },
     "execution_count": 7,
     "metadata": {},
     "output_type": "execute_result"
    },
    {
     "data": {
      "image/png": "[encoded data removed]",
      "text/plain": [
       "<Figure size 432x288 with 1 Axes>"
      ]
     },
     "metadata": {
      "needs_background": "light"
     },
     "output_type": "display_data"
    }
   ],
   "source": [
    "# calculate MSD from full xdata and ydata (2d arrays)\n",
    "# obtain the trajectories: each row in xdata and ydata correspond to one walker\n",
    "\n",
    "# define an interval over which you will take \n",
    "interval=10\n",
    "#define 2d array of dimensions to calculate msd which will contain time-averaged and then walker-averaged MSD values\n",
    "msd_2d = np.zeros((num_walks, int(num_steps/interval)));\n",
    "\n",
    "# Calculate MSD at every step, i.e. at every 100th value of n. \n",
    "# can you do without for loop? can you parallelize for loop?\n",
    "for m in range(num_walks):\n",
    "    for n in range(0,num_steps,interval):\n",
    "        i=int(n/interval)\n",
    "        msd_2d[m,i] = np.mean((xdata[m,n:] - xdata[m, :num_steps-n])**2\n",
    "                              + (ydata[m, n:] - ydata[m,:num_steps-n])**2)\n",
    "    \n",
    "\n",
    "#msd = np.zeros(int(num_steps/interval))\n",
    "msd = np.mean(msd_2d, axis=0)\n",
    "# plot msd vs number of steps (corresponds to time)\n",
    "\n",
    "totalstep_values = np.arange(0, dt*num_steps,dt*interval)\n",
    "plt.loglog(totalstep_values, msd,'bo')"
   ]
  },
  {
   "cell_type": "markdown",
   "metadata": {},
   "source": [
    "Notice how the MSD might saturate above because of confinement. We need a smaller velocity or larger box or periodic boundary conditions to get the full range of MSD. Or we could just do an unrestricted ABP walk without any confining box. Try any of these methods to get a characteristic MSD which clearly shows the expected ballistic and diffusive regimes of the ABP model. Make sure to include enough statistics (i.e. enough number of walkers and number of steps)."
   ]
  },
  {
   "cell_type": "code",
   "execution_count": null,
   "metadata": {},
   "outputs": [],
   "source": []
  }
 ],
 "metadata": {
  "kernelspec": {
   "display_name": "Python 3 (ipykernel)",
   "language": "python",
   "name": "python3"
  },
  "language_info": {
   "codemirror_mode": {
    "name": "ipython",
    "version": 3
   },
   "file_extension": ".py",
   "mimetype": "text/x-python",
   "name": "python",
   "nbconvert_exporter": "python",
   "pygments_lexer": "ipython3",
   "version": "3.9.12"
  }
 },
 "nbformat": 4,
 "nbformat_minor": 2
}
