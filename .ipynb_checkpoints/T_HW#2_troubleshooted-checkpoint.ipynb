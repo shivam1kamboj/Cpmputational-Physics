{
 "cells": [
  {
   "cell_type": "code",
   "execution_count": 1,
   "metadata": {},
   "outputs": [],
   "source": [
    "import numpy as np\n",
    "import random as rd\n",
    "import matplotlib.pyplot as plt"
   ]
  },
  {
   "cell_type": "code",
   "execution_count": 2,
   "metadata": {},
   "outputs": [],
   "source": [
    "plt.rcParams.update({'font.size': 20})"
   ]
  },
  {
   "cell_type": "markdown",
   "metadata": {},
   "source": [
    "# Problem #1: Newman 5.5: Error on Simpson’s rule"
   ]
  },
  {
   "cell_type": "markdown",
   "metadata": {},
   "source": [
    "According to textbook, Newman, equation 5.24, Simpson's rule introduce an error of $O(h^4)$. Therefore error in Simpson's rule will be $Ch^4$.\n",
    "Now let's say our first approximated integral according to Simpson's rule with $N_1$ number of steps is, $I_1$ and the error is $Ch_1^4$. Therefore the actual value of integral can be written as:\n",
    "\\\n",
    "\\\n",
    "    $$I=I_1+Ch_1^4$$                 $\\hspace{230mm}(1)$                                            \n",
    "\n",
    "Now, double the number of steps, therefore $N_2=2N_1$, which implies stepsize $h_2=\\frac{1}{2}h_1$. Let's say our second approximated integral according to simpson rule is $I_2$ with error $Ch_2^4$. Again the actual value of integral can be written as:\n",
    "\\\n",
    "\\\n",
    "$$I=I_2+Ch_2^4$$                    $\\hspace{230mm}(2)$  \n",
    "\\\n",
    "From equation $(1)$ and $(2)$\n",
    "$$Ch_1^4-Ch_2^4=I_2-I_1$$\n",
    "Using $h_2=\\frac{1}{2}h_1$;\n",
    "$$C(2h_2)^4-Ch_2^4=I_2-I_1$$\n",
    "\\\n",
    "$$15Ch_2^4=I_2-I_1$$\n",
    "Therefore, error $\\epsilon_2$ on the second estimate of the integral to be:\n",
    "$$\\boxed{\\epsilon_2=Ch^4=\\frac{1}{15}(I_2-I_1)}$$"
   ]
  },
  {
   "cell_type": "markdown",
   "metadata": {},
   "source": [
    "# Problem #2: Newman 5.7: Adaptive integration"
   ]
  },
  {
   "cell_type": "markdown",
   "metadata": {},
   "source": [
    "Defining function: $$f(x)=\\sin^2{\\sqrt{100x}}$$"
   ]
  },
  {
   "cell_type": "code",
   "execution_count": 3,
   "metadata": {},
   "outputs": [],
   "source": [
    "a=0\n",
    "b=1\n",
    "def f(x):\n",
    "    return (np.sin(np.sqrt(100*x)))**2"
   ]
  },
  {
   "cell_type": "code",
   "execution_count": 4,
   "metadata": {},
   "outputs": [],
   "source": [
    "def Trapezoidal_integration(N):\n",
    "    h=(b-a)/N\n",
    "    x=np.arange(0,N,h)\n",
    "    return h*(0.5*f(a)+0.5*f(b)+np.sum(f(x)[0:N]))     ####I was doing sum upto N+1\n",
    "   "
   ]
  },
  {
   "cell_type": "code",
   "execution_count": 5,
   "metadata": {},
   "outputs": [
    {
     "name": "stdout",
     "output_type": "stream",
     "text": [
      "0.14797948454665205\n",
      "0.3252319078064746\n",
      "0.43079757183944845\n",
      "0.5122828507233315\n",
      "0.45902066640404526\n",
      "0.42216668286887116\n",
      "0.4067588542747065\n",
      "0.40299744847824825\n",
      "0.4045350254285558\n",
      "0.40818651707222187\n",
      "0.41246573164812594\n",
      "0.41671149442805777\n",
      "0.42065220564240385\n",
      "0.4241974684416499\n",
      "0.42733898060563036\n",
      "0.43010336929474696\n",
      "0.43252985774005503\n",
      "0.4346599086258466\n",
      "0.4365326744770943\n"
     ]
    }
   ],
   "source": [
    "for i in range(1,20):   ##Trapezoidal integral values starting one slice till 20 slices\n",
    "    print(Trapezoidal_integration(i))"
   ]
  },
  {
   "cell_type": "code",
   "execution_count": 6,
   "metadata": {},
   "outputs": [
    {
     "data": {
      "text/plain": [
       "0.4558305440974054"
      ]
     },
     "execution_count": 6,
     "metadata": {},
     "output_type": "execute_result"
    }
   ],
   "source": [
    "I_1=Trapezoidal_integration(2000)\n",
    "I_1"
   ]
  },
  {
   "cell_type": "code",
   "execution_count": 7,
   "metadata": {},
   "outputs": [],
   "source": [
    "def adaptive_trapezoidal_err_third(epsilon):\n",
    "    err=1\n",
    "    n=1\n",
    "    while abs(err)>epsilon:\n",
    "        I_1=Trapezoidal_integration(n)\n",
    "        n*=2\n",
    "        h_i=(b-a)/n\n",
    "        x=np.arange(0,n+h_i,h_i)         #n+h_i added \n",
    "        I_2=0.5*I_1+h_i*np.sum(f(x)[1:n:2])                       \n",
    "        err=(I_2-I_1)/3\n",
    "        print('Adaptive integral value=',I_2)\n",
    "        print('error=',err)\n",
    "        print('number of iterations=',n)\n",
    "###------------------------------------------###Again the same problem my loop is not terminating \n",
    "###------------------------------------------###So I have to break it, otherwise it was going forever\n",
    "        if n>8000:                      \n",
    "            break\n",
    "    return I_1,I_2,err,n"
   ]
  },
  {
   "cell_type": "code",
   "execution_count": 8,
   "metadata": {},
   "outputs": [
    {
     "name": "stdout",
     "output_type": "stream",
     "text": [
      "Adaptive integral value= 0.3252319078064746\n",
      "error= 0.05908414108660751\n",
      "number of iterations= 2\n",
      "Adaptive integral value= 0.5122828507233315\n",
      "error= 0.06235031430561896\n",
      "number of iterations= 4\n",
      "Adaptive integral value= 0.4029974484782483\n",
      "error= -0.03642846741502772\n",
      "number of iterations= 8\n",
      "Adaptive integral value= 0.43010336929474696\n",
      "error= 0.009035306938832902\n",
      "number of iterations= 16\n",
      "Adaptive integral value= 0.4484146657874699\n",
      "error= 0.0061037654975743165\n",
      "number of iterations= 32\n",
      "Adaptive integral value= 0.4539129312153759\n",
      "error= 0.0018327551426353117\n",
      "number of iterations= 64\n",
      "Adaptive integral value= 0.45534850437280217\n",
      "error= 0.000478524385808754\n",
      "number of iterations= 128\n",
      "Adaptive integral value= 0.45571126645324106\n",
      "error= 0.00012092069347964991\n",
      "number of iterations= 256\n",
      "Adaptive integral value= 0.45580219965166413\n",
      "error= 3.0311066141005167e-05\n",
      "number of iterations= 512\n",
      "Adaptive integral value= 0.45582494813242014\n",
      "error= 7.58282691868765e-06\n",
      "number of iterations= 1024\n",
      "Adaptive integral value= 0.4558306362016461\n",
      "error= 1.896023075320663e-06\n",
      "number of iterations= 2048\n",
      "Adaptive integral value= 0.4558320582782708\n",
      "error= 4.7402554154141185e-07\n",
      "number of iterations= 4096\n"
     ]
    },
    {
     "data": {
      "text/plain": [
       "(0.45583063620164616, 0.4558320582782708, 4.7402554154141185e-07, 4096)"
      ]
     },
     "execution_count": 8,
     "metadata": {},
     "output_type": "execute_result"
    }
   ],
   "source": [
    "adaptive_trapezoidal_err_third(1e-6)"
   ]
  },
  {
   "cell_type": "markdown",
   "metadata": {},
   "source": [
    "# Problem #3: Newman 5.7: Adaptive and Romberg integration"
   ]
  },
  {
   "cell_type": "markdown",
   "metadata": {},
   "source": [
    "Using the code in cell 16, acccording to textbook use I_1 and I_2 as first two estimates from previously calculated integral using trapezoidal method. Then from equation 5.51:\n",
    "$$R_{i,m+1}=R_{i,m}+\\frac{1}{4^m-1}(R_{i,m}-R_{i-1,m})$$\n",
    "where error is given by eq 5.49: $$error=\\frac{1}{4^m-1}(R_{i,m}-R_{i-1,m})$$\n",
    "Therefore eq 5.51 simply is:\n",
    "$$R_{i,m+1}=R_{i,m}+error$$"
   ]
  },
  {
   "cell_type": "code",
   "execution_count": 9,
   "metadata": {},
   "outputs": [],
   "source": [
    "def Romberg_err(epsilon):\n",
    "    err=1\n",
    "    n=1\n",
    "    Romberg_index=1\n",
    "    R_11=[]\n",
    "    R_21=[]\n",
    "    I_1=Trapezoidal_integration(n)\n",
    "    R_11.append(I_1)\n",
    "    while abs(err)>epsilon:\n",
    "        R_21=[]\n",
    "        n*=2\n",
    "        h_i=(b-a)/n\n",
    "        x=np.arange(0,n+h_i,h_i)\n",
    "        I_2=0.5*I_1+h_i*np.sum(f(x)[1:n:2])        #this will be my R_21; first iterated value\n",
    "###--------------------------------------------     \n",
    "###--------------------------------------------  \n",
    "###I got error \"division by zero\" using 4**m, so I changed it to 4**(m+1)\n",
    "        R_21.append(I_2)                            #Saving R_21 \n",
    "        for m in range(Romberg_index):\n",
    "            err=(1/(4**(m+1)-1))*(R_21[m]-R_11[m]) ###----------------error.  eq(5.49), Newman\n",
    "            R_2=R_21[m]+err                      ###----------------eq(5.51), Newman\n",
    "            R_21.append(R_2)\n",
    "        Romberg_index+=1\n",
    "        R_11=R_21\n",
    "        I_1=I_2\n",
    "        print('Romberg table=',R_21)\n",
    "        print('error=',err)\n",
    "        print('number of iterations=',n)\n",
    "        \n",
    "    return R_21,err,n"
   ]
  },
  {
   "cell_type": "code",
   "execution_count": 10,
   "metadata": {},
   "outputs": [
    {
     "name": "stdout",
     "output_type": "stream",
     "text": [
      "Romberg table= [0.3252319078064746, 0.38431604889308213]\n",
      "error= 0.05908414108660751\n",
      "number of iterations= 2\n",
      "Romberg table= [0.5122828507233315, 0.5746331650289505, 0.5873209727713417]\n",
      "error= 0.012687807742391222\n",
      "number of iterations= 4\n",
      "Romberg table= [0.4029974484782483, 0.3665689810632206, 0.35269803546550527, 0.34897386185747614]\n",
      "error= -0.0037241736080291486\n",
      "number of iterations= 8\n",
      "Romberg table= [0.430103369294747, 0.43913867623357994, 0.4439766559116039, 0.44542552290281184, 0.4458037647108328]\n",
      "error= 0.00037824180802092434\n",
      "number of iterations= 16\n",
      "Romberg table= [0.44841466578746997, 0.45451843128504427, 0.4555437482884752, 0.45572735292937794, 0.45576775226281546, 0.455777492231097]\n",
      "error= 9.739968281508006e-06\n",
      "number of iterations= 32\n",
      "Romberg table= [0.4539129312153759, 0.4557456863580112, 0.4558275033628757, 0.4558320074116757, 0.45583241782141015, 0.45583248103309987, 0.45583249446137875]\n",
      "error= 1.3428278877383781e-08\n",
      "number of iterations= 64\n"
     ]
    },
    {
     "data": {
      "text/plain": [
       "([0.4539129312153759,\n",
       "  0.4557456863580112,\n",
       "  0.4558275033628757,\n",
       "  0.4558320074116757,\n",
       "  0.45583241782141015,\n",
       "  0.45583248103309987,\n",
       "  0.45583249446137875],\n",
       " 1.3428278877383781e-08,\n",
       " 64)"
      ]
     },
     "execution_count": 10,
     "metadata": {},
     "output_type": "execute_result"
    }
   ],
   "source": [
    "Romberg_err(1e-6)"
   ]
  },
  {
   "cell_type": "markdown",
   "metadata": {},
   "source": [
    "# Problem #4: Newman 5.9: Heat capacity of a solid"
   ]
  },
  {
   "cell_type": "code",
   "execution_count": 11,
   "metadata": {},
   "outputs": [],
   "source": [
    "# %load gaussxw.py\n",
    "######################################################################\n",
    "#\n",
    "# Functions to calculate integration points and weights for Gaussian\n",
    "# quadrature\n",
    "#\n",
    "# x,w = gaussxw(N) returns integration points x and integration\n",
    "#           weights w such that sum_i w[i]*f(x[i]) is the Nth-order\n",
    "#           Gaussian approximation to the integral int_{-1}^1 f(x) dx\n",
    "# x,w = gaussxwab(N,a,b) returns integration points and weights\n",
    "#           mapped to the interval [a,b], so that sum_i w[i]*f(x[i])\n",
    "#           is the Nth-order Gaussian approximation to the integral\n",
    "#           int_a^b f(x) dx\n",
    "#\n",
    "# This code finds the zeros of the nth Legendre polynomial using\n",
    "# Newton's method, starting from the approximation given in Abramowitz\n",
    "# and Stegun 22.16.6.  The Legendre polynomial itself is evaluated\n",
    "# using the recurrence relation given in Abramowitz and Stegun\n",
    "# 22.7.10.  The function has been checked against other sources for\n",
    "# values of N up to 1000.  It is compatible with version 2 and version\n",
    "# 3 of Python.\n",
    "#\n",
    "# Written by Mark Newman <mejn@umich.edu>, June 4, 2011\n",
    "# You may use, share, or modify this file freely\n",
    "#\n",
    "######################################################################\n",
    "\n",
    "from numpy import ones,copy,cos,tan,pi,linspace\n",
    "\n",
    "def gaussxw(N):\n",
    "\n",
    "    # Initial approximation to roots of the Legendre polynomial\n",
    "    a = linspace(3,4*N-1,N)/(4*N+2)\n",
    "    x = cos(pi*a+1/(8*N*N*tan(a)))\n",
    "\n",
    "    # Find roots using Newton's method\n",
    "    epsilon = 1e-15\n",
    "    delta = 1.0\n",
    "    while delta>epsilon:\n",
    "        p0 = ones(N,float)\n",
    "        p1 = copy(x)\n",
    "        for k in range(1,N):\n",
    "            p0,p1 = p1,((2*k+1)*x*p1-k*p0)/(k+1)\n",
    "        dp = (N+1)*(p0-x*p1)/(1-x*x)\n",
    "        dx = p1/dp\n",
    "        x -= dx\n",
    "        delta = max(abs(dx))\n",
    "\n",
    "    # Calculate the weights\n",
    "    w = 2*(N+1)*(N+1)/(N*N*(1-x*x)*dp*dp)\n",
    "\n",
    "    return x,w\n",
    "\n",
    "def gaussxwab(N,a,b):\n",
    "    x,w = gaussxw(N)\n",
    "    return 0.5*(b-a)*x+0.5*(b+a),0.5*(b-a)*w\n"
   ]
  },
  {
   "cell_type": "markdown",
   "metadata": {},
   "source": [
    "Defining the function:$$C_V=9V\\rho k_B\\left(\\frac{T}{\\theta_D}\\right)^3\\int_0^{\\theta_D/T}\\frac{x^4e^x}{(e^x-1)^2}dx$$"
   ]
  },
  {
   "cell_type": "markdown",
   "metadata": {},
   "source": [
    "$\\textbf{Part(a)}$"
   ]
  },
  {
   "cell_type": "code",
   "execution_count": 12,
   "metadata": {},
   "outputs": [],
   "source": [
    "######defining integrand I(x)\n",
    "###-----------------------------####\n",
    "###-----------------------------####\n",
    "def I(x):\n",
    "    return (x**4*np.exp(x))/(np.expm1(x)**2)\n"
   ]
  },
  {
   "cell_type": "code",
   "execution_count": 13,
   "metadata": {},
   "outputs": [],
   "source": [
    "from scipy.constants import k\n",
    "N=50\n",
    "V=1000e-6   # --------------in cubic meters\n",
    "ro=6.022e28 #  --------------in per cubic meters\n",
    "theta_D=428 #  --------------K\n",
    "k_B = k #--------in S.I units\n",
    "a=0\n",
    "def CV(T):\n",
    "    b=theta_D/T\n",
    "    x,w=gaussxwab(N,a,b)\n",
    "    integral=np.sum(w*I(x))\n",
    "    return (9*ro*V*k_B*(T/theta_D)**3)*integral\n",
    "    "
   ]
  },
  {
   "cell_type": "markdown",
   "metadata": {},
   "source": [
    "$$C_V(min)=\\frac{12\\pi^4}{5}\\rho V k_B\\left(\\frac{T}{\\theta_D}\\right)^3$$\n",
    "$$C_V(max)=\\rho V k_B$$"
   ]
  },
  {
   "cell_type": "markdown",
   "metadata": {},
   "source": [
    "$\\textbf{Part(b)}$"
   ]
  },
  {
   "cell_type": "code",
   "execution_count": 14,
   "metadata": {},
   "outputs": [],
   "source": [
    "def CV_min(T):\n",
    "    return 0.2*(12*np.pi**4)*ro*V*k_B*((T/theta_D)**3)\n",
    "\n",
    "def CV_max(T):\n",
    "    return 3*ro*V*k_B"
   ]
  },
  {
   "cell_type": "code",
   "execution_count": 15,
   "metadata": {},
   "outputs": [
    {
     "data": {
      "image/png": "[encoded data removed]",
      "text/plain": [
       "<Figure size 720x720 with 1 Axes>"
      ]
     },
     "metadata": {
      "needs_background": "light"
     },
     "output_type": "display_data"
    }
   ],
   "source": [
    "fig = plt.figure(figsize=(10,10))\n",
    "x_axis = []\n",
    "y_axis = []\n",
    "y_CV_min= []\n",
    "y_CV_max= []\n",
    "for i in np.arange(2,501,1):\n",
    "    x_axis.append(i)\n",
    "    y_axis.append(CV(i))\n",
    "    y_CV_min.append(CV_min(i))\n",
    "    y_CV_max.append(CV_max(i))\n",
    "# print(y_CV_mm)\n",
    "plt.plot(x_axis,y_axis,label='Heat Capacity C_v')\n",
    "plt.plot(x_axis, y_CV_min,'--',label='low-temperature limit C_v')\n",
    "plt.plot(x_axis, y_CV_max,'--',label='high-temperature limit C_v')\n",
    "plt.xlabel(\" Temperature (T)\",fontsize=15)\n",
    "plt.ylabel(\" $C_V(T)$ \",fontsize=15)\n",
    "plt.legend(loc='best',fontsize=15)\n",
    "plt.ylim(0,3000)\n",
    "plt.title('Heat Capacity $C_V$ of Solid Aluminium based on Debye’s theory of solids')\n",
    "plt.show()"
   ]
  },
  {
   "cell_type": "code",
   "execution_count": null,
   "metadata": {},
   "outputs": [],
   "source": []
  }
 ],
 "metadata": {
  "kernelspec": {
   "display_name": "Python 3",
   "language": "python",
   "name": "python3"
  },
  "language_info": {
   "codemirror_mode": {
    "name": "ipython",
    "version": 3
   },
   "file_extension": ".py",
   "mimetype": "text/x-python",
   "name": "python",
   "nbconvert_exporter": "python",
   "pygments_lexer": "ipython3",
   "version": "3.8.1"
  }
 },
 "nbformat": 4,
 "nbformat_minor": 4
}
