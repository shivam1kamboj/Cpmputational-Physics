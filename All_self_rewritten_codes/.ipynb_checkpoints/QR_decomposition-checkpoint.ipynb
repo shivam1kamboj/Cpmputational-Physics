{
 "cells": [
  {
   "cell_type": "code",
   "execution_count": 1,
   "id": "58c4843f",
   "metadata": {},
   "outputs": [],
   "source": [
    "import numpy as np"
   ]
  },
  {
   "cell_type": "code",
   "execution_count": 2,
   "id": "067bd362",
   "metadata": {},
   "outputs": [],
   "source": [
    "def eigvalsR(A):\n",
    "    m,n=A.shape\n",
    "    if m!=n:\n",
    "        raise Exception('Non-diagonalizable input: Matrix must be a square matrix')\n",
    "        \n",
    "        \n",
    "    Q = np.zeros((m,n))\n",
    "    \n",
    "    itr=0\n",
    "    ###-------------------###np.max(abs(A[np.mask_indices(n, np.triu, 1)]))>1e-6:##\n",
    "    while itr<100:\n",
    "        \n",
    "        for i in range(n):\n",
    "            Q[:,i]=A.T[i]\n",
    "            column= Q[:,i]\n",
    "            \n",
    "            for q in Q.T[:i]:\n",
    "                Q[:,i]-=(q @ column)/(q @ q)* q \n",
    "        Q /=np.linalg.norm(Q,axis=0)\n",
    "        A=Q.T @ A @ Q       #### R =Q.T @ A\n",
    "        itr+=1\n",
    "    \n",
    "    return np.diag(A)"
   ]
  }
 ],
 "metadata": {
  "kernelspec": {
   "display_name": "Python 3 (ipykernel)",
   "language": "python",
   "name": "python3"
  },
  "language_info": {
   "codemirror_mode": {
    "name": "ipython",
    "version": 3
   },
   "file_extension": ".py",
   "mimetype": "text/x-python",
   "name": "python",
   "nbconvert_exporter": "python",
   "pygments_lexer": "ipython3",
   "version": "3.9.12"
  }
 },
 "nbformat": 4,
 "nbformat_minor": 5
}
