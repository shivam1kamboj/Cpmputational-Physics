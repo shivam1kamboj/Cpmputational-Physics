{
 "cells": [
  {
   "cell_type": "code",
   "execution_count": 1,
   "metadata": {},
   "outputs": [],
   "source": [
    "import numpy as np\n",
    "import matplotlib.pyplot as plt\n",
    "from time import time"
   ]
  },
  {
   "cell_type": "code",
   "execution_count": 2,
   "metadata": {},
   "outputs": [],
   "source": [
    "plt.rcParams.update({'font.size': 20})"
   ]
  },
  {
   "cell_type": "markdown",
   "metadata": {},
   "source": [
    "# Intergation\n",
    "## Trapezoidal rule"
   ]
  },
  {
   "cell_type": "code",
   "execution_count": 3,
   "metadata": {},
   "outputs": [
    {
     "data": {
      "text/plain": [
       "4.50656"
      ]
     },
     "execution_count": 3,
     "metadata": {},
     "output_type": "execute_result"
    }
   ],
   "source": [
    "def f(x):\n",
    "    return x**4 -2*x+1\n",
    "def trapezoidal(N,a,b):\n",
    "    h,k=(b-a)/N,np.arange(1,N,1)\n",
    "    return h*(0.5*f(a)+0.5*f(b)+np.sum(f(a+k*h)))\n",
    "trapezoidal(N=10,a=0,b=2)"
   ]
  },
  {
   "cell_type": "code",
   "execution_count": 4,
   "metadata": {},
   "outputs": [],
   "source": [
    "## Cell to check how odd and even distribution of k-points works\n",
    "# N=10\n",
    "# a=0\n",
    "# b=2\n",
    "# h,k=(b-a)/N,np.arange(1,N,1)\n",
    "# k_even,k_odd=k[0::2],k[1::2]  \n",
    "# k_even,k_odd"
   ]
  },
  {
   "cell_type": "markdown",
   "metadata": {},
   "source": [
    "## Simpson's rule"
   ]
  },
  {
   "cell_type": "code",
   "execution_count": 5,
   "metadata": {},
   "outputs": [
    {
     "data": {
      "text/plain": [
       "4.400426666666667"
      ]
     },
     "execution_count": 5,
     "metadata": {},
     "output_type": "execute_result"
    }
   ],
   "source": [
    "def Simpson(N,a,b):\n",
    "    h,k=(b-a)/N,np.arange(1,N,1)\n",
    "    k_odd,k_even=k[0::2],k[1::2]\n",
    "    return h/3*(f(a)+f(b)+4*np.sum(f(a+k_odd*h))+2*np.sum(f(a+k_even*h)))\n",
    "\n",
    "Simpson(N=10,a=0,b=2)"
   ]
  },
  {
   "cell_type": "markdown",
   "metadata": {},
   "source": [
    "## Adaptive Trapezoidal rule"
   ]
  },
  {
   "cell_type": "code",
   "execution_count": 6,
   "metadata": {},
   "outputs": [],
   "source": [
    "## to achieve a target accuracy epsilon \n",
    "def Adaptive_trapezoidal(epsilon,a,b):\n",
    "    N=2\n",
    "    h,k=(b-a)/N,np.arange(1,N,1)\n",
    "    I1=h*(0.5*f(a)+0.5*f(b)+np.sum(f(a+k*h)))\n",
    "    error=1\n",
    "    n_steps=0\n",
    "    while abs(error)>epsilon:\n",
    "        N*=2\n",
    "        h,k=(b-a)/N,np.arange(1,N,1)\n",
    "        I2=0.5*I1+h*(np.sum(f(a+k[0::2]*h)))\n",
    "        error=1/3*(I2-I1)\n",
    "        I1=I2\n",
    "        n_steps+=1\n",
    "    print('number of iterations =',n_steps,',', 'number of points i.e N =',N)\n",
    "    return I1\n",
    "    "
   ]
  },
  {
   "cell_type": "code",
   "execution_count": 7,
   "metadata": {},
   "outputs": [
    {
     "name": "stdout",
     "output_type": "stream",
     "text": [
      "number of iterations = 11 , number of points i.e N = 4096\n"
     ]
    },
    {
     "data": {
      "text/plain": [
       "0.4558320582782708"
      ]
     },
     "execution_count": 7,
     "metadata": {},
     "output_type": "execute_result"
    }
   ],
   "source": [
    "def f(x):\n",
    "    return (np.sin(np.sqrt(100*x)))**2\n",
    "Adaptive_trapezoidal(epsilon=1e-6,a=0,b=1)"
   ]
  },
  {
   "cell_type": "markdown",
   "metadata": {},
   "source": [
    "## Adaptive Simpson's rule"
   ]
  },
  {
   "cell_type": "code",
   "execution_count": 8,
   "metadata": {},
   "outputs": [],
   "source": [
    "def Adaptive_Simpson(epsilon,a,b):\n",
    "    N=2\n",
    "    h,k=(b-a)/N,np.arange(1,N,1)\n",
    "    S1=1/3*(f(a)+f(b)+2*(np.sum(f(a+k[1::2]*h))))\n",
    "    T1=2/3*(np.sum(f(a+k[0::2]*h)))\n",
    "    I1=h*(S1+2*T1)\n",
    "    error=1\n",
    "    n_steps=0\n",
    "    while abs(error)>epsilon:\n",
    "        N*=2\n",
    "        h,k=(b-a)/N,np.arange(1,N,1)\n",
    "        T2=2/3*(np.sum(f(a+k[0::2]*h)))\n",
    "        S2=S1+T1\n",
    "        I2=h*(S2+2*T2)\n",
    "        error=1/15*(I2-I1)\n",
    "        S1=S2\n",
    "        T1=T2\n",
    "        I1=I2\n",
    "        n_steps+=1\n",
    "    print('number of iterations =',n_steps,',', 'number of points i.e N =',N)\n",
    "    return I1"
   ]
  },
  {
   "cell_type": "code",
   "execution_count": 9,
   "metadata": {},
   "outputs": [
    {
     "name": "stdout",
     "output_type": "stream",
     "text": [
      "number of iterations = 7 , number of points i.e N = 256\n"
     ]
    },
    {
     "data": {
      "text/plain": [
       "0.4558321871467207"
      ]
     },
     "execution_count": 9,
     "metadata": {},
     "output_type": "execute_result"
    }
   ],
   "source": [
    "def f(x):\n",
    "    return (np.sin(np.sqrt(100*x)))**2\n",
    "Adaptive_Simpson(epsilon=1e-6,a=0,b=1)"
   ]
  },
  {
   "cell_type": "markdown",
   "metadata": {},
   "source": [
    "## Romberg integration"
   ]
  },
  {
   "cell_type": "code",
   "execution_count": 10,
   "metadata": {
    "scrolled": false
   },
   "outputs": [
    {
     "name": "stdout",
     "output_type": "stream",
     "text": [
      "Romberg table :\n",
      " [[0.14797948 0.         0.         0.         0.         0.\n",
      "  0.         0.         0.        ]\n",
      " [0.32523191 0.38431605 0.         0.         0.         0.\n",
      "  0.         0.         0.        ]\n",
      " [0.51228285 0.57463317 0.58732097 0.         0.         0.\n",
      "  0.         0.         0.        ]\n",
      " [0.40299745 0.36656898 0.35269804 0.34897386 0.         0.\n",
      "  0.         0.         0.        ]\n",
      " [0.43010337 0.43913868 0.44397666 0.44542552 0.44580376 0.\n",
      "  0.         0.         0.        ]\n",
      " [0.44841467 0.45451843 0.45554375 0.45572735 0.45576775 0.45577749\n",
      "  0.         0.         0.        ]\n",
      " [0.45391293 0.45574569 0.4558275  0.45583201 0.45583242 0.45583248\n",
      "  0.45583249 0.         0.        ]\n",
      " [0.4553485  0.45582703 0.45583245 0.45583253 0.45583253 0.45583253\n",
      "  0.45583253 0.45583253 0.        ]\n",
      " [0.45571127 0.45583219 0.45583253 0.45583253 0.45583253 0.45583253\n",
      "  0.45583253 0.45583253 0.45583253]]\n",
      "Error for Romberg index = 6 : [0.00000000e+00 1.83275514e-03 8.18170049e-05 4.50404880e-06\n",
      " 4.10409735e-07 6.32116897e-08 1.34282789e-08 0.00000000e+00\n",
      " 0.00000000e+00]\n"
     ]
    }
   ],
   "source": [
    "np.set_printoptions(threshold=np.inf)\n",
    "def f(x):\n",
    "    return (np.sin(np.sqrt(100*x)))**2\n",
    "### Code taken from H.W Solutions coded by Prof. Strubbe\n",
    "m_max = 10\n",
    "a=0\n",
    "b=1\n",
    "R = np.zeros([m_max,m_max])\n",
    "Rom=np.around(R, decimals=8)\n",
    "err = np.zeros([m_max,m_max-1])\n",
    "\n",
    "for i in range(1,m_max):\n",
    "    N = 2**(i-1)\n",
    "    Rom[i,1]=trapezoidal(N,a,b)\n",
    "    for m in range(1,i):\n",
    "        err[i,m] = (Rom[i,m] - Rom[i-1,m])/(4**m - 1)\n",
    "        Rom[i,m+1] = Rom[i,m] + err[i,m]\n",
    "print('Romberg table :\\n' ,Rom[1:,1:])\n",
    "print('Error for Romberg index = 6 :' ,err[7])"
   ]
  },
  {
   "cell_type": "markdown",
   "metadata": {},
   "source": [
    "## Adaptive Romberg"
   ]
  },
  {
   "cell_type": "code",
   "execution_count": 11,
   "metadata": {},
   "outputs": [],
   "source": [
    "## Adaptive Romberg is convinient to do with list operations \n",
    "def Romberg(epsilon,a,b):\n",
    "    err=1\n",
    "    N=1\n",
    "    Romberg_index=1\n",
    "    R_11=[]\n",
    "    R_21=[]\n",
    "    I_1=trapezoidal(N,a,b)\n",
    "    R_11.append(I_1)\n",
    "    print('m is Romberg index')\n",
    "    print('m= ',Romberg_index,':',R_11)\n",
    "    iterations=0\n",
    "    while abs(err)>epsilon:\n",
    "        R_21=[]\n",
    "        N*=2\n",
    "        h,k=(b-a)/N,np.arange(1,N,1)\n",
    "        I_2=0.5*I_1+h*(np.sum(f(a+k[0::2]*h)))#this will be my R_21; using adptive trapezoidal rule\n",
    "###--------------------------------------------     \n",
    "###--------------------------------------------  \n",
    "###I got error \"division by zero\" using 4**m, so I changed it to 4**(m+1)\n",
    "        R_21.append(I_2)                            #Saving R_21 \n",
    "        for m in range(Romberg_index):\n",
    "            err=(1/(4**(m+1)-1))*(R_21[m]-R_11[m]) ###----------------error.  eq(5.49), Newman\n",
    "            R_2=R_21[m]+err                      ###----------------eq(5.51), Newman\n",
    "            R_21.append(R_2)\n",
    "        Romberg_index+=1\n",
    "        R_11=R_21\n",
    "        I_1=I_2\n",
    "        iterations+=1\n",
    "        print('iteration # =',iterations)\n",
    "        print('number of points N =',N)\n",
    "        print('m= ',Romberg_index,':',R_21)\n",
    "        print('error=',err)"
   ]
  },
  {
   "cell_type": "code",
   "execution_count": 12,
   "metadata": {},
   "outputs": [
    {
     "name": "stdout",
     "output_type": "stream",
     "text": [
      "m is Romberg index\n",
      "m=  1 : [0.14797948454665205]\n",
      "iteration # = 1\n",
      "number of points N = 2\n",
      "m=  2 : [0.3252319078064746, 0.38431604889308213]\n",
      "error= 0.05908414108660751\n",
      "iteration # = 2\n",
      "number of points N = 4\n",
      "m=  3 : [0.5122828507233315, 0.5746331650289505, 0.5873209727713417]\n",
      "error= 0.012687807742391222\n",
      "iteration # = 3\n",
      "number of points N = 8\n",
      "m=  4 : [0.4029974484782483, 0.3665689810632206, 0.35269803546550527, 0.34897386185747614]\n",
      "error= -0.0037241736080291486\n",
      "iteration # = 4\n",
      "number of points N = 16\n",
      "m=  5 : [0.430103369294747, 0.43913867623357994, 0.4439766559116039, 0.44542552290281184, 0.4458037647108328]\n",
      "error= 0.00037824180802092434\n",
      "iteration # = 5\n",
      "number of points N = 32\n",
      "m=  6 : [0.44841466578746997, 0.45451843128504427, 0.4555437482884752, 0.45572735292937794, 0.45576775226281546, 0.455777492231097]\n",
      "error= 9.739968281508006e-06\n",
      "iteration # = 6\n",
      "number of points N = 64\n",
      "m=  7 : [0.4539129312153759, 0.4557456863580112, 0.4558275033628757, 0.4558320074116757, 0.45583241782141015, 0.45583248103309987, 0.45583249446137875]\n",
      "error= 1.3428278877383781e-08\n",
      "iteration # = 7\n",
      "number of points N = 128\n",
      "m=  8 : [0.45534850437280217, 0.4558270287586109, 0.45583245158531754, 0.4558325301285309, 0.4558325321784009, 0.45583253229018683, 0.4558325323027038, 0.45583253230501364]\n",
      "error= 2.3097921670909514e-12\n"
     ]
    }
   ],
   "source": [
    "def f(x):\n",
    "    return (np.sin(np.sqrt(100*x)))**2\n",
    "Romberg(epsilon=10e-10,a=0,b=1)"
   ]
  },
  {
   "cell_type": "code",
   "execution_count": 13,
   "metadata": {},
   "outputs": [
    {
     "data": {
      "image/png": "[encoded data removed]",
      "text/plain": [
       "<Figure size 1800x1440 with 2 Axes>"
      ]
     },
     "metadata": {
      "needs_background": "light"
     },
     "output_type": "display_data"
    }
   ],
   "source": [
    "from gaussxw import gaussxw \n",
    "fig = plt.figure(figsize=(25,20))\n",
    "N=[10,100]\n",
    "for n in range(len(N)) :\n",
    "    plt.subplot(2,2,n+1)\n",
    "    x,w=gaussxw(N[n])\n",
    "    plt.xlabel(\" $w_k$\")\n",
    "    plt.ylabel('$x_k$')\n",
    "    plt.title('Gausian Quadrature for N ='+str(N[n]), fontsize=25)\n",
    "    plt.bar(x,w,width=0.01)\n",
    "plt.show()\n",
    "\n",
    "# xx=0.5*(b-a)*x+0.5*(b+a)     ## Integration points for the limits of integration a,b\n",
    "# ww=0.5*(b-a)*w               ##wieghts w mapped with integration limit"
   ]
  },
  {
   "cell_type": "code",
   "execution_count": 14,
   "metadata": {},
   "outputs": [
    {
     "data": {
      "image/png": "[encoded data removed]",
      "text/plain": [
       "<Figure size 432x288 with 1 Axes>"
      ]
     },
     "metadata": {
      "needs_background": "light"
     },
     "output_type": "display_data"
    }
   ],
   "source": [
    "y_axis = np.sin(np.linspace(1, 21, 200))\n",
    "plt.plot(y_axis)\n",
    "plt.vlines(x=[37, 37.25, 37.5], ymin=min(y_axis), ymax=max(y_axis))\n",
    "plt.show()"
   ]
  },
  {
   "cell_type": "code",
   "execution_count": 15,
   "metadata": {},
   "outputs": [
    {
     "name": "stdout",
     "output_type": "stream",
     "text": [
      "4.4000000000000075\n"
     ]
    }
   ],
   "source": [
    "### See the beauty of gaussian quadrature now:\n",
    "## Calculating integral\n",
    "def I_1(x):\n",
    "    return x**4 -2*x+1\n",
    "def I_2(x):\n",
    "    return (np.sin(np.sqrt(100*x)))**2\n",
    "x,w=gaussxw(N=3)\n",
    "a=0\n",
    "b=2\n",
    "xx,ww=0.5*(b-a)*x+0.5*(b+a),0.5*(b-a)*w\n",
    "I_1=np.sum(ww*I_1(xx))\n",
    "print(I_1)\n"
   ]
  },
  {
   "cell_type": "code",
   "execution_count": 16,
   "metadata": {},
   "outputs": [
    {
     "name": "stdout",
     "output_type": "stream",
     "text": [
      "0.4558325330654303\n"
     ]
    }
   ],
   "source": [
    "##Now calculating I_2\n",
    "x,w=gaussxw(N=10)\n",
    "a=0\n",
    "b=1\n",
    "xx,ww=0.5*(b-a)*x+0.5*(b+a),0.5*(b-a)*w\n",
    "I_2=np.sum(ww*I_2(xx))\n",
    "print(I_2)\n"
   ]
  },
  {
   "cell_type": "code",
   "execution_count": null,
   "metadata": {},
   "outputs": [],
   "source": []
  }
 ],
 "metadata": {
  "kernelspec": {
   "display_name": "Python 3 (ipykernel)",
   "language": "python",
   "name": "python3"
  },
  "language_info": {
   "codemirror_mode": {
    "name": "ipython",
    "version": 3
   },
   "file_extension": ".py",
   "mimetype": "text/x-python",
   "name": "python",
   "nbconvert_exporter": "python",
   "pygments_lexer": "ipython3",
   "version": "3.9.12"
  }
 },
 "nbformat": 4,
 "nbformat_minor": 4
}
